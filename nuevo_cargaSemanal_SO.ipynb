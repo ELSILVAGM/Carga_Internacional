{
 "cells": [
  {
   "cell_type": "markdown",
   "id": "3d4bbf21",
   "metadata": {},
   "source": [
    "### Dependencias"
   ]
  },
  {
   "cell_type": "code",
   "execution_count": 77,
   "id": "f049ddf9",
   "metadata": {},
   "outputs": [
    {
     "data": {
      "text/plain": [
       "True"
      ]
     },
     "execution_count": 77,
     "metadata": {},
     "output_type": "execute_result"
    }
   ],
   "source": [
    "#Librerias\n",
    "import pandas as pd\n",
    "pd.set_option('display.float_format', '{:,.2f}'.format)\n",
    "import numpy as np\n",
    "import os\n",
    "import pyodbc\n",
    "import snowflake.connector\n",
    "from snowflake.connector.pandas_tools import write_pandas\n",
    "from sqlalchemy import create_engine\n",
    "from datetime import datetime\n",
    "import re\n",
    "from thefuzz import process\n",
    "import matplotlib.pyplot as plt\n",
    "from dotenv import load_dotenv\n",
    "import plotly.graph_objects as go\n",
    "from plotly.subplots import make_subplots\n",
    "from PyPDF2 import PdfMerger\n",
    "import json\n",
    "from snowflake.connector import ProgrammingError\n",
    "# Cargar variables desde .env\n",
    "load_dotenv()"
   ]
  },
  {
   "cell_type": "code",
   "execution_count": 78,
   "id": "f426d435",
   "metadata": {},
   "outputs": [],
   "source": [
    "paises_snowflake = {\n",
    "    'brasil': (\"Brasil\", (22,)),\n",
    "    'caricam': (\"CARICAM\", (14, 15, 16, 17, 19, 20)),\n",
    "    'eu': (\"EU\", (8,)),\n",
    "    'paraguay': (\"Paraguay\", (24,)),\n",
    "    'colombia': (\"Colombia\", (6,)),\n",
    "    'ecuador': (\"Ecuador\", (12,)),\n",
    "    'uruguay': (\"Uruguay\", (23,)),\n",
    "    'chile': (\"Chile\", (13,)),\n",
    "    'dominicana': (\"Rep. Dominicana\", (21,)),\n",
    "    'peru': (\"Perú\", (10,))\n",
    "}\n",
    "columnas_sumar = [\n",
    "    'Precio Unitario VTA GLI', 'Unidades Desplazadas',\n",
    "    'Unidades Inv. CEDIS', 'Unidades Inv. Transito', 'Unidades Inv. Tienda',\n",
    "    'Monto Desplazado Bruto ML'\n",
    "]"
   ]
  },
  {
   "cell_type": "markdown",
   "id": "5b409fb5",
   "metadata": {},
   "source": [
    "### 👉 Aquí modificar el país"
   ]
  },
  {
   "cell_type": "code",
   "execution_count": 79,
   "id": "aa667060",
   "metadata": {},
   "outputs": [],
   "source": [
    "# MODIFICAR\n",
    "PaisCarga =\"CARICAM\"  # Cambiar por el país deseado\n",
    "ambiente ='DEV_'\n",
    "# No es necesario modificar\n",
    "PaisCarpeta = paises_snowflake[PaisCarga.lower()][0]\n",
    "PaisSF = paises_snowflake[PaisCarga.lower()][1]"
   ]
  },
  {
   "cell_type": "markdown",
   "id": "d5acf853",
   "metadata": {},
   "source": [
    "### Funciones"
   ]
  },
  {
   "cell_type": "code",
   "execution_count": 80,
   "id": "47fe13f9",
   "metadata": {},
   "outputs": [],
   "source": [
    "def extraer_rango_semanas(nombre_archivo):\n",
    "    \"\"\"\n",
    "    Extrae rango de semanas del patrón SO_yyyyww_yyyyww.\n",
    "    Devuelve (inicio, fin) como enteros YYYYWW.\n",
    "    Considera años bisiestos para validación precisa de semana 53.\n",
    "    \"\"\"\n",
    "    # Patrón básico para capturar años y semanas\n",
    "    patron = r'SO_(20\\d{2})(0[1-9]|[1-4]\\d|5[0-3])_(20\\d{2})(0[1-9]|[1-4]\\d|5[0-3])'\n",
    "    match = re.search(patron, nombre_archivo, re.IGNORECASE)\n",
    "    \n",
    "    if not match:\n",
    "        raise ValueError(\"Patrón SO_yyyyww_yyyyww no encontrado o formato inválido.\")\n",
    "    \n",
    "    año1, sem1, año2, sem2 = map(int, match.groups())\n",
    "    \n",
    "    # Validar semana 53 solo para años que la tienen\n",
    "    def tiene_semana_53(año):\n",
    "        # Años que tienen 53 semanas: cuando 1 de enero cae en jueves, \n",
    "        # o cuando es año bisiesto y 1 de enero cae en miércoles\n",
    "        from datetime import date\n",
    "        primer_dia = date(año, 1, 1).weekday()  # 0=lunes, 6=domingo\n",
    "        es_bisiesto = año % 4 == 0 and (año % 100 != 0 or año % 400 == 0)\n",
    "        return primer_dia == 3 or (es_bisiesto and primer_dia == 2)\n",
    "    \n",
    "    if sem1 == 53 and not tiene_semana_53(año1):\n",
    "        raise ValueError(f\"El año {año1} no tiene semana 53.\")\n",
    "    if sem2 == 53 and not tiene_semana_53(año2):\n",
    "        raise ValueError(f\"El año {año2} no tiene semana 53.\")\n",
    "    \n",
    "    return año1 * 100 + sem1, año2 * 100 + sem2"
   ]
  },
  {
   "cell_type": "code",
   "execution_count": 81,
   "id": "bcc4a00c",
   "metadata": {},
   "outputs": [],
   "source": [
    "def resumir_dataframe(df, columnas_sumar,desc,montos_faltan=None):\n",
    " \n",
    "    # Convertir columnas de suma a float si existen y no lo son\n",
    "\n",
    "    columnas_sumar_existentes = [col for col in columnas_sumar if col in df.columns]\n",
    "    for col in columnas_sumar_existentes:\n",
    "        if col in df.columns and not pd.api.types.is_float_dtype(df[col]):\n",
    "            df[col] = pd.to_numeric(df[col], errors='coerce')\n",
    "    # Calcular resumen)\n",
    "    suma_totales = df[columnas_sumar_existentes].sum()\n",
    "    if montos_faltan is not None and not montos_faltan.empty:\n",
    "        suma_totales = suma_totales.add(montos_faltan, fill_value=0)\n",
    "\n",
    "    # Unir ambos resultados\n",
    "    resumen = suma_totales.reset_index()\n",
    "    resumen.columns = ['Variable', f'Resumen_{desc}']\n",
    "    # Agregar columna con longitud del DataFrame original\n",
    "    resumen.loc[len(resumen)] = ['Total Filas en df', len(df)]\n",
    "    return resumen"
   ]
  },
  {
   "cell_type": "code",
   "execution_count": null,
   "id": "1d122da0",
   "metadata": {},
   "outputs": [],
   "source": [
    "def exportar_rechazos_por_campo(\n",
    "    df: pd.DataFrame,\n",
    "    campo_faltante: str,\n",
    "    columnas_agrupacion: list,\n",
    "    columnas_suma: list,\n",
    "    carpeta_rechazos: str,\n",
    "    pais: str\n",
    "):\n",
    "    try:\n",
    "        # Filtrar rechazos\n",
    "        df_rechazos = df[df[campo_faltante].isna()]\n",
    "        df_rechazos = df_rechazos.dropna(axis=1, how='all')\n",
    "        if df_rechazos.empty:\n",
    "            print(f\"Sin rechazos de {campo_faltante}\")\n",
    "            return None\n",
    "        # Agrupar datos con las que columnas que sí existan en el DataFrame\n",
    "        columnas_agrupacion = [col for col in columnas_agrupacion if col in df_rechazos.columns]\n",
    "        columnas_suma = [col for col in columnas_suma if col in df_rechazos.columns]\n",
    "        df_rechazos_agrupado = df_rechazos.groupby(columnas_agrupacion, as_index=False)[columnas_suma].sum()\n",
    "        # Eliminar registros donde todas las columnas de suma sean cero\n",
    "        #df_rechazos_agrupado = df_rechazos_agrupado.loc[df_rechazos_agrupado[columnas_suma].sum(axis=1) != 0]\n",
    "        # Agregar columnas adicionales\n",
    "        df_rechazos_agrupado['Fecha Rechazo'] = datetime.now().strftime(\"%Y-%m-%d\")\n",
    "        #df_rechazos_agrupado['Sem Métrica'] = semana\n",
    "        df_rechazos_agrupado['Métrica'] = 'SO'\n",
    "        df_rechazos_agrupado.rename(columns={'PAISID': 'País', 'Nombre Grupo':'GrpNombre', 'Nombre Cadena/Formato':'Cadena', \n",
    "                                            'GRPID':'GrpID', 'Descripción presentación de producto':'Descripción','Material SAP':'Código (SAP/ERP)', \n",
    "                                            'Cód. Interno ERP':'Código (SAP/ERP)'}, inplace=True)\n",
    "        df_rechazos_agrupado.drop(columns=['SEMID'], inplace=True, errors='ignore')\n",
    "        # Crear carpeta si no existe\n",
    "        os.makedirs(carpeta_rechazos, exist_ok=True)\n",
    "        # Exportar archivo\n",
    "        hoy = datetime.now().strftime(\"%Y%m%d\")\n",
    "        salida = os.path.join(carpeta_rechazos, f\"Rechazos_SO_{campo_faltante}_{pais}_{hoy}.xlsx\")\n",
    "        df_rechazos_agrupado.to_excel(salida, index=False)\n",
    "        print(f\"Se generaron rechazos de {campo_faltante}: {salida}\")\n",
    "        return df_rechazos_agrupado\n",
    "    except Exception as e:\n",
    "        print(f\"Error al exportar rechazos de {campo_faltante}: {e}\")\n",
    "        return None"
   ]
  },
  {
   "cell_type": "code",
   "execution_count": 83,
   "id": "d369e21f",
   "metadata": {},
   "outputs": [],
   "source": [
    "def read_sql_upper(query: str, engine, params=None):\n",
    "    try:\n",
    "        df = pd.read_sql(query, engine, params=params)\n",
    "        if df.empty:\n",
    "            print(f\"El DataFrame resultante está vacío de {query}.\")\n",
    "            return pd.DataFrame(columns=[col.upper() for col in df.columns])\n",
    "        df.columns = [col.upper() for col in df.columns]\n",
    "        return df\n",
    "    except Exception as e:\n",
    "        raise RuntimeError(f\"Error al ejecutar la consulta SQL o procesar los resultados: {e}\")"
   ]
  },
  {
   "cell_type": "code",
   "execution_count": 84,
   "id": "ad7f6eeb",
   "metadata": {},
   "outputs": [],
   "source": [
    "def fuzzy_merge(df_base, df_catalogo, campo_base, campo_catalogo, campos_join_adicionales=[], campo_valor='GRPID', score_minimo=80):\n",
    "    df = df_base.copy()\n",
    "    # Paso 1: merge exacto\n",
    "    df_merged = df.merge(\n",
    "        df_catalogo[campos_join_adicionales + [campo_catalogo, campo_valor]].drop_duplicates(),\n",
    "        left_on=campos_join_adicionales + [campo_base],\n",
    "        right_on=campos_join_adicionales + [campo_catalogo],\n",
    "        how='left'\n",
    "    )\n",
    "    # Paso 2: filtrar los que no hicieron match exacto\n",
    "    no_match = df_merged[df_merged[campo_valor].isna()].copy()\n",
    "    no_match_unique = no_match[campos_join_adicionales + [campo_base]].drop_duplicates()\n",
    "    # Paso 3: aplicar fuzzy matching por grupo (por ejemplo, PAISID)\n",
    "    matches = []\n",
    "    for keys, grupo in no_match_unique.groupby(campos_join_adicionales):\n",
    "        base_valores = grupo[campo_base].dropna().unique()\n",
    "        # Filtra catálogo por valores adicionales\n",
    "        mask = (df_catalogo[campos_join_adicionales] == pd.Series(keys, index=campos_join_adicionales)).all(axis=1)\n",
    "        catalogo_valores = df_catalogo[mask][campo_catalogo].dropna().unique()\n",
    "        for valor in base_valores:\n",
    "            # Calculan las operaciones mínimas necesarias para convertir una caden en otra\n",
    "            match, score = process.extractOne(valor, catalogo_valores)\n",
    "            if score >= score_minimo:\n",
    "                matches.append({\n",
    "                    **dict(zip(campos_join_adicionales, keys)),\n",
    "                    campo_base: valor,\n",
    "                    f'{campo_catalogo}_MATCH': match,\n",
    "                    'SCORE_MATCH': score\n",
    "                })\n",
    "\n",
    "    # Paso 4: unir fuzzy matches y traer valor del catálogo\n",
    "    df_match = pd.DataFrame(matches)\n",
    "    if df_match.empty:\n",
    "        return df_merged, df_match # nada que actualizar\n",
    "    df_match = df_match.merge(\n",
    "        df_catalogo[campos_join_adicionales + [campo_catalogo, campo_valor]].drop_duplicates(),\n",
    "        left_on=campos_join_adicionales + [f'{campo_catalogo}_MATCH'],\n",
    "        right_on=campos_join_adicionales + [campo_catalogo],\n",
    "        how='left'\n",
    "    )\n",
    "    # Paso 5: actualizar solo los valores faltantes (sin MultiIndex)\n",
    "    for col in [campo_valor, f'{campo_catalogo}_MATCH', 'SCORE_MATCH']:\n",
    "        if col in df_match.columns:\n",
    "            cols_para_merge = campos_join_adicionales + [campo_base, col]\n",
    "            df_merged = df_merged.merge(\n",
    "                df_match[cols_para_merge],\n",
    "                on=campos_join_adicionales + [campo_base],\n",
    "                how='left',\n",
    "                suffixes=('', '_FUZZY')\n",
    "            )\n",
    "            col_fuzzy = f\"{col}_FUZZY\"\n",
    "            if col_fuzzy in df_merged.columns:\n",
    "                df_merged[col] = df_merged[col].combine_first(df_merged[col_fuzzy])\n",
    "                df_merged.drop(columns=[col_fuzzy], inplace=True)\n",
    "    return df_merged.reset_index(), df_match\n"
   ]
  },
  {
   "cell_type": "code",
   "execution_count": 85,
   "id": "e03c85f1",
   "metadata": {},
   "outputs": [],
   "source": [
    "def resaltar_diferencias(row, columnas, df_diferencias, color='#ffb3c6'):\n",
    "    estilos = [''] * len(row)\n",
    "    for i, col in enumerate(row.index):\n",
    "        if col.endswith('_insertado'):\n",
    "            base_col = col.replace('_insertado', '')\n",
    "            if base_col in df_diferencias.columns and df_diferencias.loc[row.name, base_col]:\n",
    "                estilo = f'background-color: {color}; color: #333;'\n",
    "                estilos[i] = estilo\n",
    "                idx_base = list(row.index).index(base_col)\n",
    "                estilos[idx_base] = estilo\n",
    "    return estilos\n"
   ]
  },
  {
   "cell_type": "code",
   "execution_count": 86,
   "id": "dc77ed1a",
   "metadata": {},
   "outputs": [],
   "source": [
    "def graficar_por_tipocomprod_interactivo(df_hist, df_nuevo_con_rechazos, campos, df_nuevo_sin_rechazos=None, campo_x='SEMID'): \n",
    "    \"\"\"\n",
    "    Grafica datos históricos, nuevos y opcionalmente nuevos sin rechazos por tipo de producto.\n",
    "    \n",
    "    Args:\n",
    "        df_hist: DataFrame con datos históricos\n",
    "        df_nuevo: DataFrame con datos nuevos\n",
    "        campos: Lista de campos a graficar\n",
    "        df_nuevo_sin_rechazos: DataFrame opcional con datos nuevos sin rechazos\n",
    "        campo_x: Campo para el eje X (default: 'SEMID')\n",
    "    \"\"\"\n",
    "    # Obtener todos los tipos únicos de productos de todos los DataFrames disponibles\n",
    "    tipos_set = set(df_hist['PAISID']).union(df_nuevo_con_rechazos['PAISID'])\n",
    "    \n",
    "    if df_nuevo_sin_rechazos is not None:\n",
    "        tipos_set = tipos_set.union(df_nuevo_sin_rechazos['PAISID'])\n",
    "    \n",
    "    tipos = sorted(tipos_set)\n",
    "    \n",
    "    # Generar un gráfico por cada tipo de producto\n",
    "    for tipo in tipos:\n",
    "        # Filtrar datos para el tipo actual\n",
    "        df_hist_tipo = df_hist[df_hist['PAISID'] == tipo]\n",
    "        df_nuevo_tipo = df_nuevo_con_rechazos[df_nuevo_con_rechazos['PAISID'] == tipo]\n",
    "        \n",
    "        # Filtrar datos nuevos sin rechazos si está disponible\n",
    "        df_nuevo_sin_rechazos_tipo = None\n",
    "        if df_nuevo_sin_rechazos is not None:\n",
    "            df_nuevo_sin_rechazos_tipo = df_nuevo_sin_rechazos[df_nuevo_sin_rechazos['PAISID'] == tipo]\n",
    "\n",
    "        # Omitir si todos los DataFrames están vacíos para este tipo\n",
    "        if (df_hist_tipo.empty and \n",
    "            df_nuevo_tipo.empty and \n",
    "            (df_nuevo_sin_rechazos_tipo is None or df_nuevo_sin_rechazos_tipo.empty)):\n",
    "            continue\n",
    "\n",
    "        # Obtener país (priorizar datos históricos, luego nuevos, luego sin rechazos)\n",
    "        pais = \"Desconocido\"\n",
    "        if not df_hist_tipo.empty and 'PAIS' in df_hist_tipo.columns:\n",
    "            paises = df_hist_tipo['PAIS'].unique()\n",
    "            pais = paises[0] if len(paises) > 0 else \"Desconocido\"\n",
    "        elif not df_nuevo_tipo.empty and 'PAIS' in df_nuevo_tipo.columns:\n",
    "            paises = df_nuevo_tipo['PAIS'].unique()\n",
    "            pais = paises[0] if len(paises) > 0 else \"Desconocido\"\n",
    "        elif (df_nuevo_sin_rechazos_tipo is not None and \n",
    "              not df_nuevo_sin_rechazos_tipo.empty and \n",
    "              'PAIS' in df_nuevo_sin_rechazos_tipo.columns):\n",
    "            paises = df_nuevo_sin_rechazos_tipo['PAIS'].unique()\n",
    "            pais = paises[0] if len(paises) > 0 else \"Desconocido\"\n",
    "\n",
    "        # Crear figura con subgráficos (1 fila, n columnas)\n",
    "        n = len(campos)\n",
    "        fig = make_subplots(\n",
    "            rows=1, \n",
    "            cols=n, \n",
    "            subplot_titles=campos,\n",
    "            shared_xaxes=True,\n",
    "            shared_yaxes=False\n",
    "        )\n",
    "\n",
    "        fig.update_layout(\n",
    "            title=f'Comparación por país: {pais}, tipo: {tipo}',\n",
    "            showlegend=True,\n",
    "            height=400,\n",
    "            width=400 * n\n",
    "        )\n",
    "\n",
    "        # Añadir gráficos por campo\n",
    "        for i, campo in enumerate(campos, 1):\n",
    "            # Datos históricos\n",
    "            if not df_hist_tipo.empty and campo in df_hist_tipo.columns:\n",
    "                fig.add_trace(\n",
    "                    go.Scatter(\n",
    "                        x=df_hist_tipo[campo_x],\n",
    "                        y=df_hist_tipo[campo],\n",
    "                        name='Histórico',\n",
    "                        mode='lines+markers',\n",
    "                        marker=dict(color='blue'),\n",
    "                        showlegend=(i == 1)\n",
    "                    ),\n",
    "                    row=1, col=i\n",
    "                )\n",
    "\n",
    "            # Datos nuevos (con rechazos)\n",
    "            if not df_nuevo_tipo.empty and campo in df_nuevo_tipo.columns:\n",
    "                if len(df_nuevo_tipo) == 1:\n",
    "                    fig.add_trace(\n",
    "                        go.Scatter(\n",
    "                            x=df_nuevo_tipo[campo_x],\n",
    "                            y=df_nuevo_tipo[campo],\n",
    "                            name='Nuevo con rechazos',\n",
    "                            mode='markers',\n",
    "                            marker=dict(color='red', size=10),\n",
    "                            showlegend=(i == 1)\n",
    "                        ),\n",
    "                        row=1, col=i\n",
    "                    )\n",
    "                else:\n",
    "                    fig.add_trace(\n",
    "                        go.Scatter(\n",
    "                            x=df_nuevo_tipo[campo_x],\n",
    "                            y=df_nuevo_tipo[campo],\n",
    "                            name='Nuevo con rechazos',\n",
    "                            mode='lines+markers',\n",
    "                            line=dict(dash='dash'),\n",
    "                            marker=dict(color='red', symbol='x'),\n",
    "                            showlegend=(i == 1)\n",
    "                        ),\n",
    "                        row=1, col=i\n",
    "                    )\n",
    "\n",
    "            # Datos nuevos sin rechazos (si está disponible)\n",
    "            if (df_nuevo_sin_rechazos_tipo is not None and \n",
    "                not df_nuevo_sin_rechazos_tipo.empty and \n",
    "                campo in df_nuevo_sin_rechazos_tipo.columns):\n",
    "                \n",
    "                if len(df_nuevo_sin_rechazos_tipo) == 1:\n",
    "                    fig.add_trace(\n",
    "                        go.Scatter(\n",
    "                            x=df_nuevo_sin_rechazos_tipo[campo_x],\n",
    "                            y=df_nuevo_sin_rechazos_tipo[campo],\n",
    "                            name='Nuevo sin rechazos',\n",
    "                            mode='markers',\n",
    "                            marker=dict(color='green', size=10, symbol='diamond'),\n",
    "                            showlegend=(i == 1)\n",
    "                        ),\n",
    "                        row=1, col=i\n",
    "                    )\n",
    "                else:\n",
    "                    fig.add_trace(\n",
    "                        go.Scatter(\n",
    "                            x=df_nuevo_sin_rechazos_tipo[campo_x],\n",
    "                            y=df_nuevo_sin_rechazos_tipo[campo],\n",
    "                            name='Nuevo sin rechazos',\n",
    "                            mode='lines+markers',\n",
    "                            line=dict(dash='dot'),\n",
    "                            marker=dict(color='green', symbol='diamond'),\n",
    "                            showlegend=(i == 1)\n",
    "                        ),\n",
    "                        row=1, col=i\n",
    "                    )\n",
    "\n",
    "            # Ejes\n",
    "            fig.update_xaxes(title_text=campo_x, row=1, col=i)\n",
    "            if i == 1:\n",
    "                fig.update_yaxes(title_text='Valor', row=1, col=i)\n",
    "\n",
    "        # Mostrar gráfico\n",
    "        fig.show()"
   ]
  },
  {
   "cell_type": "code",
   "execution_count": 87,
   "id": "dac8e15e",
   "metadata": {},
   "outputs": [],
   "source": [
    "def generar_grafico_comparativo(\n",
    "    df_hec, \n",
    "    df_dm, \n",
    "    campo_metrica=\"SOUTMONTODESPBRT\",\n",
    "    titulo=\"Comparativo HEC vs DM con Banda de Desviación\",\n",
    "    archivo_salida=\"pagina_figura.pdf\",\n",
    "    mostrar_bandas=True,\n",
    "    referencia_estadisticas=\"dm\"\n",
    "):\n",
    "    \"\"\"\n",
    "    Genera gráfico comparativo entre HEC y DM con bandas de desviación\n",
    "    \n",
    "    Parámetros:\n",
    "    -----------\n",
    "    df_hec : DataFrame\n",
    "        DataFrame con datos de HEC\n",
    "    df_dm : DataFrame\n",
    "        DataFrame con datos de DM\n",
    "    campo_metrica : str, default \"soutmontodesp\"\n",
    "        Campo métrica a comparar\n",
    "    titulo : str\n",
    "        Título del gráfico\n",
    "    archivo_salida : str\n",
    "        Nombre del archivo PDF de salida\n",
    "    mostrar_bandas : bool, default True\n",
    "        Si mostrar las bandas estadísticas\n",
    "    referencia_estadisticas : str, default \"dm\"\n",
    "        Sobre qué datos calcular estadísticas (\"dm\", \"hec\", o \"ambos\")\n",
    "    \n",
    "    Retorna:\n",
    "    --------\n",
    "    plotly.graph_objects.Figure\n",
    "    \"\"\"\n",
    "    \n",
    "    # Agrupar datos\n",
    "    ventas_hec = (df_hec.groupby(['SEMANIO', 'SEMNUMERO'])[campo_metrica]\n",
    "                  .sum()\n",
    "                  .reset_index(name='ventas_hec'))\n",
    "    \n",
    "    ventas_dm = (df_dm.groupby(['SEMANIO', 'SEMNUMERO'])[campo_metrica]\n",
    "                  .sum()\n",
    "                  .reset_index(name='ventas_dm'))\n",
    "    \n",
    "    # Unir y procesar datos\n",
    "    df_comparado = pd.merge(ventas_hec, ventas_dm, \n",
    "                           on=['SEMANIO', 'SEMNUMERO'], \n",
    "                           how='outer').fillna(0)\n",
    "    \n",
    "    df_comparado['semana_str'] = (df_comparado['SEMANIO'].astype(str) + \n",
    "                                 '-S' + df_comparado['SEMNUMERO'].astype(str))\n",
    "    \n",
    "    df_comparado = df_comparado.sort_values(['SEMANIO', 'SEMNUMERO'])\n",
    "    df_comparado['diferencia'] = df_comparado['ventas_hec'] - df_comparado['ventas_dm']\n",
    "    df_comparado['diferencia_abs'] = df_comparado['diferencia'].abs()\n",
    "    \n",
    "    # Crear figura\n",
    "    fig = go.Figure()\n",
    "    \n",
    "    # Banda de desviación (para resaltar diferencia entre ambas líneas)\n",
    "    fig.add_trace(go.Scatter(\n",
    "        x=pd.concat([df_comparado['semana_str'], df_comparado['semana_str'][::-1]]),\n",
    "        y=pd.concat([df_comparado['ventas_hec'], df_comparado['ventas_dm'][::-1]]),\n",
    "        fill='toself',\n",
    "        fillcolor='rgba(255, 0, 0, 0.25)',\n",
    "        line=dict(color='rgba(255,255,255,0)'),\n",
    "        name='Desviación',\n",
    "        showlegend=True\n",
    "    ))\n",
    "    \n",
    "    # Línea DM\n",
    "    fig.add_trace(go.Scatter(\n",
    "        x=df_comparado['semana_str'],\n",
    "        y=df_comparado['ventas_dm'],\n",
    "        mode='lines+markers',\n",
    "        name='DM',\n",
    "        line=dict(color='blue')\n",
    "    ))\n",
    "    \n",
    "    # Línea HEC\n",
    "    fig.add_trace(go.Scatter(\n",
    "        x=df_comparado['semana_str'],\n",
    "        y=df_comparado['ventas_hec'],\n",
    "        mode='lines+markers',\n",
    "        name='HEC',\n",
    "        line=dict(color='green')\n",
    "    ))\n",
    "    \n",
    "    # Configurar layout básico\n",
    "    fig.update_layout(\n",
    "        title=titulo,\n",
    "        xaxis_title='Semana',\n",
    "        yaxis_title=f'{campo_metrica.upper()}',\n",
    "        legend_title='Fuente',\n",
    "        hovermode='x unified'\n",
    "    )\n",
    "    \n",
    "    fig.update_xaxes(tickfont=dict(size=9))\n",
    "    \n",
    "    # Agregar bandas estadísticas si se requiere\n",
    "    if mostrar_bandas and len(df_comparado) > 1:\n",
    "        # Determinar sobre qué datos calcular estadísticas\n",
    "        if referencia_estadisticas.lower() == \"dm\":\n",
    "            datos_ref = df_comparado['ventas_dm']\n",
    "        elif referencia_estadisticas.lower() == \"hec\":\n",
    "            datos_ref = df_comparado['ventas_hec']\n",
    "        else:  # \"ambos\"\n",
    "            datos_ref = pd.concat([df_comparado['ventas_dm'], df_comparado['ventas_hec']])\n",
    "        \n",
    "        media = datos_ref.mean()\n",
    "        std = datos_ref.std()\n",
    "        upper_band = media + std\n",
    "        lower_band = media - std\n",
    "        \n",
    "        # Líneas estadísticas\n",
    "        fig.add_hline(\n",
    "            y=media, \n",
    "            line_dash=\"dash\", \n",
    "            line_color=\"orange\", \n",
    "            annotation_text=\"Media\", \n",
    "            annotation_position=\"top left\"\n",
    "        )\n",
    "        fig.add_hline(\n",
    "            y=upper_band, \n",
    "            line_dash=\"dot\", \n",
    "            line_color=\"red\", \n",
    "            annotation_text=\"Media + STD\", \n",
    "            annotation_position=\"top left\"\n",
    "        )\n",
    "        fig.add_hline(\n",
    "            y=lower_band, \n",
    "            line_dash=\"dot\", \n",
    "            line_color=\"red\", \n",
    "            annotation_text=\"Media - STD\", \n",
    "            annotation_position=\"bottom left\"\n",
    "        )\n",
    "    \n",
    "    return fig\n"
   ]
  },
  {
   "cell_type": "markdown",
   "id": "6db1fc07",
   "metadata": {},
   "source": [
    "### Cargar archivo"
   ]
  },
  {
   "cell_type": "code",
   "execution_count": 88,
   "id": "125556cd",
   "metadata": {},
   "outputs": [
    {
     "name": "stdout",
     "output_type": "stream",
     "text": [
      "Archivo más reciente: C:\\\\Users\\\\elsilva\\\\OneDrive - genommalabinternacional\\\\Layout Internacional\\\\data\\CARICAM\\CARICAM_SO_202534_202534.xlsx\n",
      "Semanas a procesar : 202534, 202534\n"
     ]
    }
   ],
   "source": [
    "ruta_base = os.getenv(\"RUTA_BASE\")\n",
    "ruta_destino = os.getenv(\"RUTA_DESTINO\")\n",
    "\n",
    "carpeta_pais = os.path.join(ruta_base, PaisCarpeta)\n",
    "carpeta_pais_destino = os.path.join(ruta_destino, PaisCarpeta)\n",
    "\n",
    "if os.path.exists(carpeta_pais) and os.path.isdir(carpeta_pais):\n",
    "        archivos_xlsx = [\n",
    "            os.path.join(carpeta_pais, f)\n",
    "            for f in os.listdir(carpeta_pais)\n",
    "            if f.endswith(\".xlsx\") and os.path.isfile(os.path.join(carpeta_pais, f))\n",
    "        ]\n",
    "        if not archivos_xlsx:\n",
    "            raise RuntimeError(\"No se encontró ningún archivo .xlsx en la carpeta.\")\n",
    "        # Ordenar por fecha de modificación descendente (más reciente primero)\n",
    "        archivos_xlsx.sort(key=os.path.getmtime, reverse=True)\n",
    "        ruta_archivo = archivos_xlsx[0]\n",
    "        print(f\"Archivo más reciente: {ruta_archivo}\")\n",
    "        try:\n",
    "            df = pd.read_excel(\n",
    "                ruta_archivo,sheet_name=\"LayOut_SellOut\", skiprows=6,usecols=\"I:Y\",engine='openpyxl',\n",
    "                dtype={ #\"Monto Desplazado Bruto ML\": float,\"Monto Desplazado Neto ML\": float,\"Factor Bruto Neto SellOut\": float, \n",
    "                    'Nombre Cadena/Formato': str,'Nombre Grupo': str,}\n",
    "            )\n",
    "    \n",
    "            for col in [\"Monto Desplazado Bruto ML\", \"Monto Desplazado Neto ML\", \"Factor Bruto Neto SellOut\", \"Unidades Inv. Tienda\"]:\n",
    "                if col in df.columns:\n",
    "                    df[col] = (\n",
    "                        df[col]\n",
    "                        .astype(str).str.strip()\n",
    "                        .replace(r'[^0-9\\.-]', '', regex=True)\n",
    "                        .replace(r'^-$', '0', regex=True)\n",
    "                        .replace(r'^$', '0', regex=True)\n",
    "                        .astype(float)\n",
    "                    )\n",
    "            df = df[\n",
    "                df['EAN'].notna() &\n",
    "                df['Unidades Desplazadas'].notna() &\n",
    "                df['Fecha Ult. Día de la semana'].notna()\n",
    "            ]\n",
    "            # Extraer el rango de semanas del nombre del archivo\n",
    "            rango_semanas = extraer_rango_semanas(os.path.basename(ruta_archivo))\n",
    "            semana_inicio, semana_fin = sorted(rango_semanas)\n",
    "            print(F'Semanas a procesar : {semana_inicio}, {semana_fin}')\n",
    "        except Exception as e:\n",
    "            raise RuntimeError(f\"Error al leer el archivo: {e}\")\n",
    "else:\n",
    "    raise RuntimeError(f\"La carpeta del país '{carpeta_pais}' no existe.\")"
   ]
  },
  {
   "cell_type": "markdown",
   "id": "44bcc47a",
   "metadata": {},
   "source": [
    "### Consultas"
   ]
  },
  {
   "cell_type": "code",
   "execution_count": 89,
   "id": "e19cbf78",
   "metadata": {},
   "outputs": [],
   "source": [
    "# Acceder a las variables\n",
    "user = os.getenv(\"USER\")\n",
    "password = os.getenv(\"PASSWORD\")\n",
    "account = os.getenv(\"ACCOUNT\")\n",
    "role = os.getenv(\"ROLE\")\n",
    "# Configura el motor de conexión\n",
    "conn_sf = create_engine(\n",
    "    f'snowflake://{user}:{password}@{account}/?role={role}'\n",
    ")\n",
    "conexion = snowflake.connector.connect(\n",
    "    user=user,\n",
    "    password=password,\n",
    "    account=account,\n",
    "    role = role\n",
    ")"
   ]
  },
  {
   "cell_type": "code",
   "execution_count": 90,
   "id": "95f1a03c",
   "metadata": {},
   "outputs": [
    {
     "name": "stdout",
     "output_type": "stream",
     "text": [
      "El DataFrame resultante está vacío de \n",
      "  SELECT \n",
      "      f.SEMID,\n",
      "      f.PAISID,\n",
      "      f.FBNSELLOUT\n",
      "  FROM DEV_STG.GNM_CT.FACTORBN AS f\n",
      "  LEFT JOIN PRD_STG.GNM_CT.CATSEMANAS AS c\n",
      "      ON f.SEMID = c.SEMID\n",
      "  WHERE \n",
      "      (c.SEMANIO * 100 + c.SEMNUMERO) BETWEEN 202534 AND 202534\n",
      "      AND f.PAISID IN (%s, %s, %s, %s, %s, %s)\n",
      "      AND f.TIPOCLIENTE = TRUE;\n",
      ".\n"
     ]
    }
   ],
   "source": [
    "# Generar placeholders para cada país\n",
    "placeholders_pais = \", \".join([\"%s\"] * len(PaisSF))\n",
    "#Consulta Snowflake Tiempo\n",
    "Query_catsemanas = f\"\"\"\n",
    "  SELECT *\n",
    "  FROM PRD_STG.GNM_CT.CATSEMANAS\n",
    "  WHERE (SEMANIO * 100 + SEMNUMERO) BETWEEN {semana_inicio} AND {semana_fin};\n",
    "  \"\"\"\n",
    "df_CatSem = read_sql_upper(Query_catsemanas, conn_sf)\n",
    "#Consulta Snowflake TipoComProd\n",
    "Query_Pais =  \"\"\"\n",
    "  SELECT PAIS, PAISID FROM\n",
    "  PRD_CNS_MX.CATALOGOS.VW_DIM_PAIS\n",
    "  \"\"\"\n",
    "df_Pais = read_sql_upper(Query_Pais, conn_sf)\n",
    "df_Pais['PAIS'] = df_Pais['PAIS'].str.strip().str.upper()\n",
    "#Consulta Snowflake Clientes\n",
    "Query_Cliente = f\"\"\"\n",
    "  SELECT PAISID, GRPID, GRPNOMBRE, CADID,CADNOMBRE\n",
    "  FROM PRD_CNS_MX.CATALOGOS.VW_ESTRUCTURACLIENTESSEGPTVTOTAL\n",
    "  WHERE  PAISID IN ({placeholders_pais})\n",
    "  \"\"\"\n",
    "df_Cliente = read_sql_upper(Query_Cliente, conn_sf, PaisSF)\n",
    "df_Cliente['CADNOMBRE'] = df_Cliente['CADNOMBRE'].str.strip().str.upper()\n",
    "df_Cliente['GRPNOMBRE'] = df_Cliente['GRPNOMBRE'].str.strip().str.upper()\n",
    "#Consulta Snowflake Productos\n",
    "Query_Productos = f\"\"\"\n",
    "  SELECT PAISID, PROID, PROPSTID, PROPSTCODBARRAS\n",
    "  FROM PRD_CNS_MX.CATALOGOS.VW_ESTRUCTURAPRODUCTOSTOTALPAISES\n",
    "  WHERE PAISID IN ({placeholders_pais})\n",
    "  ORDER BY PROPSTID ASC\n",
    "  \"\"\"\n",
    "df_Prod = read_sql_upper(Query_Productos, conn_sf, PaisSF)\n",
    "df_Prod = df_Prod.drop_duplicates(subset=['PROPSTCODBARRAS','PAISID'], keep='first')\n",
    "# Datos previos a la semana\n",
    "Query_hist = f\"\"\"\n",
    "  SELECT\n",
    "    ft.PAISID, UPPER(p.PAIS) as PAIS,ft.SEMID, cs.SEMNUMERO, SUM(ft.SOUTCANTDESP) AS SOUTCANTDESP, \n",
    "    SUM(ft.SOUTCANTEXIST) AS SOUTCANTEXIST, SUM(ft.SOUTCANTINV) AS SOUTCANTINV, SUM(ft.SOUTMONTODESPBRT) AS SOUTMONTODESPBRT, \n",
    "    SUM(ft.SOUTMONTOEXISTBRT) AS SOUTMONTOEXISTBRT, SUM(ft.SOUTMONTOINVBRT) AS SOUTMONTOINVBRT\n",
    "  FROM PRD_CNS_MX.DM.FACT_SO_SEM_CAD_SKU_INT ft\n",
    "  LEFT JOIN PRD_STG.GNM_CT.CATSEMANAS cs\n",
    "    ON ft.SEMID = cs.SEMID\n",
    "  LEFT JOIN PRD_CNS_MX.CATALOGOS.VW_DIM_PAIS p\n",
    "    ON p.PAISID = ft.PAISID\n",
    "  WHERE ft.PAISID IN ({placeholders_pais}) AND cs.SEMANIO*100+cs.SEMNUMERO BETWEEN {semana_inicio-15} AND {semana_fin}\n",
    "  GROUP BY ft.PAISID, p.PAIS ,ft.SEMID, cs.SEMNUMERO\n",
    "  ORDER BY ft.PAISID, ft.SEMID;\n",
    "\"\"\"\n",
    "df_hist = read_sql_upper(Query_hist, conn_sf, PaisSF)\n",
    "\n",
    "Query_factorbn = f\"\"\"\n",
    "  SELECT \n",
    "      f.SEMID,\n",
    "      f.PAISID,\n",
    "      f.FBNSELLOUT\n",
    "  FROM DEV_STG.GNM_CT.FACTORBN AS f\n",
    "  LEFT JOIN PRD_STG.GNM_CT.CATSEMANAS AS c\n",
    "      ON f.SEMID = c.SEMID\n",
    "  WHERE \n",
    "      (c.SEMANIO * 100 + c.SEMNUMERO) BETWEEN {semana_inicio} AND {semana_fin}\n",
    "      AND f.PAISID IN ({placeholders_pais})\n",
    "      AND f.TIPOCLIENTE = TRUE;\n",
    "\"\"\"\n",
    "\n",
    "df_fbn = read_sql_upper(Query_factorbn, conn_sf, PaisSF)"
   ]
  },
  {
   "cell_type": "code",
   "execution_count": 91,
   "id": "880dfdd7",
   "metadata": {},
   "outputs": [],
   "source": [
    "# === Consulta DM ===\n",
    "query_dm = F\"\"\"\n",
    " SELECT\n",
    "    SUM(df.SOUTCANTDESP) SOUTCANTDESP, \n",
    "    SUM(df.SOUTMONTODESPBRT) SOUTMONTODESPBRT, \n",
    "    c.SEMANIO,\n",
    "    c.SEMANIO * 100 + c.SEMNUMERO AS SEMNUMERO\n",
    "FROM  {ambiente}CNS_MX.DM.FACT_SO_SEM_CAD_SKU_INT AS df\n",
    "LEFT JOIN PRD_STG.GNM_CT.CATSEMANAS AS c ON df.SEMID = c.SEMID\n",
    "WHERE c.SEMANIO >= YEAR(CURRENT_DATE) - 1\n",
    "AND df.PAISID IN ({placeholders_pais})\n",
    "GROUP BY c.SEMNUMERO, c.SEMANIO ;\n",
    "\"\"\"\n",
    "query_dm2 = F\"\"\"\n",
    " SELECT\n",
    "    df.PAISID,\n",
    "    c.SEMID,\n",
    "    SUM(df.SOUTCANTDESP) SOUTCANTDESP, \n",
    "    SUM(df.SOUTCANTEXIST) SOUTCANTEXIST,\n",
    "    SUM(df.SOUTMONTODESPBRT) SOUTMONTODESPBRT, \n",
    "    SUM(df.SOUTMONTOEXISTBRT) SOUTMONTOEXISTBRT,\n",
    "    SUM(df.SOUTMONTOINVBRT) SOUTMONTOINVBRT,\n",
    "    c.SEMANIO,\n",
    "    c.SEMANIO * 100 + c.SEMNUMERO AS SEMNUM\n",
    "FROM  {ambiente}CNS_MX.DM.FACT_SO_SEM_CAD_SKU_INT AS df\n",
    "LEFT JOIN PRD_STG.GNM_CT.CATSEMANAS AS c ON df.SEMID = c.SEMID\n",
    "WHERE SEMNUM BETWEEN {semana_inicio} AND {semana_fin}\n",
    "AND df.PAISID IN ({placeholders_pais})\n",
    "GROUP BY c.SEMNUMERO, c.SEMANIO,df.PAISID, c.SEMID;\n",
    "\"\"\"\n",
    "# === Consulta HEC ===\n",
    "query_hec = F\"\"\"\n",
    " SELECT \n",
    "    SUM(df.SOUTCANTDESP) SOUTCANTDESP, \n",
    "    SUM(df.SOUTMONTODESPBRT) SOUTMONTODESPBRT, \n",
    "    c.SEMANIO,\n",
    "    c.SEMANIO * 100 + c.SEMNUMERO AS SEMNUMERO\n",
    "FROM  {ambiente}CNS_MX.SO_HECHOS_INT.FACT_SO_SEM_CAD_SKU_INT AS df\n",
    "LEFT JOIN PRD_STG.GNM_CT.CATSEMANAS AS c ON df.SEMID = c.SEMID\n",
    "WHERE c.SEMANIO >= YEAR(CURRENT_DATE) - 1\n",
    "AND df.PAISID IN ({placeholders_pais})\n",
    "GROUP BY c.SEMNUMERO, c.SEMANIO ;\n",
    "\"\"\""
   ]
  },
  {
   "cell_type": "markdown",
   "id": "cba4fd50",
   "metadata": {},
   "source": [
    "### Filtrar archivo"
   ]
  },
  {
   "cell_type": "code",
   "execution_count": 92,
   "id": "39f21343",
   "metadata": {},
   "outputs": [],
   "source": [
    "df_CatSem['SEMFIN'] = pd.to_datetime(df_CatSem['SEMFIN'], errors='coerce')\n",
    "# Ejemplo de DataFrame con intervalos\n",
    "df_CatSem = df_CatSem.sort_values('SEMINICIO')\n",
    "if df.empty:\n",
    "    raise RuntimeError(\"El DataFrame está vacío después de la carga.\")\n",
    "# DataFrame con fechas a unir\n",
    "# Asegurar que 'Fecha Ult. Día de la semana' sea datetime\n",
    "df['Fecha Ult. Día de la semana'] = pd.to_datetime(df['Fecha Ult. Día de la semana'], format='%Y-%m-%d', errors='coerce')\n",
    "df = df.sort_values('Fecha Ult. Día de la semana')\n",
    "df = df[df['Fecha Ult. Día de la semana'].notnull()]\n",
    "# merge_asof une hacia atrás: buscamos el último SEMINICIO <= fecha\n",
    "df_merge = pd.merge_asof(\n",
    "    df,\n",
    "    df_CatSem,\n",
    "    left_on='Fecha Ult. Día de la semana',\n",
    "    right_on='SEMINICIO',\n",
    "    direction='backward'\n",
    ")\n",
    "if df_merge.empty or df_merge['SEMFIN'].isna().all():\n",
    "    raise RuntimeError(\"No se encontraron fechas dentro del rango de SEMINICIO y SEMFIN.\")\n",
    "# Luego validamos que fecha <= SEMFIN\n",
    "df_filtrado = df_merge[df_merge['Fecha Ult. Día de la semana'] <= df_merge['SEMFIN']]\n",
    "df_filtrado = df_filtrado.copy()\n",
    "df_filtrado['Pais Nombre']= df_filtrado['Pais Nombre'].str.upper().str.strip()\n",
    "df_filtrado['Nombre Grupo'] = df_filtrado['Nombre Grupo'].str.upper().str.strip()\n",
    "df_filtrado['Nombre Cadena/Formato'] = df_filtrado['Nombre Cadena/Formato'].str.upper().str.strip()\n",
    "df_filtrado['EAN'] = df_filtrado['EAN'].astype(str).str.replace(r'\\.0$', '', regex=True).str.strip()\n",
    "# Resumen inicial\n",
    "resumen = resumir_dataframe(df_filtrado, columnas_sumar, 'df_inicial')"
   ]
  },
  {
   "cell_type": "markdown",
   "id": "495efaa6",
   "metadata": {},
   "source": [
    "### Rechazos"
   ]
  },
  {
   "cell_type": "code",
   "execution_count": 93,
   "id": "5c21007e",
   "metadata": {},
   "outputs": [
    {
     "name": "stdout",
     "output_type": "stream",
     "text": [
      "Sin rechazos de GRPID\n",
      "Se generaron rechazos de CADID: C:\\\\Users\\\\elsilva\\\\OneDrive - genommalabinternacional\\\\Layout Internacional\\\\data\\\\Rechazos\\CARICAM\\Rechazos_CADID_CARICAM_20250901.xlsx\n",
      "Se generaron rechazos de PROPSTID: C:\\\\Users\\\\elsilva\\\\OneDrive - genommalabinternacional\\\\Layout Internacional\\\\data\\\\Rechazos\\CARICAM\\Rechazos_PROPSTID_CARICAM_20250901.xlsx\n"
     ]
    }
   ],
   "source": [
    "if df_filtrado.empty:\n",
    "    raise Exception(\"El DataFrame está vacío. Revisa los filtros aplicados.\")\n",
    "# Unir los dataframes por las claves correspondientes\n",
    "df_merged = df_filtrado.merge(df_Pais[['PAIS', 'PAISID']],\n",
    "                left_on='Pais Nombre',\n",
    "                right_on='PAIS',\n",
    "                how='left')\n",
    "\n",
    "# Hacer el merge para obtener grpid\n",
    "df_merged2 = df_merged.merge(df_Cliente[['PAISID','GRPNOMBRE', 'GRPID']].drop_duplicates(), #df_Cliente, df_cat_grupos\n",
    "                            left_on =['PAISID','Nombre Grupo'],\n",
    "                            right_on = ['PAISID','GRPNOMBRE'],\n",
    "                            how='left')\n",
    "rechazo1 = exportar_rechazos_por_campo(df_merged2,'GRPID', ['PAISID',\"Nombre Grupo\",\"Nombre Cadena/Formato\",\"SEMID\", 'SEMNUMERO'], [\"Unidades Desplazadas\",\"Monto Desplazado Bruto ML\"], \n",
    "                                       carpeta_pais_destino, PaisCarpeta)\n",
    "# Obtener el cadid\n",
    "df_merged3 = df_merged2.merge(df_Cliente[['PAISID','CADNOMBRE', 'CADID', 'GRPID']].drop_duplicates(subset =['PAISID','GRPID', 'CADNOMBRE']), #df_Cliente\n",
    "                            left_on =['PAISID','GRPID','Nombre Cadena/Formato'],\n",
    "                            right_on = ['PAISID','GRPID', 'CADNOMBRE'],\n",
    "                            how='left')\n",
    "df_merged3['GRPID'] = df_merged3['GRPID'].fillna('')\n",
    "rechazo2 = exportar_rechazos_por_campo(df_merged3,'CADID', ['PAISID','GRPID',\"Nombre Grupo\",\"Nombre Cadena/Formato\",\"SEMID\", 'SEMNUMERO'], [\"Unidades Desplazadas\",\"Monto Desplazado Bruto ML\"], \n",
    "                            carpeta_pais_destino, PaisCarpeta)\n",
    "# Convetir al mismo tipo de dato\n",
    "df_Prod['PROPSTCODBARRAS'] = (df_Prod['PROPSTCODBARRAS'].apply(lambda x: str(int(float(x))) if pd.notnull(x) else None))\n",
    "# Unir los dataframes por Productos\n",
    "df_merged4 = df_merged3.merge(df_Prod,\n",
    "                left_on=['PAISID','EAN'],\n",
    "                right_on=['PAISID','PROPSTCODBARRAS'],\n",
    "                how='left')\n",
    "rechazo3 = exportar_rechazos_por_campo(df_merged4,'PROPSTID', ['PAISID',\"EAN\",\"Descripción presentación de producto\",\"SEMID\",\"Cód. Interno ERP\",\"Material SAP\", 'SEMNUMERO'], \n",
    "                                        [\"Unidades Desplazadas\",\"Monto Desplazado Bruto ML\"], \n",
    "                                        carpeta_pais_destino, PaisCarpeta)\n",
    "# Resumen del último merge\n",
    "resumen2 = resumir_dataframe(df_merged4, columnas_sumar,'df_merged')\n",
    "# Obtener registros que faltan\n",
    "registros_faltan = df_merged4[df_merged4[[\"CADID\", \"GRPID\", \"PROPSTID\"]].isna().any(axis=1)]"
   ]
  },
  {
   "cell_type": "markdown",
   "id": "d9c96048",
   "metadata": {},
   "source": [
    "### Agrupar y obtener cálculos"
   ]
  },
  {
   "cell_type": "code",
   "execution_count": 94,
   "id": "7543328f",
   "metadata": {},
   "outputs": [
    {
     "name": "stderr",
     "output_type": "stream",
     "text": [
      "C:\\Users\\elsilva\\AppData\\Local\\Temp\\ipykernel_24848\\2826970107.py:8: SettingWithCopyWarning:\n",
      "\n",
      "\n",
      "A value is trying to be set on a copy of a slice from a DataFrame.\n",
      "Try using .loc[row_indexer,col_indexer] = value instead\n",
      "\n",
      "See the caveats in the documentation: https://pandas.pydata.org/pandas-docs/stable/user_guide/indexing.html#returning-a-view-versus-a-copy\n",
      "\n"
     ]
    }
   ],
   "source": [
    "# Montos faltantes\n",
    "if not registros_faltan.empty:\n",
    "    # Resumen del último merge\n",
    "    resumen_faltan = resumir_dataframe(registros_faltan, columnas_sumar,'df_faltan')\n",
    "    montos_faltan = registros_faltan[['Unidades Desplazadas', 'Monto Desplazado Bruto ML', 'Unidades Inv. Tienda']].sum()\n",
    "else:\n",
    "    montos_faltan = pd.Series()"
   ]
  },
  {
   "cell_type": "code",
   "execution_count": 95,
   "id": "21bce45c",
   "metadata": {},
   "outputs": [
    {
     "name": "stderr",
     "output_type": "stream",
     "text": [
      "C:\\Users\\elsilva\\AppData\\Local\\Temp\\ipykernel_24848\\2826970107.py:8: SettingWithCopyWarning:\n",
      "\n",
      "\n",
      "A value is trying to be set on a copy of a slice from a DataFrame.\n",
      "Try using .loc[row_indexer,col_indexer] = value instead\n",
      "\n",
      "See the caveats in the documentation: https://pandas.pydata.org/pandas-docs/stable/user_guide/indexing.html#returning-a-view-versus-a-copy\n",
      "\n"
     ]
    }
   ],
   "source": [
    "if df_merged4.empty:\n",
    "    raise Exception(\"El DataFrame está vacío. Revisa los cruces anteriores.\")\n",
    "# Filtrar filas válidas (sin valores nulos en campos clave)\n",
    "df_validado = df_merged4.dropna(subset=['CADID', 'GRPID', 'PROPSTID'])\n",
    "resumen3 = resumir_dataframe(df_validado, columnas_sumar,'df_sin_nulos',montos_faltan)\n",
    "# Agrupar por claves y sumar los valores numéricos\n",
    "df_grouped = df_validado.groupby(\n",
    "    [\"SEMID\", \"PAISID\", \"CADID\", \"GRPID\", \"PROID\", \"PROPSTID\"],\n",
    "    as_index=False\n",
    ").agg({\n",
    "    \"Unidades Desplazadas\": \"sum\",\n",
    "    \"Unidades Inv. Tienda\": \"sum\",\n",
    "    \"Unidades Inv. CEDIS\": \"sum\",\n",
    "    \"Unidades Inv. Transito\": \"sum\",\n",
    "    \"Monto Desplazado Bruto ML\": \"sum\",\n",
    "    \"Precio Unitario VTA GLI\": \"mean\",\n",
    "})\n",
    "# Renombrar solo las columnas que realmente cambian\n",
    "df_grouped = df_grouped.rename(columns={\n",
    "    \"Unidades Desplazadas\": \"SOUTCANTDESP\",\n",
    "    \"Unidades Inv. CEDIS\": \"SOUTCANTCEDIS\",\n",
    "    \"Unidades Inv. Transito\": \"SOUTCANTTRANS\",\n",
    "    \"Unidades Inv. Tienda\": \"SOUTCANTEXIST\",\n",
    "    \"Monto Desplazado Bruto ML\": \"SOUTMONTODESPBRT\"\n",
    "})\n",
    "\n",
    "if not montos_faltan.empty:\n",
    "    montos_faltan = montos_faltan.rename({\n",
    "        \"Unidades Desplazadas\": \"SOUTCANTDESP\",\n",
    "        \"Monto Desplazado Bruto ML\": \"SOUTMONTODESPBRT\",\n",
    "        \"Unidades Inv. Tienda\": \"SOUTCANTEXIST\",\n",
    "    })"
   ]
  },
  {
   "cell_type": "code",
   "execution_count": 96,
   "id": "4b4b5daa",
   "metadata": {},
   "outputs": [],
   "source": [
    "if df_grouped.empty:\n",
    "    raise Exception(\"El DataFrame está vacío.\")\n",
    "# Calcular inventario total\n",
    "df_grouped[\"SOUTCANTINV\"] = df_grouped[[\"SOUTCANTCEDIS\", \"SOUTCANTTRANS\", \"SOUTCANTEXIST\"]].fillna(0).sum(axis=1)\n",
    "# Evitar división por cero\n",
    "cantidades = df_grouped[\"SOUTCANTDESP\"].replace(0, np.nan)\n",
    "precio_calculado = df_grouped[\"SOUTMONTODESPBRT\"] / cantidades\n",
    "# Si el cálculo es NaN o 0, usar \"Precio Unitario VTA GLI\"\n",
    "df_grouped[\"PRECIO\"] = np.where(\n",
    "    precio_calculado.isna() | (precio_calculado == 0),\n",
    "    df_grouped[\"Precio Unitario VTA GLI\"],\n",
    "    precio_calculado\n",
    ")\n",
    "# Calcular montos valorizados\n",
    "df_grouped[\"SOUTMONTOEXISTBRT\"] = (df_grouped[\"SOUTCANTEXIST\"] * df_grouped[\"PRECIO\"]).fillna(0)\n",
    "df_grouped[\"SOUTMONTOINVBRT\"] = (df_grouped[\"SOUTCANTINV\"] * df_grouped[\"PRECIO\"]).fillna(0)\n",
    "# Resúmenes finales\n",
    "resumen4 = resumir_dataframe(df_grouped, ['SOUTCANTDESP',\n",
    "    'SOUTCANTEXIST', 'SOUTMONTODESPBRT','SOUTCANTINV',\n",
    "    'SOUTMONTOEXISTBRT', 'SOUTMONTOINVBRT'],'df_calculado',montos_faltan)\n",
    "resumen5 = resumir_dataframe(df_grouped, ['SOUTCANTDESP',\n",
    "    'SOUTCANTEXIST', 'SOUTMONTODESPBRT','SOUTCANTINV',\n",
    "    'SOUTMONTOEXISTBRT', 'SOUTMONTOINVBRT'], 'df_final')\n",
    "# Reordenar las columnas\n",
    "df_final = df_grouped[[\n",
    "    \"PAISID\", \"SEMID\", \"PROID\", \"PROPSTID\", \"GRPID\", \n",
    "    \"SOUTCANTDESP\", \"SOUTCANTEXIST\", \"SOUTCANTINV\", \n",
    "    \"SOUTMONTODESPBRT\", \"SOUTMONTOEXISTBRT\", \"SOUTMONTOINVBRT\", \"CADID\"\n",
    "]]"
   ]
  },
  {
   "cell_type": "markdown",
   "id": "d7c86ca1",
   "metadata": {},
   "source": [
    "### Columnas finales con FBN"
   ]
  },
  {
   "cell_type": "code",
   "execution_count": 97,
   "id": "988e033a",
   "metadata": {},
   "outputs": [],
   "source": [
    "# Renombrar a columnas brutas\n",
    "df_final_fbn = df_final.copy() \n",
    "fecha_actual = datetime.now().strftime('%Y-%m-%d')\n",
    "df_final_fbn[['UPDATE_AT', 'CREATE_AT']] = fecha_actual\n",
    "\n",
    "cols_brt = ['SOUTMONTOEXISTBRT', 'SOUTMONTODESPBRT', 'SOUTMONTOINVBRT']\n",
    "cols_net = [c.replace('BRT', '') for c in cols_brt]\n",
    "\n",
    "if not df_fbn.empty:\n",
    "    # Merge solo con lo necesario y sin duplicados para evitar fan-out\n",
    "    df_final_fbn = df_final_fbn.merge(df_fbn, on=['SEMID', 'PAISID'], how='left')\n",
    "    # Factor = 1 + FBN (NaN -> 0)\n",
    "    factor = 1 + pd.to_numeric(df_final_fbn['FBNSELLOUT'], errors='coerce').fillna(0.0)\n",
    "\n",
    "    # Calcular netas vectorizado\n",
    "    net_df = df_final_fbn[cols_brt].mul(factor, axis=0)\n",
    "    net_df.columns = cols_net\n",
    "    df_final_fbn[cols_net] = net_df\n",
    "    # Quitar FBN si ya no se requiere\n",
    "    df_final_fbn = df_final_fbn.drop(columns=['FBNSELLOUT'])\n",
    "    \n",
    "else:\n",
    "    # Sin FBN: inicializar netas en 0.0 (tu comportamiento original)\n",
    "    for c in cols_net:\n",
    "        df_final_fbn[c] = 0.0\n",
    "resumen6 = resumir_dataframe(df_final_fbn, ['SOUTCANTDESP',\n",
    "    'SOUTCANTEXIST', 'SOUTMONTODESPBRT','SOUTCANTINV',\n",
    "    'SOUTMONTOEXISTBRT', 'SOUTMONTOINVBRT', 'SOUTMONTODESP', 'SOUTMONTOEXIST'], 'df_final_fbn')"
   ]
  },
  {
   "cell_type": "markdown",
   "id": "676dc3e3",
   "metadata": {},
   "source": [
    "### Validación final"
   ]
  },
  {
   "cell_type": "code",
   "execution_count": 98,
   "id": "6c9e218c",
   "metadata": {},
   "outputs": [
    {
     "data": {
      "application/vnd.plotly.v1+json": {
       "config": {
        "plotlyServerURL": "https://plot.ly"
       },
       "data": [
        {
         "marker": {
          "color": "blue"
         },
         "mode": "lines+markers",
         "name": "Histórico",
         "showlegend": true,
         "type": "scatter",
         "x": {
          "bdata": "LAUtBS4FLwUwBTEFMgUzBTQFNQU2BTcFOAU5BToFOwU=",
          "dtype": "i2"
         },
         "xaxis": "x",
         "y": {
          "bdata": "AAAAAED350AAAAAAgGHjQAAAAACgCuNAAAAAAIC65EAAAAAAYILZQAAAAABwm+JAAAAAAICG3UAAAAAAgA3rQAAAAADAVNVAAAAAAMAB4UAAAAAAoOXgQAAAAABg8uRAAAAAACB550AAAAAAwGXuQAAAAACAw+xAAAAAAGCG6UA=",
          "dtype": "f8"
         },
         "yaxis": "y"
        },
        {
         "marker": {
          "color": "red",
          "size": 10
         },
         "mode": "markers",
         "name": "Nuevo con rechazos",
         "showlegend": true,
         "type": "scatter",
         "x": {
          "bdata": "OwU=",
          "dtype": "i2"
         },
         "xaxis": "x",
         "y": {
          "bdata": "AAAAAGBM6kA=",
          "dtype": "f8"
         },
         "yaxis": "y"
        },
        {
         "marker": {
          "color": "green",
          "size": 10,
          "symbol": "diamond"
         },
         "mode": "markers",
         "name": "Nuevo sin rechazos",
         "showlegend": true,
         "type": "scatter",
         "x": {
          "bdata": "OwU=",
          "dtype": "i2"
         },
         "xaxis": "x",
         "y": {
          "bdata": "AAAAAGCG6UA=",
          "dtype": "f8"
         },
         "yaxis": "y"
        },
        {
         "marker": {
          "color": "blue"
         },
         "mode": "lines+markers",
         "name": "Histórico",
         "showlegend": false,
         "type": "scatter",
         "x": {
          "bdata": "LAUtBS4FLwUwBTEFMgUzBTQFNQU2BTcFOAU5BToFOwU=",
          "dtype": "i2"
         },
         "xaxis": "x2",
         "y": {
          "bdata": "8kHP5udvF0EUrkfhgyoXQezAOePD2BNBrBxa5JsIEkGKsOHpL5YRQVioNc1fMQ9B8kHP5mttF0GPwvXodysWQaH4MeYvAhdBeJyi49dxFEH99nXgj+wSQSxlGeJ3rRRBBOeM6DP8EUE17zjFp4kLQbU3+MKH/wlBQYLix/fBCEE=",
          "dtype": "f8"
         },
         "yaxis": "y2"
        },
        {
         "marker": {
          "color": "red",
          "size": 10
         },
         "mode": "markers",
         "name": "Nuevo con rechazos",
         "showlegend": false,
         "type": "scatter",
         "x": {
          "bdata": "OwU=",
          "dtype": "i2"
         },
         "xaxis": "x2",
         "y": {
          "bdata": "QYLix/fBCEE=",
          "dtype": "f8"
         },
         "yaxis": "y2"
        },
        {
         "marker": {
          "color": "green",
          "size": 10,
          "symbol": "diamond"
         },
         "mode": "markers",
         "name": "Nuevo sin rechazos",
         "showlegend": false,
         "type": "scatter",
         "x": {
          "bdata": "OwU=",
          "dtype": "i2"
         },
         "xaxis": "x2",
         "y": {
          "bdata": "QILix/fBCEE=",
          "dtype": "f8"
         },
         "yaxis": "y2"
        },
        {
         "marker": {
          "color": "blue"
         },
         "mode": "lines+markers",
         "name": "Histórico",
         "showlegend": false,
         "type": "scatter",
         "x": {
          "bdata": "LAUtBS4FLwUwBTEFMgUzBTQFNQU2BTcFOAU5BToFOwU=",
          "dtype": "i2"
         },
         "xaxis": "x3",
         "y": {
          "bdata": "aW/whU3ZDEGL/WV3g4cIQWZmZmb0agVBNKK0N4b9BEGGWtO8vk37QEku/yHyTwJBcayLW9RsAkGamZkZO58GQdUJaCIro/pA24r9ZejrAUFbQj7oySEEQWHD0ys+CgxBRiV1Ao4dAkHChqdXN3gKQaFns+owIgxBOiNKe5CcB0E=",
          "dtype": "f8"
         },
         "yaxis": "y3"
        },
        {
         "marker": {
          "color": "red",
          "size": 10
         },
         "mode": "markers",
         "name": "Nuevo con rechazos",
         "showlegend": false,
         "type": "scatter",
         "x": {
          "bdata": "OwU=",
          "dtype": "i2"
         },
         "xaxis": "x3",
         "y": {
          "bdata": "ICyhRvT6B0E=",
          "dtype": "f8"
         },
         "yaxis": "y3"
        },
        {
         "marker": {
          "color": "green",
          "size": 10,
          "symbol": "diamond"
         },
         "mode": "markers",
         "name": "Nuevo sin rechazos",
         "showlegend": false,
         "type": "scatter",
         "x": {
          "bdata": "OwU=",
          "dtype": "i2"
         },
         "xaxis": "x3",
         "y": {
          "bdata": "W38nfZCcB0E=",
          "dtype": "f8"
         },
         "yaxis": "y3"
        },
        {
         "marker": {
          "color": "blue"
         },
         "mode": "lines+markers",
         "name": "Histórico",
         "showlegend": false,
         "type": "scatter",
         "x": {
          "bdata": "LAUtBS4FLwUwBTEFMgUzBTQFNQU2BTcFOAU5BToFOwU=",
          "dtype": "i2"
         },
         "xaxis": "x4",
         "y": {
          "bdata": "Njy9snZ3NUE/V1sBs3s0QX0/NQ6XxjJBS1mGeAAVM0FSSZ0wIiozQZzEIADdiDFBU5Yh3iRRNUF56SbxqEY2QT81XuoffDhB/kP6HSCZNUEgQfGzPg80QZ5eKfsMjzNBSOF65FbsMEHCFyaTNDYrQXnpJlEk6ylBNKK0V2GAJ0E=",
          "dtype": "f8"
         },
         "yaxis": "y4"
        },
        {
         "marker": {
          "color": "green",
          "size": 10,
          "symbol": "diamond"
         },
         "mode": "markers",
         "name": "Nuevo sin rechazos",
         "showlegend": false,
         "type": "scatter",
         "x": {
          "bdata": "OwU=",
          "dtype": "i2"
         },
         "xaxis": "x4",
         "y": {
          "bdata": "ZQymV2GAJ0E=",
          "dtype": "f8"
         },
         "yaxis": "y4"
        },
        {
         "marker": {
          "color": "blue"
         },
         "mode": "lines+markers",
         "name": "Histórico",
         "showlegend": false,
         "type": "scatter",
         "x": {
          "bdata": "LAUtBS4FLwUwBTEFMgUzBTQFNQU2BTcFOAU5BToFOwU=",
          "dtype": "i2"
         },
         "xaxis": "x5",
         "y": {
          "bdata": "Njy9snZ3NUE/V1sBs3s0QX0/NQ6XxjJBS1mGeAAVM0FSSZ0wIiozQZzEIADdiDFBU5Yh3iRRNUF56SbxqEY2QT81XuoffDhB/kP6HSCZNUEgQfGzPg80QZ5eKfsMjzNBSOF65FbsMEHCFyaTNDYrQXnpJlEk6ylBNKK0V2GAJ0E=",
          "dtype": "f8"
         },
         "yaxis": "y5"
        },
        {
         "marker": {
          "color": "green",
          "size": 10,
          "symbol": "diamond"
         },
         "mode": "markers",
         "name": "Nuevo sin rechazos",
         "showlegend": false,
         "type": "scatter",
         "x": {
          "bdata": "OwU=",
          "dtype": "i2"
         },
         "xaxis": "x5",
         "y": {
          "bdata": "ZQymV2GAJ0E=",
          "dtype": "f8"
         },
         "yaxis": "y5"
        }
       ],
       "layout": {
        "annotations": [
         {
          "font": {
           "size": 16
          },
          "showarrow": false,
          "text": "SOUTCANTDESP",
          "x": 0.08399999999999999,
          "xanchor": "center",
          "xref": "paper",
          "y": 1,
          "yanchor": "bottom",
          "yref": "paper"
         },
         {
          "font": {
           "size": 16
          },
          "showarrow": false,
          "text": "SOUTCANTEXIST",
          "x": 0.292,
          "xanchor": "center",
          "xref": "paper",
          "y": 1,
          "yanchor": "bottom",
          "yref": "paper"
         },
         {
          "font": {
           "size": 16
          },
          "showarrow": false,
          "text": "SOUTMONTODESPBRT",
          "x": 0.5,
          "xanchor": "center",
          "xref": "paper",
          "y": 1,
          "yanchor": "bottom",
          "yref": "paper"
         },
         {
          "font": {
           "size": 16
          },
          "showarrow": false,
          "text": "SOUTMONTOEXISTBRT",
          "x": 0.708,
          "xanchor": "center",
          "xref": "paper",
          "y": 1,
          "yanchor": "bottom",
          "yref": "paper"
         },
         {
          "font": {
           "size": 16
          },
          "showarrow": false,
          "text": "SOUTMONTOINVBRT",
          "x": 0.9159999999999999,
          "xanchor": "center",
          "xref": "paper",
          "y": 1,
          "yanchor": "bottom",
          "yref": "paper"
         }
        ],
        "height": 400,
        "showlegend": true,
        "template": {
         "data": {
          "bar": [
           {
            "error_x": {
             "color": "#2a3f5f"
            },
            "error_y": {
             "color": "#2a3f5f"
            },
            "marker": {
             "line": {
              "color": "#E5ECF6",
              "width": 0.5
             },
             "pattern": {
              "fillmode": "overlay",
              "size": 10,
              "solidity": 0.2
             }
            },
            "type": "bar"
           }
          ],
          "barpolar": [
           {
            "marker": {
             "line": {
              "color": "#E5ECF6",
              "width": 0.5
             },
             "pattern": {
              "fillmode": "overlay",
              "size": 10,
              "solidity": 0.2
             }
            },
            "type": "barpolar"
           }
          ],
          "carpet": [
           {
            "aaxis": {
             "endlinecolor": "#2a3f5f",
             "gridcolor": "white",
             "linecolor": "white",
             "minorgridcolor": "white",
             "startlinecolor": "#2a3f5f"
            },
            "baxis": {
             "endlinecolor": "#2a3f5f",
             "gridcolor": "white",
             "linecolor": "white",
             "minorgridcolor": "white",
             "startlinecolor": "#2a3f5f"
            },
            "type": "carpet"
           }
          ],
          "choropleth": [
           {
            "colorbar": {
             "outlinewidth": 0,
             "ticks": ""
            },
            "type": "choropleth"
           }
          ],
          "contour": [
           {
            "colorbar": {
             "outlinewidth": 0,
             "ticks": ""
            },
            "colorscale": [
             [
              0,
              "#0d0887"
             ],
             [
              0.1111111111111111,
              "#46039f"
             ],
             [
              0.2222222222222222,
              "#7201a8"
             ],
             [
              0.3333333333333333,
              "#9c179e"
             ],
             [
              0.4444444444444444,
              "#bd3786"
             ],
             [
              0.5555555555555556,
              "#d8576b"
             ],
             [
              0.6666666666666666,
              "#ed7953"
             ],
             [
              0.7777777777777778,
              "#fb9f3a"
             ],
             [
              0.8888888888888888,
              "#fdca26"
             ],
             [
              1,
              "#f0f921"
             ]
            ],
            "type": "contour"
           }
          ],
          "contourcarpet": [
           {
            "colorbar": {
             "outlinewidth": 0,
             "ticks": ""
            },
            "type": "contourcarpet"
           }
          ],
          "heatmap": [
           {
            "colorbar": {
             "outlinewidth": 0,
             "ticks": ""
            },
            "colorscale": [
             [
              0,
              "#0d0887"
             ],
             [
              0.1111111111111111,
              "#46039f"
             ],
             [
              0.2222222222222222,
              "#7201a8"
             ],
             [
              0.3333333333333333,
              "#9c179e"
             ],
             [
              0.4444444444444444,
              "#bd3786"
             ],
             [
              0.5555555555555556,
              "#d8576b"
             ],
             [
              0.6666666666666666,
              "#ed7953"
             ],
             [
              0.7777777777777778,
              "#fb9f3a"
             ],
             [
              0.8888888888888888,
              "#fdca26"
             ],
             [
              1,
              "#f0f921"
             ]
            ],
            "type": "heatmap"
           }
          ],
          "histogram": [
           {
            "marker": {
             "pattern": {
              "fillmode": "overlay",
              "size": 10,
              "solidity": 0.2
             }
            },
            "type": "histogram"
           }
          ],
          "histogram2d": [
           {
            "colorbar": {
             "outlinewidth": 0,
             "ticks": ""
            },
            "colorscale": [
             [
              0,
              "#0d0887"
             ],
             [
              0.1111111111111111,
              "#46039f"
             ],
             [
              0.2222222222222222,
              "#7201a8"
             ],
             [
              0.3333333333333333,
              "#9c179e"
             ],
             [
              0.4444444444444444,
              "#bd3786"
             ],
             [
              0.5555555555555556,
              "#d8576b"
             ],
             [
              0.6666666666666666,
              "#ed7953"
             ],
             [
              0.7777777777777778,
              "#fb9f3a"
             ],
             [
              0.8888888888888888,
              "#fdca26"
             ],
             [
              1,
              "#f0f921"
             ]
            ],
            "type": "histogram2d"
           }
          ],
          "histogram2dcontour": [
           {
            "colorbar": {
             "outlinewidth": 0,
             "ticks": ""
            },
            "colorscale": [
             [
              0,
              "#0d0887"
             ],
             [
              0.1111111111111111,
              "#46039f"
             ],
             [
              0.2222222222222222,
              "#7201a8"
             ],
             [
              0.3333333333333333,
              "#9c179e"
             ],
             [
              0.4444444444444444,
              "#bd3786"
             ],
             [
              0.5555555555555556,
              "#d8576b"
             ],
             [
              0.6666666666666666,
              "#ed7953"
             ],
             [
              0.7777777777777778,
              "#fb9f3a"
             ],
             [
              0.8888888888888888,
              "#fdca26"
             ],
             [
              1,
              "#f0f921"
             ]
            ],
            "type": "histogram2dcontour"
           }
          ],
          "mesh3d": [
           {
            "colorbar": {
             "outlinewidth": 0,
             "ticks": ""
            },
            "type": "mesh3d"
           }
          ],
          "parcoords": [
           {
            "line": {
             "colorbar": {
              "outlinewidth": 0,
              "ticks": ""
             }
            },
            "type": "parcoords"
           }
          ],
          "pie": [
           {
            "automargin": true,
            "type": "pie"
           }
          ],
          "scatter": [
           {
            "fillpattern": {
             "fillmode": "overlay",
             "size": 10,
             "solidity": 0.2
            },
            "type": "scatter"
           }
          ],
          "scatter3d": [
           {
            "line": {
             "colorbar": {
              "outlinewidth": 0,
              "ticks": ""
             }
            },
            "marker": {
             "colorbar": {
              "outlinewidth": 0,
              "ticks": ""
             }
            },
            "type": "scatter3d"
           }
          ],
          "scattercarpet": [
           {
            "marker": {
             "colorbar": {
              "outlinewidth": 0,
              "ticks": ""
             }
            },
            "type": "scattercarpet"
           }
          ],
          "scattergeo": [
           {
            "marker": {
             "colorbar": {
              "outlinewidth": 0,
              "ticks": ""
             }
            },
            "type": "scattergeo"
           }
          ],
          "scattergl": [
           {
            "marker": {
             "colorbar": {
              "outlinewidth": 0,
              "ticks": ""
             }
            },
            "type": "scattergl"
           }
          ],
          "scattermap": [
           {
            "marker": {
             "colorbar": {
              "outlinewidth": 0,
              "ticks": ""
             }
            },
            "type": "scattermap"
           }
          ],
          "scattermapbox": [
           {
            "marker": {
             "colorbar": {
              "outlinewidth": 0,
              "ticks": ""
             }
            },
            "type": "scattermapbox"
           }
          ],
          "scatterpolar": [
           {
            "marker": {
             "colorbar": {
              "outlinewidth": 0,
              "ticks": ""
             }
            },
            "type": "scatterpolar"
           }
          ],
          "scatterpolargl": [
           {
            "marker": {
             "colorbar": {
              "outlinewidth": 0,
              "ticks": ""
             }
            },
            "type": "scatterpolargl"
           }
          ],
          "scatterternary": [
           {
            "marker": {
             "colorbar": {
              "outlinewidth": 0,
              "ticks": ""
             }
            },
            "type": "scatterternary"
           }
          ],
          "surface": [
           {
            "colorbar": {
             "outlinewidth": 0,
             "ticks": ""
            },
            "colorscale": [
             [
              0,
              "#0d0887"
             ],
             [
              0.1111111111111111,
              "#46039f"
             ],
             [
              0.2222222222222222,
              "#7201a8"
             ],
             [
              0.3333333333333333,
              "#9c179e"
             ],
             [
              0.4444444444444444,
              "#bd3786"
             ],
             [
              0.5555555555555556,
              "#d8576b"
             ],
             [
              0.6666666666666666,
              "#ed7953"
             ],
             [
              0.7777777777777778,
              "#fb9f3a"
             ],
             [
              0.8888888888888888,
              "#fdca26"
             ],
             [
              1,
              "#f0f921"
             ]
            ],
            "type": "surface"
           }
          ],
          "table": [
           {
            "cells": {
             "fill": {
              "color": "#EBF0F8"
             },
             "line": {
              "color": "white"
             }
            },
            "header": {
             "fill": {
              "color": "#C8D4E3"
             },
             "line": {
              "color": "white"
             }
            },
            "type": "table"
           }
          ]
         },
         "layout": {
          "annotationdefaults": {
           "arrowcolor": "#2a3f5f",
           "arrowhead": 0,
           "arrowwidth": 1
          },
          "autotypenumbers": "strict",
          "coloraxis": {
           "colorbar": {
            "outlinewidth": 0,
            "ticks": ""
           }
          },
          "colorscale": {
           "diverging": [
            [
             0,
             "#8e0152"
            ],
            [
             0.1,
             "#c51b7d"
            ],
            [
             0.2,
             "#de77ae"
            ],
            [
             0.3,
             "#f1b6da"
            ],
            [
             0.4,
             "#fde0ef"
            ],
            [
             0.5,
             "#f7f7f7"
            ],
            [
             0.6,
             "#e6f5d0"
            ],
            [
             0.7,
             "#b8e186"
            ],
            [
             0.8,
             "#7fbc41"
            ],
            [
             0.9,
             "#4d9221"
            ],
            [
             1,
             "#276419"
            ]
           ],
           "sequential": [
            [
             0,
             "#0d0887"
            ],
            [
             0.1111111111111111,
             "#46039f"
            ],
            [
             0.2222222222222222,
             "#7201a8"
            ],
            [
             0.3333333333333333,
             "#9c179e"
            ],
            [
             0.4444444444444444,
             "#bd3786"
            ],
            [
             0.5555555555555556,
             "#d8576b"
            ],
            [
             0.6666666666666666,
             "#ed7953"
            ],
            [
             0.7777777777777778,
             "#fb9f3a"
            ],
            [
             0.8888888888888888,
             "#fdca26"
            ],
            [
             1,
             "#f0f921"
            ]
           ],
           "sequentialminus": [
            [
             0,
             "#0d0887"
            ],
            [
             0.1111111111111111,
             "#46039f"
            ],
            [
             0.2222222222222222,
             "#7201a8"
            ],
            [
             0.3333333333333333,
             "#9c179e"
            ],
            [
             0.4444444444444444,
             "#bd3786"
            ],
            [
             0.5555555555555556,
             "#d8576b"
            ],
            [
             0.6666666666666666,
             "#ed7953"
            ],
            [
             0.7777777777777778,
             "#fb9f3a"
            ],
            [
             0.8888888888888888,
             "#fdca26"
            ],
            [
             1,
             "#f0f921"
            ]
           ]
          },
          "colorway": [
           "#636efa",
           "#EF553B",
           "#00cc96",
           "#ab63fa",
           "#FFA15A",
           "#19d3f3",
           "#FF6692",
           "#B6E880",
           "#FF97FF",
           "#FECB52"
          ],
          "font": {
           "color": "#2a3f5f"
          },
          "geo": {
           "bgcolor": "white",
           "lakecolor": "white",
           "landcolor": "#E5ECF6",
           "showlakes": true,
           "showland": true,
           "subunitcolor": "white"
          },
          "hoverlabel": {
           "align": "left"
          },
          "hovermode": "closest",
          "mapbox": {
           "style": "light"
          },
          "paper_bgcolor": "white",
          "plot_bgcolor": "#E5ECF6",
          "polar": {
           "angularaxis": {
            "gridcolor": "white",
            "linecolor": "white",
            "ticks": ""
           },
           "bgcolor": "#E5ECF6",
           "radialaxis": {
            "gridcolor": "white",
            "linecolor": "white",
            "ticks": ""
           }
          },
          "scene": {
           "xaxis": {
            "backgroundcolor": "#E5ECF6",
            "gridcolor": "white",
            "gridwidth": 2,
            "linecolor": "white",
            "showbackground": true,
            "ticks": "",
            "zerolinecolor": "white"
           },
           "yaxis": {
            "backgroundcolor": "#E5ECF6",
            "gridcolor": "white",
            "gridwidth": 2,
            "linecolor": "white",
            "showbackground": true,
            "ticks": "",
            "zerolinecolor": "white"
           },
           "zaxis": {
            "backgroundcolor": "#E5ECF6",
            "gridcolor": "white",
            "gridwidth": 2,
            "linecolor": "white",
            "showbackground": true,
            "ticks": "",
            "zerolinecolor": "white"
           }
          },
          "shapedefaults": {
           "line": {
            "color": "#2a3f5f"
           }
          },
          "ternary": {
           "aaxis": {
            "gridcolor": "white",
            "linecolor": "white",
            "ticks": ""
           },
           "baxis": {
            "gridcolor": "white",
            "linecolor": "white",
            "ticks": ""
           },
           "bgcolor": "#E5ECF6",
           "caxis": {
            "gridcolor": "white",
            "linecolor": "white",
            "ticks": ""
           }
          },
          "title": {
           "x": 0.05
          },
          "xaxis": {
           "automargin": true,
           "gridcolor": "white",
           "linecolor": "white",
           "ticks": "",
           "title": {
            "standoff": 15
           },
           "zerolinecolor": "white",
           "zerolinewidth": 2
          },
          "yaxis": {
           "automargin": true,
           "gridcolor": "white",
           "linecolor": "white",
           "ticks": "",
           "title": {
            "standoff": 15
           },
           "zerolinecolor": "white",
           "zerolinewidth": 2
          }
         }
        },
        "title": {
         "text": "Comparación por país: COSTA RICA, tipo: 14"
        },
        "width": 2000,
        "xaxis": {
         "anchor": "y",
         "domain": [
          0,
          0.16799999999999998
         ],
         "title": {
          "text": "SEMID"
         }
        },
        "xaxis2": {
         "anchor": "y2",
         "domain": [
          0.208,
          0.376
         ],
         "title": {
          "text": "SEMID"
         }
        },
        "xaxis3": {
         "anchor": "y3",
         "domain": [
          0.416,
          0.584
         ],
         "title": {
          "text": "SEMID"
         }
        },
        "xaxis4": {
         "anchor": "y4",
         "domain": [
          0.624,
          0.792
         ],
         "title": {
          "text": "SEMID"
         }
        },
        "xaxis5": {
         "anchor": "y5",
         "domain": [
          0.832,
          1
         ],
         "title": {
          "text": "SEMID"
         }
        },
        "yaxis": {
         "anchor": "x",
         "domain": [
          0,
          1
         ],
         "title": {
          "text": "Valor"
         }
        },
        "yaxis2": {
         "anchor": "x2",
         "domain": [
          0,
          1
         ]
        },
        "yaxis3": {
         "anchor": "x3",
         "domain": [
          0,
          1
         ]
        },
        "yaxis4": {
         "anchor": "x4",
         "domain": [
          0,
          1
         ]
        },
        "yaxis5": {
         "anchor": "x5",
         "domain": [
          0,
          1
         ]
        }
       }
      }
     },
     "metadata": {},
     "output_type": "display_data"
    },
    {
     "data": {
      "application/vnd.plotly.v1+json": {
       "config": {
        "plotlyServerURL": "https://plot.ly"
       },
       "data": [
        {
         "marker": {
          "color": "blue"
         },
         "mode": "lines+markers",
         "name": "Histórico",
         "showlegend": true,
         "type": "scatter",
         "x": {
          "bdata": "LAUtBS4FLwUwBTEFMgUzBTQFNQU2BTcFOAU5BToFOwU=",
          "dtype": "i2"
         },
         "xaxis": "x",
         "y": {
          "bdata": "AAAAAKD57UAAAAAAwGXnQAAAAACgNuVAAAAAACCm5kAAAAAAkNXzQAAAAACwUudAAAAAAAC76UAAAAAAIFblQAAAAACwRPBAAAAAAAA65UAAAAAAsEPxQAAAAABQG+xAAAAAAGBa5UAAAAAAyLrxQAAAAABAhe5AAAAAADBv6kA=",
          "dtype": "f8"
         },
         "yaxis": "y"
        },
        {
         "marker": {
          "color": "red",
          "size": 10
         },
         "mode": "markers",
         "name": "Nuevo con rechazos",
         "showlegend": true,
         "type": "scatter",
         "x": {
          "bdata": "OwU=",
          "dtype": "i2"
         },
         "xaxis": "x",
         "y": {
          "bdata": "AAAAALAq60A=",
          "dtype": "f8"
         },
         "yaxis": "y"
        },
        {
         "marker": {
          "color": "green",
          "size": 10,
          "symbol": "diamond"
         },
         "mode": "markers",
         "name": "Nuevo sin rechazos",
         "showlegend": true,
         "type": "scatter",
         "x": {
          "bdata": "OwU=",
          "dtype": "i2"
         },
         "xaxis": "x",
         "y": {
          "bdata": "AAAAADBv6kA=",
          "dtype": "f8"
         },
         "yaxis": "y"
        },
        {
         "marker": {
          "color": "blue"
         },
         "mode": "lines+markers",
         "name": "Histórico",
         "showlegend": false,
         "type": "scatter",
         "x": {
          "bdata": "LAUtBS4FLwUwBTEFMgUzBTQFNQU2BTcFOAU5BToFOwU=",
          "dtype": "i2"
         },
         "xaxis": "x2",
         "y": {
          "bdata": "AAAAAFBDH0EAAAAAbLUeQQAAAAAUZhxBAAAAAPijHUEAAAAAIN8bQQAAAABS+BxBAAAAAN5aHUEAAAAAvkweQQAAAACe7BtBAAAAACYtHUEAAAAAfAQdQQAAAADKFBpBAAAAAOzTF0EAAAAAPssSQQAAAAAQ2hNBAAAAAMCbFUE=",
          "dtype": "f8"
         },
         "yaxis": "y2"
        },
        {
         "marker": {
          "color": "red",
          "size": 10
         },
         "mode": "markers",
         "name": "Nuevo con rechazos",
         "showlegend": false,
         "type": "scatter",
         "x": {
          "bdata": "OwU=",
          "dtype": "i2"
         },
         "xaxis": "x2",
         "y": {
          "bdata": "AAAAANCbFUE=",
          "dtype": "f8"
         },
         "yaxis": "y2"
        },
        {
         "marker": {
          "color": "green",
          "size": 10,
          "symbol": "diamond"
         },
         "mode": "markers",
         "name": "Nuevo sin rechazos",
         "showlegend": false,
         "type": "scatter",
         "x": {
          "bdata": "OwU=",
          "dtype": "i2"
         },
         "xaxis": "x2",
         "y": {
          "bdata": "AAAAAMCbFUE=",
          "dtype": "f8"
         },
         "yaxis": "y2"
        },
        {
         "marker": {
          "color": "blue"
         },
         "mode": "lines+markers",
         "name": "Histórico",
         "showlegend": false,
         "type": "scatter",
         "x": {
          "bdata": "LAUtBS4FLwUwBTEFMgUzBTQFNQU2BTcFOAU5BToFOwU=",
          "dtype": "i2"
         },
         "xaxis": "x3",
         "y": {
          "bdata": "EoPAyh+qA0H+1HjpZrD9QGQ7308B3gRBT6+UZUzj+0CzDHGs+JoHQXWTGIQfWgBBvAUSFOcr/UAN4C2QOuT6QClcj8KXNANBZmZmZuZf/ECkcD0Kt7gGQRSuR+H5KwFBpHA9CqcP/kDhehSupWz+QBSuR+FiQQdB9ihcj1aUAkE=",
          "dtype": "f8"
         },
         "yaxis": "y3"
        },
        {
         "marker": {
          "color": "red",
          "size": 10
         },
         "mode": "markers",
         "name": "Nuevo con rechazos",
         "showlegend": false,
         "type": "scatter",
         "x": {
          "bdata": "OwU=",
          "dtype": "i2"
         },
         "xaxis": "x3",
         "y": {
          "bdata": "exSuR/HVAkE=",
          "dtype": "f8"
         },
         "yaxis": "y3"
        },
        {
         "marker": {
          "color": "green",
          "size": 10,
          "symbol": "diamond"
         },
         "mode": "markers",
         "name": "Nuevo sin rechazos",
         "showlegend": false,
         "type": "scatter",
         "x": {
          "bdata": "OwU=",
          "dtype": "i2"
         },
         "xaxis": "x3",
         "y": {
          "bdata": "9ihcj1aUAkE=",
          "dtype": "f8"
         },
         "yaxis": "y3"
        },
        {
         "marker": {
          "color": "blue"
         },
         "mode": "lines+markers",
         "name": "Histórico",
         "showlegend": false,
         "type": "scatter",
         "x": {
          "bdata": "LAUtBS4FLwUwBTEFMgUzBTQFNQU2BTcFOAU5BToFOwU=",
          "dtype": "i2"
         },
         "xaxis": "x4",
         "y": {
          "bdata": "zhlRwj/JSUFd3EYrw7dJQbKd76eDq0hBowG83UBkSUEMk6mqd0RJQaCJsGEdX0lBoWez2jgySUHT3uCDVohJQR+F6wG4aUlBZmZmBtoDOUEK16OwLdg4QVyPwpV1LjdBj8L16DR6NUGuR+HarXYzQSlcj+JJZDJBPQrXg5AgM0E=",
          "dtype": "f8"
         },
         "yaxis": "y4"
        },
        {
         "marker": {
          "color": "green",
          "size": 10,
          "symbol": "diamond"
         },
         "mode": "markers",
         "name": "Nuevo sin rechazos",
         "showlegend": false,
         "type": "scatter",
         "x": {
          "bdata": "OwU=",
          "dtype": "i2"
         },
         "xaxis": "x4",
         "y": {
          "bdata": "PQrXg5AgM0E=",
          "dtype": "f8"
         },
         "yaxis": "y4"
        },
        {
         "marker": {
          "color": "blue"
         },
         "mode": "lines+markers",
         "name": "Histórico",
         "showlegend": false,
         "type": "scatter",
         "x": {
          "bdata": "LAUtBS4FLwUwBTEFMgUzBTQFNQU2BTcFOAU5BToFOwU=",
          "dtype": "i2"
         },
         "xaxis": "x5",
         "y": {
          "bdata": "zhlRwj/JSUFd3EYrw7dJQbKd76eDq0hBowG83UBkSUEMk6mqd0RJQaCJsGEdX0lBoWez2jgySUHT3uCDVohJQR+F6wG4aUlBZmZmBtoDOUEK16OwLdg4QVyPwpV1LjdBj8L16DR6NUGuR+HarXYzQSlcj+JJZDJBPQrXg5AgM0E=",
          "dtype": "f8"
         },
         "yaxis": "y5"
        },
        {
         "marker": {
          "color": "green",
          "size": 10,
          "symbol": "diamond"
         },
         "mode": "markers",
         "name": "Nuevo sin rechazos",
         "showlegend": false,
         "type": "scatter",
         "x": {
          "bdata": "OwU=",
          "dtype": "i2"
         },
         "xaxis": "x5",
         "y": {
          "bdata": "PQrXg5AgM0E=",
          "dtype": "f8"
         },
         "yaxis": "y5"
        }
       ],
       "layout": {
        "annotations": [
         {
          "font": {
           "size": 16
          },
          "showarrow": false,
          "text": "SOUTCANTDESP",
          "x": 0.08399999999999999,
          "xanchor": "center",
          "xref": "paper",
          "y": 1,
          "yanchor": "bottom",
          "yref": "paper"
         },
         {
          "font": {
           "size": 16
          },
          "showarrow": false,
          "text": "SOUTCANTEXIST",
          "x": 0.292,
          "xanchor": "center",
          "xref": "paper",
          "y": 1,
          "yanchor": "bottom",
          "yref": "paper"
         },
         {
          "font": {
           "size": 16
          },
          "showarrow": false,
          "text": "SOUTMONTODESPBRT",
          "x": 0.5,
          "xanchor": "center",
          "xref": "paper",
          "y": 1,
          "yanchor": "bottom",
          "yref": "paper"
         },
         {
          "font": {
           "size": 16
          },
          "showarrow": false,
          "text": "SOUTMONTOEXISTBRT",
          "x": 0.708,
          "xanchor": "center",
          "xref": "paper",
          "y": 1,
          "yanchor": "bottom",
          "yref": "paper"
         },
         {
          "font": {
           "size": 16
          },
          "showarrow": false,
          "text": "SOUTMONTOINVBRT",
          "x": 0.9159999999999999,
          "xanchor": "center",
          "xref": "paper",
          "y": 1,
          "yanchor": "bottom",
          "yref": "paper"
         }
        ],
        "height": 400,
        "showlegend": true,
        "template": {
         "data": {
          "bar": [
           {
            "error_x": {
             "color": "#2a3f5f"
            },
            "error_y": {
             "color": "#2a3f5f"
            },
            "marker": {
             "line": {
              "color": "#E5ECF6",
              "width": 0.5
             },
             "pattern": {
              "fillmode": "overlay",
              "size": 10,
              "solidity": 0.2
             }
            },
            "type": "bar"
           }
          ],
          "barpolar": [
           {
            "marker": {
             "line": {
              "color": "#E5ECF6",
              "width": 0.5
             },
             "pattern": {
              "fillmode": "overlay",
              "size": 10,
              "solidity": 0.2
             }
            },
            "type": "barpolar"
           }
          ],
          "carpet": [
           {
            "aaxis": {
             "endlinecolor": "#2a3f5f",
             "gridcolor": "white",
             "linecolor": "white",
             "minorgridcolor": "white",
             "startlinecolor": "#2a3f5f"
            },
            "baxis": {
             "endlinecolor": "#2a3f5f",
             "gridcolor": "white",
             "linecolor": "white",
             "minorgridcolor": "white",
             "startlinecolor": "#2a3f5f"
            },
            "type": "carpet"
           }
          ],
          "choropleth": [
           {
            "colorbar": {
             "outlinewidth": 0,
             "ticks": ""
            },
            "type": "choropleth"
           }
          ],
          "contour": [
           {
            "colorbar": {
             "outlinewidth": 0,
             "ticks": ""
            },
            "colorscale": [
             [
              0,
              "#0d0887"
             ],
             [
              0.1111111111111111,
              "#46039f"
             ],
             [
              0.2222222222222222,
              "#7201a8"
             ],
             [
              0.3333333333333333,
              "#9c179e"
             ],
             [
              0.4444444444444444,
              "#bd3786"
             ],
             [
              0.5555555555555556,
              "#d8576b"
             ],
             [
              0.6666666666666666,
              "#ed7953"
             ],
             [
              0.7777777777777778,
              "#fb9f3a"
             ],
             [
              0.8888888888888888,
              "#fdca26"
             ],
             [
              1,
              "#f0f921"
             ]
            ],
            "type": "contour"
           }
          ],
          "contourcarpet": [
           {
            "colorbar": {
             "outlinewidth": 0,
             "ticks": ""
            },
            "type": "contourcarpet"
           }
          ],
          "heatmap": [
           {
            "colorbar": {
             "outlinewidth": 0,
             "ticks": ""
            },
            "colorscale": [
             [
              0,
              "#0d0887"
             ],
             [
              0.1111111111111111,
              "#46039f"
             ],
             [
              0.2222222222222222,
              "#7201a8"
             ],
             [
              0.3333333333333333,
              "#9c179e"
             ],
             [
              0.4444444444444444,
              "#bd3786"
             ],
             [
              0.5555555555555556,
              "#d8576b"
             ],
             [
              0.6666666666666666,
              "#ed7953"
             ],
             [
              0.7777777777777778,
              "#fb9f3a"
             ],
             [
              0.8888888888888888,
              "#fdca26"
             ],
             [
              1,
              "#f0f921"
             ]
            ],
            "type": "heatmap"
           }
          ],
          "histogram": [
           {
            "marker": {
             "pattern": {
              "fillmode": "overlay",
              "size": 10,
              "solidity": 0.2
             }
            },
            "type": "histogram"
           }
          ],
          "histogram2d": [
           {
            "colorbar": {
             "outlinewidth": 0,
             "ticks": ""
            },
            "colorscale": [
             [
              0,
              "#0d0887"
             ],
             [
              0.1111111111111111,
              "#46039f"
             ],
             [
              0.2222222222222222,
              "#7201a8"
             ],
             [
              0.3333333333333333,
              "#9c179e"
             ],
             [
              0.4444444444444444,
              "#bd3786"
             ],
             [
              0.5555555555555556,
              "#d8576b"
             ],
             [
              0.6666666666666666,
              "#ed7953"
             ],
             [
              0.7777777777777778,
              "#fb9f3a"
             ],
             [
              0.8888888888888888,
              "#fdca26"
             ],
             [
              1,
              "#f0f921"
             ]
            ],
            "type": "histogram2d"
           }
          ],
          "histogram2dcontour": [
           {
            "colorbar": {
             "outlinewidth": 0,
             "ticks": ""
            },
            "colorscale": [
             [
              0,
              "#0d0887"
             ],
             [
              0.1111111111111111,
              "#46039f"
             ],
             [
              0.2222222222222222,
              "#7201a8"
             ],
             [
              0.3333333333333333,
              "#9c179e"
             ],
             [
              0.4444444444444444,
              "#bd3786"
             ],
             [
              0.5555555555555556,
              "#d8576b"
             ],
             [
              0.6666666666666666,
              "#ed7953"
             ],
             [
              0.7777777777777778,
              "#fb9f3a"
             ],
             [
              0.8888888888888888,
              "#fdca26"
             ],
             [
              1,
              "#f0f921"
             ]
            ],
            "type": "histogram2dcontour"
           }
          ],
          "mesh3d": [
           {
            "colorbar": {
             "outlinewidth": 0,
             "ticks": ""
            },
            "type": "mesh3d"
           }
          ],
          "parcoords": [
           {
            "line": {
             "colorbar": {
              "outlinewidth": 0,
              "ticks": ""
             }
            },
            "type": "parcoords"
           }
          ],
          "pie": [
           {
            "automargin": true,
            "type": "pie"
           }
          ],
          "scatter": [
           {
            "fillpattern": {
             "fillmode": "overlay",
             "size": 10,
             "solidity": 0.2
            },
            "type": "scatter"
           }
          ],
          "scatter3d": [
           {
            "line": {
             "colorbar": {
              "outlinewidth": 0,
              "ticks": ""
             }
            },
            "marker": {
             "colorbar": {
              "outlinewidth": 0,
              "ticks": ""
             }
            },
            "type": "scatter3d"
           }
          ],
          "scattercarpet": [
           {
            "marker": {
             "colorbar": {
              "outlinewidth": 0,
              "ticks": ""
             }
            },
            "type": "scattercarpet"
           }
          ],
          "scattergeo": [
           {
            "marker": {
             "colorbar": {
              "outlinewidth": 0,
              "ticks": ""
             }
            },
            "type": "scattergeo"
           }
          ],
          "scattergl": [
           {
            "marker": {
             "colorbar": {
              "outlinewidth": 0,
              "ticks": ""
             }
            },
            "type": "scattergl"
           }
          ],
          "scattermap": [
           {
            "marker": {
             "colorbar": {
              "outlinewidth": 0,
              "ticks": ""
             }
            },
            "type": "scattermap"
           }
          ],
          "scattermapbox": [
           {
            "marker": {
             "colorbar": {
              "outlinewidth": 0,
              "ticks": ""
             }
            },
            "type": "scattermapbox"
           }
          ],
          "scatterpolar": [
           {
            "marker": {
             "colorbar": {
              "outlinewidth": 0,
              "ticks": ""
             }
            },
            "type": "scatterpolar"
           }
          ],
          "scatterpolargl": [
           {
            "marker": {
             "colorbar": {
              "outlinewidth": 0,
              "ticks": ""
             }
            },
            "type": "scatterpolargl"
           }
          ],
          "scatterternary": [
           {
            "marker": {
             "colorbar": {
              "outlinewidth": 0,
              "ticks": ""
             }
            },
            "type": "scatterternary"
           }
          ],
          "surface": [
           {
            "colorbar": {
             "outlinewidth": 0,
             "ticks": ""
            },
            "colorscale": [
             [
              0,
              "#0d0887"
             ],
             [
              0.1111111111111111,
              "#46039f"
             ],
             [
              0.2222222222222222,
              "#7201a8"
             ],
             [
              0.3333333333333333,
              "#9c179e"
             ],
             [
              0.4444444444444444,
              "#bd3786"
             ],
             [
              0.5555555555555556,
              "#d8576b"
             ],
             [
              0.6666666666666666,
              "#ed7953"
             ],
             [
              0.7777777777777778,
              "#fb9f3a"
             ],
             [
              0.8888888888888888,
              "#fdca26"
             ],
             [
              1,
              "#f0f921"
             ]
            ],
            "type": "surface"
           }
          ],
          "table": [
           {
            "cells": {
             "fill": {
              "color": "#EBF0F8"
             },
             "line": {
              "color": "white"
             }
            },
            "header": {
             "fill": {
              "color": "#C8D4E3"
             },
             "line": {
              "color": "white"
             }
            },
            "type": "table"
           }
          ]
         },
         "layout": {
          "annotationdefaults": {
           "arrowcolor": "#2a3f5f",
           "arrowhead": 0,
           "arrowwidth": 1
          },
          "autotypenumbers": "strict",
          "coloraxis": {
           "colorbar": {
            "outlinewidth": 0,
            "ticks": ""
           }
          },
          "colorscale": {
           "diverging": [
            [
             0,
             "#8e0152"
            ],
            [
             0.1,
             "#c51b7d"
            ],
            [
             0.2,
             "#de77ae"
            ],
            [
             0.3,
             "#f1b6da"
            ],
            [
             0.4,
             "#fde0ef"
            ],
            [
             0.5,
             "#f7f7f7"
            ],
            [
             0.6,
             "#e6f5d0"
            ],
            [
             0.7,
             "#b8e186"
            ],
            [
             0.8,
             "#7fbc41"
            ],
            [
             0.9,
             "#4d9221"
            ],
            [
             1,
             "#276419"
            ]
           ],
           "sequential": [
            [
             0,
             "#0d0887"
            ],
            [
             0.1111111111111111,
             "#46039f"
            ],
            [
             0.2222222222222222,
             "#7201a8"
            ],
            [
             0.3333333333333333,
             "#9c179e"
            ],
            [
             0.4444444444444444,
             "#bd3786"
            ],
            [
             0.5555555555555556,
             "#d8576b"
            ],
            [
             0.6666666666666666,
             "#ed7953"
            ],
            [
             0.7777777777777778,
             "#fb9f3a"
            ],
            [
             0.8888888888888888,
             "#fdca26"
            ],
            [
             1,
             "#f0f921"
            ]
           ],
           "sequentialminus": [
            [
             0,
             "#0d0887"
            ],
            [
             0.1111111111111111,
             "#46039f"
            ],
            [
             0.2222222222222222,
             "#7201a8"
            ],
            [
             0.3333333333333333,
             "#9c179e"
            ],
            [
             0.4444444444444444,
             "#bd3786"
            ],
            [
             0.5555555555555556,
             "#d8576b"
            ],
            [
             0.6666666666666666,
             "#ed7953"
            ],
            [
             0.7777777777777778,
             "#fb9f3a"
            ],
            [
             0.8888888888888888,
             "#fdca26"
            ],
            [
             1,
             "#f0f921"
            ]
           ]
          },
          "colorway": [
           "#636efa",
           "#EF553B",
           "#00cc96",
           "#ab63fa",
           "#FFA15A",
           "#19d3f3",
           "#FF6692",
           "#B6E880",
           "#FF97FF",
           "#FECB52"
          ],
          "font": {
           "color": "#2a3f5f"
          },
          "geo": {
           "bgcolor": "white",
           "lakecolor": "white",
           "landcolor": "#E5ECF6",
           "showlakes": true,
           "showland": true,
           "subunitcolor": "white"
          },
          "hoverlabel": {
           "align": "left"
          },
          "hovermode": "closest",
          "mapbox": {
           "style": "light"
          },
          "paper_bgcolor": "white",
          "plot_bgcolor": "#E5ECF6",
          "polar": {
           "angularaxis": {
            "gridcolor": "white",
            "linecolor": "white",
            "ticks": ""
           },
           "bgcolor": "#E5ECF6",
           "radialaxis": {
            "gridcolor": "white",
            "linecolor": "white",
            "ticks": ""
           }
          },
          "scene": {
           "xaxis": {
            "backgroundcolor": "#E5ECF6",
            "gridcolor": "white",
            "gridwidth": 2,
            "linecolor": "white",
            "showbackground": true,
            "ticks": "",
            "zerolinecolor": "white"
           },
           "yaxis": {
            "backgroundcolor": "#E5ECF6",
            "gridcolor": "white",
            "gridwidth": 2,
            "linecolor": "white",
            "showbackground": true,
            "ticks": "",
            "zerolinecolor": "white"
           },
           "zaxis": {
            "backgroundcolor": "#E5ECF6",
            "gridcolor": "white",
            "gridwidth": 2,
            "linecolor": "white",
            "showbackground": true,
            "ticks": "",
            "zerolinecolor": "white"
           }
          },
          "shapedefaults": {
           "line": {
            "color": "#2a3f5f"
           }
          },
          "ternary": {
           "aaxis": {
            "gridcolor": "white",
            "linecolor": "white",
            "ticks": ""
           },
           "baxis": {
            "gridcolor": "white",
            "linecolor": "white",
            "ticks": ""
           },
           "bgcolor": "#E5ECF6",
           "caxis": {
            "gridcolor": "white",
            "linecolor": "white",
            "ticks": ""
           }
          },
          "title": {
           "x": 0.05
          },
          "xaxis": {
           "automargin": true,
           "gridcolor": "white",
           "linecolor": "white",
           "ticks": "",
           "title": {
            "standoff": 15
           },
           "zerolinecolor": "white",
           "zerolinewidth": 2
          },
          "yaxis": {
           "automargin": true,
           "gridcolor": "white",
           "linecolor": "white",
           "ticks": "",
           "title": {
            "standoff": 15
           },
           "zerolinecolor": "white",
           "zerolinewidth": 2
          }
         }
        },
        "title": {
         "text": "Comparación por país: EL SALVADOR, tipo: 15"
        },
        "width": 2000,
        "xaxis": {
         "anchor": "y",
         "domain": [
          0,
          0.16799999999999998
         ],
         "title": {
          "text": "SEMID"
         }
        },
        "xaxis2": {
         "anchor": "y2",
         "domain": [
          0.208,
          0.376
         ],
         "title": {
          "text": "SEMID"
         }
        },
        "xaxis3": {
         "anchor": "y3",
         "domain": [
          0.416,
          0.584
         ],
         "title": {
          "text": "SEMID"
         }
        },
        "xaxis4": {
         "anchor": "y4",
         "domain": [
          0.624,
          0.792
         ],
         "title": {
          "text": "SEMID"
         }
        },
        "xaxis5": {
         "anchor": "y5",
         "domain": [
          0.832,
          1
         ],
         "title": {
          "text": "SEMID"
         }
        },
        "yaxis": {
         "anchor": "x",
         "domain": [
          0,
          1
         ],
         "title": {
          "text": "Valor"
         }
        },
        "yaxis2": {
         "anchor": "x2",
         "domain": [
          0,
          1
         ]
        },
        "yaxis3": {
         "anchor": "x3",
         "domain": [
          0,
          1
         ]
        },
        "yaxis4": {
         "anchor": "x4",
         "domain": [
          0,
          1
         ]
        },
        "yaxis5": {
         "anchor": "x5",
         "domain": [
          0,
          1
         ]
        }
       }
      }
     },
     "metadata": {},
     "output_type": "display_data"
    },
    {
     "data": {
      "application/vnd.plotly.v1+json": {
       "config": {
        "plotlyServerURL": "https://plot.ly"
       },
       "data": [
        {
         "marker": {
          "color": "blue"
         },
         "mode": "lines+markers",
         "name": "Histórico",
         "showlegend": true,
         "type": "scatter",
         "x": {
          "bdata": "LAUtBS4FLwUwBTEFMgUzBTQFNQU2BTcFOAU5BToFOwU=",
          "dtype": "i2"
         },
         "xaxis": "x",
         "y": {
          "bdata": "SgwCK+On10AZ4lgXYyDVQFmGONZJcNRAAd4CCYqK00BZhjjWWXPRQKfoSC7zt9BA/7J78vwz1EAKaCJsQLvVQHE9Ctc7GNJAYVRSJwB10UB0tRX7/3HRQGsr9peZBdtAzczMzMwX2kDf4AuTGaLYQJXUCWimyNZA3SQGgRnZ20A=",
          "dtype": "f8"
         },
         "yaxis": "y"
        },
        {
         "marker": {
          "color": "red",
          "size": 10
         },
         "mode": "markers",
         "name": "Nuevo con rechazos",
         "showlegend": true,
         "type": "scatter",
         "x": {
          "bdata": "OwU=",
          "dtype": "i2"
         },
         "xaxis": "x",
         "y": {
          "bdata": "GqiMf1no3UA=",
          "dtype": "f8"
         },
         "yaxis": "y"
        },
        {
         "marker": {
          "color": "green",
          "size": 10,
          "symbol": "diamond"
         },
         "mode": "markers",
         "name": "Nuevo sin rechazos",
         "showlegend": true,
         "type": "scatter",
         "x": {
          "bdata": "OwU=",
          "dtype": "i2"
         },
         "xaxis": "x",
         "y": {
          "bdata": "GqiMfxnZ20A=",
          "dtype": "f8"
         },
         "yaxis": "y"
        },
        {
         "marker": {
          "color": "blue"
         },
         "mode": "lines+markers",
         "name": "Histórico",
         "showlegend": false,
         "type": "scatter",
         "x": {
          "bdata": "LAUtBS4FLwUwBTEFMgUzBTQFNQU2BTcFOAU5BToFOwU=",
          "dtype": "i2"
         },
         "xaxis": "x2",
         "y": {
          "bdata": "AAAAAKBL/0AAAAAA+OwAQQAAAAD42gJBAAAAABihAEEAAAAAsCUDQQAAAACIUgRBAAAAAHC5BUEAAAAAQBUEQQAAAABQuQRBAAAAAIipB0EAAAAAaA8GQQAAAABgugRBAAAAANjLAkEAAAAAaOwDQQAAAAAY9gRBAAAAAIhuBUE=",
          "dtype": "f8"
         },
         "yaxis": "y2"
        },
        {
         "marker": {
          "color": "red",
          "size": 10
         },
         "mode": "markers",
         "name": "Nuevo con rechazos",
         "showlegend": false,
         "type": "scatter",
         "x": {
          "bdata": "OwU=",
          "dtype": "i2"
         },
         "xaxis": "x2",
         "y": {
          "bdata": "AAAAAMCNBUE=",
          "dtype": "f8"
         },
         "yaxis": "y2"
        },
        {
         "marker": {
          "color": "green",
          "size": 10,
          "symbol": "diamond"
         },
         "mode": "markers",
         "name": "Nuevo sin rechazos",
         "showlegend": false,
         "type": "scatter",
         "x": {
          "bdata": "OwU=",
          "dtype": "i2"
         },
         "xaxis": "x2",
         "y": {
          "bdata": "AAAAAIhuBUE=",
          "dtype": "f8"
         },
         "yaxis": "y2"
        },
        {
         "marker": {
          "color": "blue"
         },
         "mode": "lines+markers",
         "name": "Histórico",
         "showlegend": false,
         "type": "scatter",
         "x": {
          "bdata": "LAUtBS4FLwUwBTEFMgUzBTQFNQU2BTcFOAU5BToFOwU=",
          "dtype": "i2"
         },
         "xaxis": "x3",
         "y": {
          "bdata": "gLdAghtY9EAXSFD8SNP2QNZW7C8dUuxAZMxdS4YT9ECCc0aUtEPrQIEExY9/7u9AOGdEaQkD8EBIv30dkfTzQFr1udqWBOlAcvkP6R+O70BSJ6CJ1KnuQA1xrIsn6/JAdnEbDYBm9kDn+6nxFMfzQJ2AJsJvhvJAIv32dThG+EA=",
          "dtype": "f8"
         },
         "yaxis": "y3"
        },
        {
         "marker": {
          "color": "red",
          "size": 10
         },
         "mode": "markers",
         "name": "Nuevo con rechazos",
         "showlegend": false,
         "type": "scatter",
         "x": {
          "bdata": "OwU=",
          "dtype": "i2"
         },
         "xaxis": "x3",
         "y": {
          "bdata": "mmp/B1OQ+UA=",
          "dtype": "f8"
         },
         "yaxis": "y3"
        },
        {
         "marker": {
          "color": "green",
          "size": 10,
          "symbol": "diamond"
         },
         "mode": "markers",
         "name": "Nuevo sin rechazos",
         "showlegend": false,
         "type": "scatter",
         "x": {
          "bdata": "OwU=",
          "dtype": "i2"
         },
         "xaxis": "x3",
         "y": {
          "bdata": "PEYTdThG+EA=",
          "dtype": "f8"
         },
         "yaxis": "y3"
        },
        {
         "marker": {
          "color": "blue"
         },
         "mode": "lines+markers",
         "name": "Histórico",
         "showlegend": false,
         "type": "scatter",
         "x": {
          "bdata": "LAUtBS4FLwUwBTEFMgUzBTQFNQU2BTcFOAU5BToFOwU=",
          "dtype": "i2"
         },
         "xaxis": "x4",
         "y": {
          "bdata": "001iUHNJG0FGlPaGZCcbQT2bVR+JeR1BejarvidFGUGcxCAw50YdQdNNYlCcthtBm1Wfa8qnHEGjAbyFZTsbQTeJQaCvOiJBV+wvm9+GIkF2Tx5W1P4gQZhuEuP4cSFBjNto4PHbIEF56SZRzoAgQQ6+MHkldiBBXkvIJxJdI0E=",
          "dtype": "f8"
         },
         "yaxis": "y4"
        },
        {
         "marker": {
          "color": "green",
          "size": 10,
          "symbol": "diamond"
         },
         "mode": "markers",
         "name": "Nuevo sin rechazos",
         "showlegend": false,
         "type": "scatter",
         "x": {
          "bdata": "OwU=",
          "dtype": "i2"
         },
         "xaxis": "x4",
         "y": {
          "bdata": "SMTPJxJdI0E=",
          "dtype": "f8"
         },
         "yaxis": "y4"
        },
        {
         "marker": {
          "color": "blue"
         },
         "mode": "lines+markers",
         "name": "Histórico",
         "showlegend": false,
         "type": "scatter",
         "x": {
          "bdata": "LAUtBS4FLwUwBTEFMgUzBTQFNQU2BTcFOAU5BToFOwU=",
          "dtype": "i2"
         },
         "xaxis": "x5",
         "y": {
          "bdata": "001iUHNJG0FGlPaGZCcbQT2bVR+JeR1BejarvidFGUGcxCAw50YdQdNNYlCcthtBm1Wfa8qnHEGjAbyFZTsbQTeJQaCvOiJBV+wvm9+GIkF2Tx5W1P4gQZhuEuP4cSFBjNto4PHbIEF56SZRzoAgQQ6+MHkldiBBXkvIJxJdI0E=",
          "dtype": "f8"
         },
         "yaxis": "y5"
        },
        {
         "marker": {
          "color": "green",
          "size": 10,
          "symbol": "diamond"
         },
         "mode": "markers",
         "name": "Nuevo sin rechazos",
         "showlegend": false,
         "type": "scatter",
         "x": {
          "bdata": "OwU=",
          "dtype": "i2"
         },
         "xaxis": "x5",
         "y": {
          "bdata": "SMTPJxJdI0E=",
          "dtype": "f8"
         },
         "yaxis": "y5"
        }
       ],
       "layout": {
        "annotations": [
         {
          "font": {
           "size": 16
          },
          "showarrow": false,
          "text": "SOUTCANTDESP",
          "x": 0.08399999999999999,
          "xanchor": "center",
          "xref": "paper",
          "y": 1,
          "yanchor": "bottom",
          "yref": "paper"
         },
         {
          "font": {
           "size": 16
          },
          "showarrow": false,
          "text": "SOUTCANTEXIST",
          "x": 0.292,
          "xanchor": "center",
          "xref": "paper",
          "y": 1,
          "yanchor": "bottom",
          "yref": "paper"
         },
         {
          "font": {
           "size": 16
          },
          "showarrow": false,
          "text": "SOUTMONTODESPBRT",
          "x": 0.5,
          "xanchor": "center",
          "xref": "paper",
          "y": 1,
          "yanchor": "bottom",
          "yref": "paper"
         },
         {
          "font": {
           "size": 16
          },
          "showarrow": false,
          "text": "SOUTMONTOEXISTBRT",
          "x": 0.708,
          "xanchor": "center",
          "xref": "paper",
          "y": 1,
          "yanchor": "bottom",
          "yref": "paper"
         },
         {
          "font": {
           "size": 16
          },
          "showarrow": false,
          "text": "SOUTMONTOINVBRT",
          "x": 0.9159999999999999,
          "xanchor": "center",
          "xref": "paper",
          "y": 1,
          "yanchor": "bottom",
          "yref": "paper"
         }
        ],
        "height": 400,
        "showlegend": true,
        "template": {
         "data": {
          "bar": [
           {
            "error_x": {
             "color": "#2a3f5f"
            },
            "error_y": {
             "color": "#2a3f5f"
            },
            "marker": {
             "line": {
              "color": "#E5ECF6",
              "width": 0.5
             },
             "pattern": {
              "fillmode": "overlay",
              "size": 10,
              "solidity": 0.2
             }
            },
            "type": "bar"
           }
          ],
          "barpolar": [
           {
            "marker": {
             "line": {
              "color": "#E5ECF6",
              "width": 0.5
             },
             "pattern": {
              "fillmode": "overlay",
              "size": 10,
              "solidity": 0.2
             }
            },
            "type": "barpolar"
           }
          ],
          "carpet": [
           {
            "aaxis": {
             "endlinecolor": "#2a3f5f",
             "gridcolor": "white",
             "linecolor": "white",
             "minorgridcolor": "white",
             "startlinecolor": "#2a3f5f"
            },
            "baxis": {
             "endlinecolor": "#2a3f5f",
             "gridcolor": "white",
             "linecolor": "white",
             "minorgridcolor": "white",
             "startlinecolor": "#2a3f5f"
            },
            "type": "carpet"
           }
          ],
          "choropleth": [
           {
            "colorbar": {
             "outlinewidth": 0,
             "ticks": ""
            },
            "type": "choropleth"
           }
          ],
          "contour": [
           {
            "colorbar": {
             "outlinewidth": 0,
             "ticks": ""
            },
            "colorscale": [
             [
              0,
              "#0d0887"
             ],
             [
              0.1111111111111111,
              "#46039f"
             ],
             [
              0.2222222222222222,
              "#7201a8"
             ],
             [
              0.3333333333333333,
              "#9c179e"
             ],
             [
              0.4444444444444444,
              "#bd3786"
             ],
             [
              0.5555555555555556,
              "#d8576b"
             ],
             [
              0.6666666666666666,
              "#ed7953"
             ],
             [
              0.7777777777777778,
              "#fb9f3a"
             ],
             [
              0.8888888888888888,
              "#fdca26"
             ],
             [
              1,
              "#f0f921"
             ]
            ],
            "type": "contour"
           }
          ],
          "contourcarpet": [
           {
            "colorbar": {
             "outlinewidth": 0,
             "ticks": ""
            },
            "type": "contourcarpet"
           }
          ],
          "heatmap": [
           {
            "colorbar": {
             "outlinewidth": 0,
             "ticks": ""
            },
            "colorscale": [
             [
              0,
              "#0d0887"
             ],
             [
              0.1111111111111111,
              "#46039f"
             ],
             [
              0.2222222222222222,
              "#7201a8"
             ],
             [
              0.3333333333333333,
              "#9c179e"
             ],
             [
              0.4444444444444444,
              "#bd3786"
             ],
             [
              0.5555555555555556,
              "#d8576b"
             ],
             [
              0.6666666666666666,
              "#ed7953"
             ],
             [
              0.7777777777777778,
              "#fb9f3a"
             ],
             [
              0.8888888888888888,
              "#fdca26"
             ],
             [
              1,
              "#f0f921"
             ]
            ],
            "type": "heatmap"
           }
          ],
          "histogram": [
           {
            "marker": {
             "pattern": {
              "fillmode": "overlay",
              "size": 10,
              "solidity": 0.2
             }
            },
            "type": "histogram"
           }
          ],
          "histogram2d": [
           {
            "colorbar": {
             "outlinewidth": 0,
             "ticks": ""
            },
            "colorscale": [
             [
              0,
              "#0d0887"
             ],
             [
              0.1111111111111111,
              "#46039f"
             ],
             [
              0.2222222222222222,
              "#7201a8"
             ],
             [
              0.3333333333333333,
              "#9c179e"
             ],
             [
              0.4444444444444444,
              "#bd3786"
             ],
             [
              0.5555555555555556,
              "#d8576b"
             ],
             [
              0.6666666666666666,
              "#ed7953"
             ],
             [
              0.7777777777777778,
              "#fb9f3a"
             ],
             [
              0.8888888888888888,
              "#fdca26"
             ],
             [
              1,
              "#f0f921"
             ]
            ],
            "type": "histogram2d"
           }
          ],
          "histogram2dcontour": [
           {
            "colorbar": {
             "outlinewidth": 0,
             "ticks": ""
            },
            "colorscale": [
             [
              0,
              "#0d0887"
             ],
             [
              0.1111111111111111,
              "#46039f"
             ],
             [
              0.2222222222222222,
              "#7201a8"
             ],
             [
              0.3333333333333333,
              "#9c179e"
             ],
             [
              0.4444444444444444,
              "#bd3786"
             ],
             [
              0.5555555555555556,
              "#d8576b"
             ],
             [
              0.6666666666666666,
              "#ed7953"
             ],
             [
              0.7777777777777778,
              "#fb9f3a"
             ],
             [
              0.8888888888888888,
              "#fdca26"
             ],
             [
              1,
              "#f0f921"
             ]
            ],
            "type": "histogram2dcontour"
           }
          ],
          "mesh3d": [
           {
            "colorbar": {
             "outlinewidth": 0,
             "ticks": ""
            },
            "type": "mesh3d"
           }
          ],
          "parcoords": [
           {
            "line": {
             "colorbar": {
              "outlinewidth": 0,
              "ticks": ""
             }
            },
            "type": "parcoords"
           }
          ],
          "pie": [
           {
            "automargin": true,
            "type": "pie"
           }
          ],
          "scatter": [
           {
            "fillpattern": {
             "fillmode": "overlay",
             "size": 10,
             "solidity": 0.2
            },
            "type": "scatter"
           }
          ],
          "scatter3d": [
           {
            "line": {
             "colorbar": {
              "outlinewidth": 0,
              "ticks": ""
             }
            },
            "marker": {
             "colorbar": {
              "outlinewidth": 0,
              "ticks": ""
             }
            },
            "type": "scatter3d"
           }
          ],
          "scattercarpet": [
           {
            "marker": {
             "colorbar": {
              "outlinewidth": 0,
              "ticks": ""
             }
            },
            "type": "scattercarpet"
           }
          ],
          "scattergeo": [
           {
            "marker": {
             "colorbar": {
              "outlinewidth": 0,
              "ticks": ""
             }
            },
            "type": "scattergeo"
           }
          ],
          "scattergl": [
           {
            "marker": {
             "colorbar": {
              "outlinewidth": 0,
              "ticks": ""
             }
            },
            "type": "scattergl"
           }
          ],
          "scattermap": [
           {
            "marker": {
             "colorbar": {
              "outlinewidth": 0,
              "ticks": ""
             }
            },
            "type": "scattermap"
           }
          ],
          "scattermapbox": [
           {
            "marker": {
             "colorbar": {
              "outlinewidth": 0,
              "ticks": ""
             }
            },
            "type": "scattermapbox"
           }
          ],
          "scatterpolar": [
           {
            "marker": {
             "colorbar": {
              "outlinewidth": 0,
              "ticks": ""
             }
            },
            "type": "scatterpolar"
           }
          ],
          "scatterpolargl": [
           {
            "marker": {
             "colorbar": {
              "outlinewidth": 0,
              "ticks": ""
             }
            },
            "type": "scatterpolargl"
           }
          ],
          "scatterternary": [
           {
            "marker": {
             "colorbar": {
              "outlinewidth": 0,
              "ticks": ""
             }
            },
            "type": "scatterternary"
           }
          ],
          "surface": [
           {
            "colorbar": {
             "outlinewidth": 0,
             "ticks": ""
            },
            "colorscale": [
             [
              0,
              "#0d0887"
             ],
             [
              0.1111111111111111,
              "#46039f"
             ],
             [
              0.2222222222222222,
              "#7201a8"
             ],
             [
              0.3333333333333333,
              "#9c179e"
             ],
             [
              0.4444444444444444,
              "#bd3786"
             ],
             [
              0.5555555555555556,
              "#d8576b"
             ],
             [
              0.6666666666666666,
              "#ed7953"
             ],
             [
              0.7777777777777778,
              "#fb9f3a"
             ],
             [
              0.8888888888888888,
              "#fdca26"
             ],
             [
              1,
              "#f0f921"
             ]
            ],
            "type": "surface"
           }
          ],
          "table": [
           {
            "cells": {
             "fill": {
              "color": "#EBF0F8"
             },
             "line": {
              "color": "white"
             }
            },
            "header": {
             "fill": {
              "color": "#C8D4E3"
             },
             "line": {
              "color": "white"
             }
            },
            "type": "table"
           }
          ]
         },
         "layout": {
          "annotationdefaults": {
           "arrowcolor": "#2a3f5f",
           "arrowhead": 0,
           "arrowwidth": 1
          },
          "autotypenumbers": "strict",
          "coloraxis": {
           "colorbar": {
            "outlinewidth": 0,
            "ticks": ""
           }
          },
          "colorscale": {
           "diverging": [
            [
             0,
             "#8e0152"
            ],
            [
             0.1,
             "#c51b7d"
            ],
            [
             0.2,
             "#de77ae"
            ],
            [
             0.3,
             "#f1b6da"
            ],
            [
             0.4,
             "#fde0ef"
            ],
            [
             0.5,
             "#f7f7f7"
            ],
            [
             0.6,
             "#e6f5d0"
            ],
            [
             0.7,
             "#b8e186"
            ],
            [
             0.8,
             "#7fbc41"
            ],
            [
             0.9,
             "#4d9221"
            ],
            [
             1,
             "#276419"
            ]
           ],
           "sequential": [
            [
             0,
             "#0d0887"
            ],
            [
             0.1111111111111111,
             "#46039f"
            ],
            [
             0.2222222222222222,
             "#7201a8"
            ],
            [
             0.3333333333333333,
             "#9c179e"
            ],
            [
             0.4444444444444444,
             "#bd3786"
            ],
            [
             0.5555555555555556,
             "#d8576b"
            ],
            [
             0.6666666666666666,
             "#ed7953"
            ],
            [
             0.7777777777777778,
             "#fb9f3a"
            ],
            [
             0.8888888888888888,
             "#fdca26"
            ],
            [
             1,
             "#f0f921"
            ]
           ],
           "sequentialminus": [
            [
             0,
             "#0d0887"
            ],
            [
             0.1111111111111111,
             "#46039f"
            ],
            [
             0.2222222222222222,
             "#7201a8"
            ],
            [
             0.3333333333333333,
             "#9c179e"
            ],
            [
             0.4444444444444444,
             "#bd3786"
            ],
            [
             0.5555555555555556,
             "#d8576b"
            ],
            [
             0.6666666666666666,
             "#ed7953"
            ],
            [
             0.7777777777777778,
             "#fb9f3a"
            ],
            [
             0.8888888888888888,
             "#fdca26"
            ],
            [
             1,
             "#f0f921"
            ]
           ]
          },
          "colorway": [
           "#636efa",
           "#EF553B",
           "#00cc96",
           "#ab63fa",
           "#FFA15A",
           "#19d3f3",
           "#FF6692",
           "#B6E880",
           "#FF97FF",
           "#FECB52"
          ],
          "font": {
           "color": "#2a3f5f"
          },
          "geo": {
           "bgcolor": "white",
           "lakecolor": "white",
           "landcolor": "#E5ECF6",
           "showlakes": true,
           "showland": true,
           "subunitcolor": "white"
          },
          "hoverlabel": {
           "align": "left"
          },
          "hovermode": "closest",
          "mapbox": {
           "style": "light"
          },
          "paper_bgcolor": "white",
          "plot_bgcolor": "#E5ECF6",
          "polar": {
           "angularaxis": {
            "gridcolor": "white",
            "linecolor": "white",
            "ticks": ""
           },
           "bgcolor": "#E5ECF6",
           "radialaxis": {
            "gridcolor": "white",
            "linecolor": "white",
            "ticks": ""
           }
          },
          "scene": {
           "xaxis": {
            "backgroundcolor": "#E5ECF6",
            "gridcolor": "white",
            "gridwidth": 2,
            "linecolor": "white",
            "showbackground": true,
            "ticks": "",
            "zerolinecolor": "white"
           },
           "yaxis": {
            "backgroundcolor": "#E5ECF6",
            "gridcolor": "white",
            "gridwidth": 2,
            "linecolor": "white",
            "showbackground": true,
            "ticks": "",
            "zerolinecolor": "white"
           },
           "zaxis": {
            "backgroundcolor": "#E5ECF6",
            "gridcolor": "white",
            "gridwidth": 2,
            "linecolor": "white",
            "showbackground": true,
            "ticks": "",
            "zerolinecolor": "white"
           }
          },
          "shapedefaults": {
           "line": {
            "color": "#2a3f5f"
           }
          },
          "ternary": {
           "aaxis": {
            "gridcolor": "white",
            "linecolor": "white",
            "ticks": ""
           },
           "baxis": {
            "gridcolor": "white",
            "linecolor": "white",
            "ticks": ""
           },
           "bgcolor": "#E5ECF6",
           "caxis": {
            "gridcolor": "white",
            "linecolor": "white",
            "ticks": ""
           }
          },
          "title": {
           "x": 0.05
          },
          "xaxis": {
           "automargin": true,
           "gridcolor": "white",
           "linecolor": "white",
           "ticks": "",
           "title": {
            "standoff": 15
           },
           "zerolinecolor": "white",
           "zerolinewidth": 2
          },
          "yaxis": {
           "automargin": true,
           "gridcolor": "white",
           "linecolor": "white",
           "ticks": "",
           "title": {
            "standoff": 15
           },
           "zerolinecolor": "white",
           "zerolinewidth": 2
          }
         }
        },
        "title": {
         "text": "Comparación por país: PANAMÁ, tipo: 16"
        },
        "width": 2000,
        "xaxis": {
         "anchor": "y",
         "domain": [
          0,
          0.16799999999999998
         ],
         "title": {
          "text": "SEMID"
         }
        },
        "xaxis2": {
         "anchor": "y2",
         "domain": [
          0.208,
          0.376
         ],
         "title": {
          "text": "SEMID"
         }
        },
        "xaxis3": {
         "anchor": "y3",
         "domain": [
          0.416,
          0.584
         ],
         "title": {
          "text": "SEMID"
         }
        },
        "xaxis4": {
         "anchor": "y4",
         "domain": [
          0.624,
          0.792
         ],
         "title": {
          "text": "SEMID"
         }
        },
        "xaxis5": {
         "anchor": "y5",
         "domain": [
          0.832,
          1
         ],
         "title": {
          "text": "SEMID"
         }
        },
        "yaxis": {
         "anchor": "x",
         "domain": [
          0,
          1
         ],
         "title": {
          "text": "Valor"
         }
        },
        "yaxis2": {
         "anchor": "x2",
         "domain": [
          0,
          1
         ]
        },
        "yaxis3": {
         "anchor": "x3",
         "domain": [
          0,
          1
         ]
        },
        "yaxis4": {
         "anchor": "x4",
         "domain": [
          0,
          1
         ]
        },
        "yaxis5": {
         "anchor": "x5",
         "domain": [
          0,
          1
         ]
        }
       }
      }
     },
     "metadata": {},
     "output_type": "display_data"
    },
    {
     "data": {
      "application/vnd.plotly.v1+json": {
       "config": {
        "plotlyServerURL": "https://plot.ly"
       },
       "data": [
        {
         "marker": {
          "color": "blue"
         },
         "mode": "lines+markers",
         "name": "Histórico",
         "showlegend": true,
         "type": "scatter",
         "x": {
          "bdata": "LAUtBS4FLwUwBTEFMgUzBTQFNQU2BTcFOAU5BToFOwU=",
          "dtype": "i2"
         },
         "xaxis": "x",
         "y": {
          "bdata": "gEi/fb0HwEDChqdXhv/QQEaU9gYTBdVA6+I2GtQI0EDpSC7/6cjJQC0hH/QcK8BA2/l+anyQwkDSb18HXsHEQEku/yH9qLdAYHZPHo7SwkAFxY8xT0jMQG3F/rJ7uslA6bevA2/CzUCppE5AiwPEQClcj8LNmMRAYHZPHk7c1UA=",
          "dtype": "f8"
         },
         "yaxis": "y"
        },
        {
         "marker": {
          "color": "red",
          "size": 10
         },
         "mode": "markers",
         "name": "Nuevo con rechazos",
         "showlegend": true,
         "type": "scatter",
         "x": {
          "bdata": "OwU=",
          "dtype": "i2"
         },
         "xaxis": "x",
         "y": {
          "bdata": "YHZPHk7c1UA=",
          "dtype": "f8"
         },
         "yaxis": "y"
        },
        {
         "marker": {
          "color": "green",
          "size": 10,
          "symbol": "diamond"
         },
         "mode": "markers",
         "name": "Nuevo sin rechazos",
         "showlegend": true,
         "type": "scatter",
         "x": {
          "bdata": "OwU=",
          "dtype": "i2"
         },
         "xaxis": "x",
         "y": {
          "bdata": "YHZPHk7c1UA=",
          "dtype": "f8"
         },
         "yaxis": "y"
        },
        {
         "marker": {
          "color": "blue"
         },
         "mode": "lines+markers",
         "name": "Histórico",
         "showlegend": false,
         "type": "scatter",
         "x": {
          "bdata": "LAUtBS4FLwUwBTEFMgUzBTQFNQU2BTcFOAU5BToFOwU=",
          "dtype": "i2"
         },
         "xaxis": "x2",
         "y": {
          "bdata": "AAAAACjUA0EAAAAAGNUBQQAAAACwTP9AAAAAAIDb+0AAAAAAkEj+QAAAAADgQfxAAAAAABAaAUEAAAAAMAwAQQAAAADInQBBAAAAAOhaBkEAAAAAkKcHQQAAAADY5gVBAAAAAIDLA0EAAAAAWPcCQQAAAADI6QNBAAAAAGgwAUE=",
          "dtype": "f8"
         },
         "yaxis": "y2"
        },
        {
         "marker": {
          "color": "red",
          "size": 10
         },
         "mode": "markers",
         "name": "Nuevo con rechazos",
         "showlegend": false,
         "type": "scatter",
         "x": {
          "bdata": "OwU=",
          "dtype": "i2"
         },
         "xaxis": "x2",
         "y": {
          "bdata": "AAAAAGgwAUE=",
          "dtype": "f8"
         },
         "yaxis": "y2"
        },
        {
         "marker": {
          "color": "green",
          "size": 10,
          "symbol": "diamond"
         },
         "mode": "markers",
         "name": "Nuevo sin rechazos",
         "showlegend": false,
         "type": "scatter",
         "x": {
          "bdata": "OwU=",
          "dtype": "i2"
         },
         "xaxis": "x2",
         "y": {
          "bdata": "AAAAAGgwAUE=",
          "dtype": "f8"
         },
         "yaxis": "y2"
        },
        {
         "marker": {
          "color": "blue"
         },
         "mode": "lines+markers",
         "name": "Histórico",
         "showlegend": false,
         "type": "scatter",
         "x": {
          "bdata": "LAUtBS4FLwUwBTEFMgUzBTQFNQU2BTcFOAU5BToFOwU=",
          "dtype": "i2"
         },
         "xaxis": "x3",
         "y": {
          "bdata": "odY078Bi3ECoxks36VPkQKRwPQrRCuVAlrIMcWKh60DeAgmKiyzjQMP1KFw/Xt5AXdxGA35o4EBxPQrXw8zjQPT91HjF/tBAPnlYqI+T4EBeukkMGBziQOauJeSFh+VAwoanV5x940D4wmSqfDDeQPtcbcV60N5A8BZI0MiZBUE=",
          "dtype": "f8"
         },
         "yaxis": "y3"
        },
        {
         "marker": {
          "color": "red",
          "size": 10
         },
         "mode": "markers",
         "name": "Nuevo con rechazos",
         "showlegend": false,
         "type": "scatter",
         "x": {
          "bdata": "OwU=",
          "dtype": "i2"
         },
         "xaxis": "x3",
         "y": {
          "bdata": "fv570MiZBUE=",
          "dtype": "f8"
         },
         "yaxis": "y3"
        },
        {
         "marker": {
          "color": "green",
          "size": 10,
          "symbol": "diamond"
         },
         "mode": "markers",
         "name": "Nuevo sin rechazos",
         "showlegend": false,
         "type": "scatter",
         "x": {
          "bdata": "OwU=",
          "dtype": "i2"
         },
         "xaxis": "x3",
         "y": {
          "bdata": "fv570MiZBUE=",
          "dtype": "f8"
         },
         "yaxis": "y3"
        },
        {
         "marker": {
          "color": "blue"
         },
         "mode": "lines+markers",
         "name": "Histórico",
         "showlegend": false,
         "type": "scatter",
         "x": {
          "bdata": "LAUtBS4FLwUwBTEFMgUzBTQFNQU2BTcFOAU5BToFOwU=",
          "dtype": "i2"
         },
         "xaxis": "x4",
         "y": {
          "bdata": "CtejcER/I0Fcj8J1P2AiQfYoXA8kTSFBcT0K13eXH0GPwvUoMgwhQeF6FK7mByBBzczMzFq1IEEzMzMz8UwfQZqZmRmLRCBBpHA9isEAJkGF61E4yeQlQfYoXI/4fSRB4XoULq8cI0EzMzMzV5ciQTMzM7MXNiJBCtejcIUpGkE=",
          "dtype": "f8"
         },
         "yaxis": "y4"
        },
        {
         "marker": {
          "color": "green",
          "size": 10,
          "symbol": "diamond"
         },
         "mode": "markers",
         "name": "Nuevo sin rechazos",
         "showlegend": false,
         "type": "scatter",
         "x": {
          "bdata": "OwU=",
          "dtype": "i2"
         },
         "xaxis": "x4",
         "y": {
          "bdata": "CtejcIUpGkE=",
          "dtype": "f8"
         },
         "yaxis": "y4"
        },
        {
         "marker": {
          "color": "blue"
         },
         "mode": "lines+markers",
         "name": "Histórico",
         "showlegend": false,
         "type": "scatter",
         "x": {
          "bdata": "LAUtBS4FLwUwBTEFMgUzBTQFNQU2BTcFOAU5BToFOwU=",
          "dtype": "i2"
         },
         "xaxis": "x5",
         "y": {
          "bdata": "CtejcER/I0Fcj8J1P2AiQfYoXA8kTSFBcT0K13eXH0GPwvUoMgwhQeF6FK7mByBBzczMzFq1IEEzMzMz8UwfQZqZmRmLRCBBpHA9isEAJkGF61E4yeQlQfYoXI/4fSRB4XoULq8cI0EzMzMzV5ciQTMzM7MXNiJBCtejcIUpGkE=",
          "dtype": "f8"
         },
         "yaxis": "y5"
        },
        {
         "marker": {
          "color": "green",
          "size": 10,
          "symbol": "diamond"
         },
         "mode": "markers",
         "name": "Nuevo sin rechazos",
         "showlegend": false,
         "type": "scatter",
         "x": {
          "bdata": "OwU=",
          "dtype": "i2"
         },
         "xaxis": "x5",
         "y": {
          "bdata": "CtejcIUpGkE=",
          "dtype": "f8"
         },
         "yaxis": "y5"
        }
       ],
       "layout": {
        "annotations": [
         {
          "font": {
           "size": 16
          },
          "showarrow": false,
          "text": "SOUTCANTDESP",
          "x": 0.08399999999999999,
          "xanchor": "center",
          "xref": "paper",
          "y": 1,
          "yanchor": "bottom",
          "yref": "paper"
         },
         {
          "font": {
           "size": 16
          },
          "showarrow": false,
          "text": "SOUTCANTEXIST",
          "x": 0.292,
          "xanchor": "center",
          "xref": "paper",
          "y": 1,
          "yanchor": "bottom",
          "yref": "paper"
         },
         {
          "font": {
           "size": 16
          },
          "showarrow": false,
          "text": "SOUTMONTODESPBRT",
          "x": 0.5,
          "xanchor": "center",
          "xref": "paper",
          "y": 1,
          "yanchor": "bottom",
          "yref": "paper"
         },
         {
          "font": {
           "size": 16
          },
          "showarrow": false,
          "text": "SOUTMONTOEXISTBRT",
          "x": 0.708,
          "xanchor": "center",
          "xref": "paper",
          "y": 1,
          "yanchor": "bottom",
          "yref": "paper"
         },
         {
          "font": {
           "size": 16
          },
          "showarrow": false,
          "text": "SOUTMONTOINVBRT",
          "x": 0.9159999999999999,
          "xanchor": "center",
          "xref": "paper",
          "y": 1,
          "yanchor": "bottom",
          "yref": "paper"
         }
        ],
        "height": 400,
        "showlegend": true,
        "template": {
         "data": {
          "bar": [
           {
            "error_x": {
             "color": "#2a3f5f"
            },
            "error_y": {
             "color": "#2a3f5f"
            },
            "marker": {
             "line": {
              "color": "#E5ECF6",
              "width": 0.5
             },
             "pattern": {
              "fillmode": "overlay",
              "size": 10,
              "solidity": 0.2
             }
            },
            "type": "bar"
           }
          ],
          "barpolar": [
           {
            "marker": {
             "line": {
              "color": "#E5ECF6",
              "width": 0.5
             },
             "pattern": {
              "fillmode": "overlay",
              "size": 10,
              "solidity": 0.2
             }
            },
            "type": "barpolar"
           }
          ],
          "carpet": [
           {
            "aaxis": {
             "endlinecolor": "#2a3f5f",
             "gridcolor": "white",
             "linecolor": "white",
             "minorgridcolor": "white",
             "startlinecolor": "#2a3f5f"
            },
            "baxis": {
             "endlinecolor": "#2a3f5f",
             "gridcolor": "white",
             "linecolor": "white",
             "minorgridcolor": "white",
             "startlinecolor": "#2a3f5f"
            },
            "type": "carpet"
           }
          ],
          "choropleth": [
           {
            "colorbar": {
             "outlinewidth": 0,
             "ticks": ""
            },
            "type": "choropleth"
           }
          ],
          "contour": [
           {
            "colorbar": {
             "outlinewidth": 0,
             "ticks": ""
            },
            "colorscale": [
             [
              0,
              "#0d0887"
             ],
             [
              0.1111111111111111,
              "#46039f"
             ],
             [
              0.2222222222222222,
              "#7201a8"
             ],
             [
              0.3333333333333333,
              "#9c179e"
             ],
             [
              0.4444444444444444,
              "#bd3786"
             ],
             [
              0.5555555555555556,
              "#d8576b"
             ],
             [
              0.6666666666666666,
              "#ed7953"
             ],
             [
              0.7777777777777778,
              "#fb9f3a"
             ],
             [
              0.8888888888888888,
              "#fdca26"
             ],
             [
              1,
              "#f0f921"
             ]
            ],
            "type": "contour"
           }
          ],
          "contourcarpet": [
           {
            "colorbar": {
             "outlinewidth": 0,
             "ticks": ""
            },
            "type": "contourcarpet"
           }
          ],
          "heatmap": [
           {
            "colorbar": {
             "outlinewidth": 0,
             "ticks": ""
            },
            "colorscale": [
             [
              0,
              "#0d0887"
             ],
             [
              0.1111111111111111,
              "#46039f"
             ],
             [
              0.2222222222222222,
              "#7201a8"
             ],
             [
              0.3333333333333333,
              "#9c179e"
             ],
             [
              0.4444444444444444,
              "#bd3786"
             ],
             [
              0.5555555555555556,
              "#d8576b"
             ],
             [
              0.6666666666666666,
              "#ed7953"
             ],
             [
              0.7777777777777778,
              "#fb9f3a"
             ],
             [
              0.8888888888888888,
              "#fdca26"
             ],
             [
              1,
              "#f0f921"
             ]
            ],
            "type": "heatmap"
           }
          ],
          "histogram": [
           {
            "marker": {
             "pattern": {
              "fillmode": "overlay",
              "size": 10,
              "solidity": 0.2
             }
            },
            "type": "histogram"
           }
          ],
          "histogram2d": [
           {
            "colorbar": {
             "outlinewidth": 0,
             "ticks": ""
            },
            "colorscale": [
             [
              0,
              "#0d0887"
             ],
             [
              0.1111111111111111,
              "#46039f"
             ],
             [
              0.2222222222222222,
              "#7201a8"
             ],
             [
              0.3333333333333333,
              "#9c179e"
             ],
             [
              0.4444444444444444,
              "#bd3786"
             ],
             [
              0.5555555555555556,
              "#d8576b"
             ],
             [
              0.6666666666666666,
              "#ed7953"
             ],
             [
              0.7777777777777778,
              "#fb9f3a"
             ],
             [
              0.8888888888888888,
              "#fdca26"
             ],
             [
              1,
              "#f0f921"
             ]
            ],
            "type": "histogram2d"
           }
          ],
          "histogram2dcontour": [
           {
            "colorbar": {
             "outlinewidth": 0,
             "ticks": ""
            },
            "colorscale": [
             [
              0,
              "#0d0887"
             ],
             [
              0.1111111111111111,
              "#46039f"
             ],
             [
              0.2222222222222222,
              "#7201a8"
             ],
             [
              0.3333333333333333,
              "#9c179e"
             ],
             [
              0.4444444444444444,
              "#bd3786"
             ],
             [
              0.5555555555555556,
              "#d8576b"
             ],
             [
              0.6666666666666666,
              "#ed7953"
             ],
             [
              0.7777777777777778,
              "#fb9f3a"
             ],
             [
              0.8888888888888888,
              "#fdca26"
             ],
             [
              1,
              "#f0f921"
             ]
            ],
            "type": "histogram2dcontour"
           }
          ],
          "mesh3d": [
           {
            "colorbar": {
             "outlinewidth": 0,
             "ticks": ""
            },
            "type": "mesh3d"
           }
          ],
          "parcoords": [
           {
            "line": {
             "colorbar": {
              "outlinewidth": 0,
              "ticks": ""
             }
            },
            "type": "parcoords"
           }
          ],
          "pie": [
           {
            "automargin": true,
            "type": "pie"
           }
          ],
          "scatter": [
           {
            "fillpattern": {
             "fillmode": "overlay",
             "size": 10,
             "solidity": 0.2
            },
            "type": "scatter"
           }
          ],
          "scatter3d": [
           {
            "line": {
             "colorbar": {
              "outlinewidth": 0,
              "ticks": ""
             }
            },
            "marker": {
             "colorbar": {
              "outlinewidth": 0,
              "ticks": ""
             }
            },
            "type": "scatter3d"
           }
          ],
          "scattercarpet": [
           {
            "marker": {
             "colorbar": {
              "outlinewidth": 0,
              "ticks": ""
             }
            },
            "type": "scattercarpet"
           }
          ],
          "scattergeo": [
           {
            "marker": {
             "colorbar": {
              "outlinewidth": 0,
              "ticks": ""
             }
            },
            "type": "scattergeo"
           }
          ],
          "scattergl": [
           {
            "marker": {
             "colorbar": {
              "outlinewidth": 0,
              "ticks": ""
             }
            },
            "type": "scattergl"
           }
          ],
          "scattermap": [
           {
            "marker": {
             "colorbar": {
              "outlinewidth": 0,
              "ticks": ""
             }
            },
            "type": "scattermap"
           }
          ],
          "scattermapbox": [
           {
            "marker": {
             "colorbar": {
              "outlinewidth": 0,
              "ticks": ""
             }
            },
            "type": "scattermapbox"
           }
          ],
          "scatterpolar": [
           {
            "marker": {
             "colorbar": {
              "outlinewidth": 0,
              "ticks": ""
             }
            },
            "type": "scatterpolar"
           }
          ],
          "scatterpolargl": [
           {
            "marker": {
             "colorbar": {
              "outlinewidth": 0,
              "ticks": ""
             }
            },
            "type": "scatterpolargl"
           }
          ],
          "scatterternary": [
           {
            "marker": {
             "colorbar": {
              "outlinewidth": 0,
              "ticks": ""
             }
            },
            "type": "scatterternary"
           }
          ],
          "surface": [
           {
            "colorbar": {
             "outlinewidth": 0,
             "ticks": ""
            },
            "colorscale": [
             [
              0,
              "#0d0887"
             ],
             [
              0.1111111111111111,
              "#46039f"
             ],
             [
              0.2222222222222222,
              "#7201a8"
             ],
             [
              0.3333333333333333,
              "#9c179e"
             ],
             [
              0.4444444444444444,
              "#bd3786"
             ],
             [
              0.5555555555555556,
              "#d8576b"
             ],
             [
              0.6666666666666666,
              "#ed7953"
             ],
             [
              0.7777777777777778,
              "#fb9f3a"
             ],
             [
              0.8888888888888888,
              "#fdca26"
             ],
             [
              1,
              "#f0f921"
             ]
            ],
            "type": "surface"
           }
          ],
          "table": [
           {
            "cells": {
             "fill": {
              "color": "#EBF0F8"
             },
             "line": {
              "color": "white"
             }
            },
            "header": {
             "fill": {
              "color": "#C8D4E3"
             },
             "line": {
              "color": "white"
             }
            },
            "type": "table"
           }
          ]
         },
         "layout": {
          "annotationdefaults": {
           "arrowcolor": "#2a3f5f",
           "arrowhead": 0,
           "arrowwidth": 1
          },
          "autotypenumbers": "strict",
          "coloraxis": {
           "colorbar": {
            "outlinewidth": 0,
            "ticks": ""
           }
          },
          "colorscale": {
           "diverging": [
            [
             0,
             "#8e0152"
            ],
            [
             0.1,
             "#c51b7d"
            ],
            [
             0.2,
             "#de77ae"
            ],
            [
             0.3,
             "#f1b6da"
            ],
            [
             0.4,
             "#fde0ef"
            ],
            [
             0.5,
             "#f7f7f7"
            ],
            [
             0.6,
             "#e6f5d0"
            ],
            [
             0.7,
             "#b8e186"
            ],
            [
             0.8,
             "#7fbc41"
            ],
            [
             0.9,
             "#4d9221"
            ],
            [
             1,
             "#276419"
            ]
           ],
           "sequential": [
            [
             0,
             "#0d0887"
            ],
            [
             0.1111111111111111,
             "#46039f"
            ],
            [
             0.2222222222222222,
             "#7201a8"
            ],
            [
             0.3333333333333333,
             "#9c179e"
            ],
            [
             0.4444444444444444,
             "#bd3786"
            ],
            [
             0.5555555555555556,
             "#d8576b"
            ],
            [
             0.6666666666666666,
             "#ed7953"
            ],
            [
             0.7777777777777778,
             "#fb9f3a"
            ],
            [
             0.8888888888888888,
             "#fdca26"
            ],
            [
             1,
             "#f0f921"
            ]
           ],
           "sequentialminus": [
            [
             0,
             "#0d0887"
            ],
            [
             0.1111111111111111,
             "#46039f"
            ],
            [
             0.2222222222222222,
             "#7201a8"
            ],
            [
             0.3333333333333333,
             "#9c179e"
            ],
            [
             0.4444444444444444,
             "#bd3786"
            ],
            [
             0.5555555555555556,
             "#d8576b"
            ],
            [
             0.6666666666666666,
             "#ed7953"
            ],
            [
             0.7777777777777778,
             "#fb9f3a"
            ],
            [
             0.8888888888888888,
             "#fdca26"
            ],
            [
             1,
             "#f0f921"
            ]
           ]
          },
          "colorway": [
           "#636efa",
           "#EF553B",
           "#00cc96",
           "#ab63fa",
           "#FFA15A",
           "#19d3f3",
           "#FF6692",
           "#B6E880",
           "#FF97FF",
           "#FECB52"
          ],
          "font": {
           "color": "#2a3f5f"
          },
          "geo": {
           "bgcolor": "white",
           "lakecolor": "white",
           "landcolor": "#E5ECF6",
           "showlakes": true,
           "showland": true,
           "subunitcolor": "white"
          },
          "hoverlabel": {
           "align": "left"
          },
          "hovermode": "closest",
          "mapbox": {
           "style": "light"
          },
          "paper_bgcolor": "white",
          "plot_bgcolor": "#E5ECF6",
          "polar": {
           "angularaxis": {
            "gridcolor": "white",
            "linecolor": "white",
            "ticks": ""
           },
           "bgcolor": "#E5ECF6",
           "radialaxis": {
            "gridcolor": "white",
            "linecolor": "white",
            "ticks": ""
           }
          },
          "scene": {
           "xaxis": {
            "backgroundcolor": "#E5ECF6",
            "gridcolor": "white",
            "gridwidth": 2,
            "linecolor": "white",
            "showbackground": true,
            "ticks": "",
            "zerolinecolor": "white"
           },
           "yaxis": {
            "backgroundcolor": "#E5ECF6",
            "gridcolor": "white",
            "gridwidth": 2,
            "linecolor": "white",
            "showbackground": true,
            "ticks": "",
            "zerolinecolor": "white"
           },
           "zaxis": {
            "backgroundcolor": "#E5ECF6",
            "gridcolor": "white",
            "gridwidth": 2,
            "linecolor": "white",
            "showbackground": true,
            "ticks": "",
            "zerolinecolor": "white"
           }
          },
          "shapedefaults": {
           "line": {
            "color": "#2a3f5f"
           }
          },
          "ternary": {
           "aaxis": {
            "gridcolor": "white",
            "linecolor": "white",
            "ticks": ""
           },
           "baxis": {
            "gridcolor": "white",
            "linecolor": "white",
            "ticks": ""
           },
           "bgcolor": "#E5ECF6",
           "caxis": {
            "gridcolor": "white",
            "linecolor": "white",
            "ticks": ""
           }
          },
          "title": {
           "x": 0.05
          },
          "xaxis": {
           "automargin": true,
           "gridcolor": "white",
           "linecolor": "white",
           "ticks": "",
           "title": {
            "standoff": 15
           },
           "zerolinecolor": "white",
           "zerolinewidth": 2
          },
          "yaxis": {
           "automargin": true,
           "gridcolor": "white",
           "linecolor": "white",
           "ticks": "",
           "title": {
            "standoff": 15
           },
           "zerolinecolor": "white",
           "zerolinewidth": 2
          }
         }
        },
        "title": {
         "text": "Comparación por país: NICARAGUA, tipo: 17"
        },
        "width": 2000,
        "xaxis": {
         "anchor": "y",
         "domain": [
          0,
          0.16799999999999998
         ],
         "title": {
          "text": "SEMID"
         }
        },
        "xaxis2": {
         "anchor": "y2",
         "domain": [
          0.208,
          0.376
         ],
         "title": {
          "text": "SEMID"
         }
        },
        "xaxis3": {
         "anchor": "y3",
         "domain": [
          0.416,
          0.584
         ],
         "title": {
          "text": "SEMID"
         }
        },
        "xaxis4": {
         "anchor": "y4",
         "domain": [
          0.624,
          0.792
         ],
         "title": {
          "text": "SEMID"
         }
        },
        "xaxis5": {
         "anchor": "y5",
         "domain": [
          0.832,
          1
         ],
         "title": {
          "text": "SEMID"
         }
        },
        "yaxis": {
         "anchor": "x",
         "domain": [
          0,
          1
         ],
         "title": {
          "text": "Valor"
         }
        },
        "yaxis2": {
         "anchor": "x2",
         "domain": [
          0,
          1
         ]
        },
        "yaxis3": {
         "anchor": "x3",
         "domain": [
          0,
          1
         ]
        },
        "yaxis4": {
         "anchor": "x4",
         "domain": [
          0,
          1
         ]
        },
        "yaxis5": {
         "anchor": "x5",
         "domain": [
          0,
          1
         ]
        }
       }
      }
     },
     "metadata": {},
     "output_type": "display_data"
    },
    {
     "data": {
      "application/vnd.plotly.v1+json": {
       "config": {
        "plotlyServerURL": "https://plot.ly"
       },
       "data": [
        {
         "marker": {
          "color": "blue"
         },
         "mode": "lines+markers",
         "name": "Histórico",
         "showlegend": true,
         "type": "scatter",
         "x": {
          "bdata": "LAUtBS4FLwUwBTEFMgUzBTQFNQU2BTcFOAU5BToFOwU=",
          "dtype": "i2"
         },
         "xaxis": "x",
         "y": {
          "bdata": "AAAAAHBk8UAAAAAAEKv3QAAAAADwE/NAAAAAAOCp8UAAAAAAsD3wQAAAAABg/upAAAAAAPDw80AAAAAAAHv0QAAAAADgouxAAAAAAOCP9UAAAAAAYN31QN/gC5Mr//ZAAAAAAIBK9EAAAAAAIHbwQAAAAABAeflAfPKwUPWF8kA=",
          "dtype": "f8"
         },
         "yaxis": "y"
        },
        {
         "marker": {
          "color": "red",
          "size": 10
         },
         "mode": "markers",
         "name": "Nuevo con rechazos",
         "showlegend": true,
         "type": "scatter",
         "x": {
          "bdata": "OwU=",
          "dtype": "i2"
         },
         "xaxis": "x",
         "y": {
          "bdata": "UYGNULWg8kA=",
          "dtype": "f8"
         },
         "yaxis": "y"
        },
        {
         "marker": {
          "color": "green",
          "size": 10,
          "symbol": "diamond"
         },
         "mode": "markers",
         "name": "Nuevo sin rechazos",
         "showlegend": true,
         "type": "scatter",
         "x": {
          "bdata": "OwU=",
          "dtype": "i2"
         },
         "xaxis": "x",
         "y": {
          "bdata": "UYGNUPWF8kA=",
          "dtype": "f8"
         },
         "yaxis": "y"
        },
        {
         "marker": {
          "color": "blue"
         },
         "mode": "lines+markers",
         "name": "Histórico",
         "showlegend": false,
         "type": "scatter",
         "x": {
          "bdata": "LAUtBS4FLwUwBTEFMgUzBTQFNQU2BTcFOAU5BToFOwU=",
          "dtype": "i2"
         },
         "xaxis": "x2",
         "y": {
          "bdata": "AAAAADArHEEAAAAAOMwbQQAAAAAQoRxBAAAAAMCjHEEAAAAAiH4gQQAAAAAgESNBAAAAACCyJUEAAAAAhBQoQZSHhVpZ1ipBAAAAADzxJUEAAAAA2FIjQQAAAAC2eyFBAAAAAK4dIEEAAAAAIqsjQQAAAAA0nSNBAAAAACxfIkE=",
          "dtype": "f8"
         },
         "yaxis": "y2"
        },
        {
         "marker": {
          "color": "red",
          "size": 10
         },
         "mode": "markers",
         "name": "Nuevo con rechazos",
         "showlegend": false,
         "type": "scatter",
         "x": {
          "bdata": "OwU=",
          "dtype": "i2"
         },
         "xaxis": "x2",
         "y": {
          "bdata": "AAAAADZ9IkE=",
          "dtype": "f8"
         },
         "yaxis": "y2"
        },
        {
         "marker": {
          "color": "green",
          "size": 10,
          "symbol": "diamond"
         },
         "mode": "markers",
         "name": "Nuevo sin rechazos",
         "showlegend": false,
         "type": "scatter",
         "x": {
          "bdata": "OwU=",
          "dtype": "i2"
         },
         "xaxis": "x2",
         "y": {
          "bdata": "AAAAACxfIkE=",
          "dtype": "f8"
         },
         "yaxis": "y2"
        },
        {
         "marker": {
          "color": "blue"
         },
         "mode": "lines+markers",
         "name": "Histórico",
         "showlegend": false,
         "type": "scatter",
         "x": {
          "bdata": "LAUtBS4FLwUwBTEFMgUzBTQFNQU2BTcFOAU5BToFOwU=",
          "dtype": "i2"
         },
         "xaxis": "x3",
         "y": {
          "bdata": "DAIrB6f2B0HvycMCK4kSQXbgnJFd8wxBp+hILnWKDEFeukkMAhkJQfRsVv3AdwVByeU/pMtJEkHzjlP0urULQb4wmarn9QRB3GgAb/DxDEEAb4GE4KgLQWUZ4ph/1BJBZ9Xn6jg0D0EyVTAqYzIHQTlFR7I3nBRBzczMzBdcDUE=",
          "dtype": "f8"
         },
         "yaxis": "y3"
        },
        {
         "marker": {
          "color": "red",
          "size": 10
         },
         "mode": "markers",
         "name": "Nuevo con rechazos",
         "showlegend": false,
         "type": "scatter",
         "x": {
          "bdata": "OwU=",
          "dtype": "i2"
         },
         "xaxis": "x3",
         "y": {
          "bdata": "HSG366pkDUE=",
          "dtype": "f8"
         },
         "yaxis": "y3"
        },
        {
         "marker": {
          "color": "green",
          "size": 10,
          "symbol": "diamond"
         },
         "mode": "markers",
         "name": "Nuevo sin rechazos",
         "showlegend": false,
         "type": "scatter",
         "x": {
          "bdata": "OwU=",
          "dtype": "i2"
         },
         "xaxis": "x3",
         "y": {
          "bdata": "Ms/+zBdcDUE=",
          "dtype": "f8"
         },
         "yaxis": "y3"
        },
        {
         "marker": {
          "color": "blue"
         },
         "mode": "lines+markers",
         "name": "Histórico",
         "showlegend": false,
         "type": "scatter",
         "x": {
          "bdata": "LAUtBS4FLwUwBTEFMgUzBTQFNQU2BTcFOAU5BToFOwU=",
          "dtype": "i2"
         },
         "xaxis": "x4",
         "y": {
          "bdata": "bAn5MPTWP0FU46X7q3E+Qe5aQn6NlUBBzhlROlw9QEGhZ7OCu5hAQbyWkK+wQkNBmpmZIcT2Q0Fd3EbD9dtFQQRWDrXsmEZBxty17LC9Q0HaG3zZMTJCQXL5D1GDiUBBTRWMmg7+PkHrc7WVq9xCQc6I0k5l6kJBBcWPQQr5QEE=",
          "dtype": "f8"
         },
         "yaxis": "y4"
        },
        {
         "marker": {
          "color": "green",
          "size": 10,
          "symbol": "diamond"
         },
         "mode": "markers",
         "name": "Nuevo sin rechazos",
         "showlegend": false,
         "type": "scatter",
         "x": {
          "bdata": "OwU=",
          "dtype": "i2"
         },
         "xaxis": "x4",
         "y": {
          "bdata": "7tONQQr5QEE=",
          "dtype": "f8"
         },
         "yaxis": "y4"
        },
        {
         "marker": {
          "color": "blue"
         },
         "mode": "lines+markers",
         "name": "Histórico",
         "showlegend": false,
         "type": "scatter",
         "x": {
          "bdata": "LAUtBS4FLwUwBTEFMgUzBTQFNQU2BTcFOAU5BToFOwU=",
          "dtype": "i2"
         },
         "xaxis": "x5",
         "y": {
          "bdata": "bAn5MPTWP0FU46X7q3E+Qe5aQn6NlUBBzhlROlw9QEGhZ7OCu5hAQbyWkK+wQkNBmpmZIcT2Q0Fd3EbD9dtFQQRWDrXsmEZBxty17LC9Q0HaG3zZMTJCQXL5D1GDiUBBTRWMmg7+PkHrc7WVq9xCQc6I0k5l6kJBBcWPQQr5QEE=",
          "dtype": "f8"
         },
         "yaxis": "y5"
        },
        {
         "marker": {
          "color": "green",
          "size": 10,
          "symbol": "diamond"
         },
         "mode": "markers",
         "name": "Nuevo sin rechazos",
         "showlegend": false,
         "type": "scatter",
         "x": {
          "bdata": "OwU=",
          "dtype": "i2"
         },
         "xaxis": "x5",
         "y": {
          "bdata": "7tONQQr5QEE=",
          "dtype": "f8"
         },
         "yaxis": "y5"
        }
       ],
       "layout": {
        "annotations": [
         {
          "font": {
           "size": 16
          },
          "showarrow": false,
          "text": "SOUTCANTDESP",
          "x": 0.08399999999999999,
          "xanchor": "center",
          "xref": "paper",
          "y": 1,
          "yanchor": "bottom",
          "yref": "paper"
         },
         {
          "font": {
           "size": 16
          },
          "showarrow": false,
          "text": "SOUTCANTEXIST",
          "x": 0.292,
          "xanchor": "center",
          "xref": "paper",
          "y": 1,
          "yanchor": "bottom",
          "yref": "paper"
         },
         {
          "font": {
           "size": 16
          },
          "showarrow": false,
          "text": "SOUTMONTODESPBRT",
          "x": 0.5,
          "xanchor": "center",
          "xref": "paper",
          "y": 1,
          "yanchor": "bottom",
          "yref": "paper"
         },
         {
          "font": {
           "size": 16
          },
          "showarrow": false,
          "text": "SOUTMONTOEXISTBRT",
          "x": 0.708,
          "xanchor": "center",
          "xref": "paper",
          "y": 1,
          "yanchor": "bottom",
          "yref": "paper"
         },
         {
          "font": {
           "size": 16
          },
          "showarrow": false,
          "text": "SOUTMONTOINVBRT",
          "x": 0.9159999999999999,
          "xanchor": "center",
          "xref": "paper",
          "y": 1,
          "yanchor": "bottom",
          "yref": "paper"
         }
        ],
        "height": 400,
        "showlegend": true,
        "template": {
         "data": {
          "bar": [
           {
            "error_x": {
             "color": "#2a3f5f"
            },
            "error_y": {
             "color": "#2a3f5f"
            },
            "marker": {
             "line": {
              "color": "#E5ECF6",
              "width": 0.5
             },
             "pattern": {
              "fillmode": "overlay",
              "size": 10,
              "solidity": 0.2
             }
            },
            "type": "bar"
           }
          ],
          "barpolar": [
           {
            "marker": {
             "line": {
              "color": "#E5ECF6",
              "width": 0.5
             },
             "pattern": {
              "fillmode": "overlay",
              "size": 10,
              "solidity": 0.2
             }
            },
            "type": "barpolar"
           }
          ],
          "carpet": [
           {
            "aaxis": {
             "endlinecolor": "#2a3f5f",
             "gridcolor": "white",
             "linecolor": "white",
             "minorgridcolor": "white",
             "startlinecolor": "#2a3f5f"
            },
            "baxis": {
             "endlinecolor": "#2a3f5f",
             "gridcolor": "white",
             "linecolor": "white",
             "minorgridcolor": "white",
             "startlinecolor": "#2a3f5f"
            },
            "type": "carpet"
           }
          ],
          "choropleth": [
           {
            "colorbar": {
             "outlinewidth": 0,
             "ticks": ""
            },
            "type": "choropleth"
           }
          ],
          "contour": [
           {
            "colorbar": {
             "outlinewidth": 0,
             "ticks": ""
            },
            "colorscale": [
             [
              0,
              "#0d0887"
             ],
             [
              0.1111111111111111,
              "#46039f"
             ],
             [
              0.2222222222222222,
              "#7201a8"
             ],
             [
              0.3333333333333333,
              "#9c179e"
             ],
             [
              0.4444444444444444,
              "#bd3786"
             ],
             [
              0.5555555555555556,
              "#d8576b"
             ],
             [
              0.6666666666666666,
              "#ed7953"
             ],
             [
              0.7777777777777778,
              "#fb9f3a"
             ],
             [
              0.8888888888888888,
              "#fdca26"
             ],
             [
              1,
              "#f0f921"
             ]
            ],
            "type": "contour"
           }
          ],
          "contourcarpet": [
           {
            "colorbar": {
             "outlinewidth": 0,
             "ticks": ""
            },
            "type": "contourcarpet"
           }
          ],
          "heatmap": [
           {
            "colorbar": {
             "outlinewidth": 0,
             "ticks": ""
            },
            "colorscale": [
             [
              0,
              "#0d0887"
             ],
             [
              0.1111111111111111,
              "#46039f"
             ],
             [
              0.2222222222222222,
              "#7201a8"
             ],
             [
              0.3333333333333333,
              "#9c179e"
             ],
             [
              0.4444444444444444,
              "#bd3786"
             ],
             [
              0.5555555555555556,
              "#d8576b"
             ],
             [
              0.6666666666666666,
              "#ed7953"
             ],
             [
              0.7777777777777778,
              "#fb9f3a"
             ],
             [
              0.8888888888888888,
              "#fdca26"
             ],
             [
              1,
              "#f0f921"
             ]
            ],
            "type": "heatmap"
           }
          ],
          "histogram": [
           {
            "marker": {
             "pattern": {
              "fillmode": "overlay",
              "size": 10,
              "solidity": 0.2
             }
            },
            "type": "histogram"
           }
          ],
          "histogram2d": [
           {
            "colorbar": {
             "outlinewidth": 0,
             "ticks": ""
            },
            "colorscale": [
             [
              0,
              "#0d0887"
             ],
             [
              0.1111111111111111,
              "#46039f"
             ],
             [
              0.2222222222222222,
              "#7201a8"
             ],
             [
              0.3333333333333333,
              "#9c179e"
             ],
             [
              0.4444444444444444,
              "#bd3786"
             ],
             [
              0.5555555555555556,
              "#d8576b"
             ],
             [
              0.6666666666666666,
              "#ed7953"
             ],
             [
              0.7777777777777778,
              "#fb9f3a"
             ],
             [
              0.8888888888888888,
              "#fdca26"
             ],
             [
              1,
              "#f0f921"
             ]
            ],
            "type": "histogram2d"
           }
          ],
          "histogram2dcontour": [
           {
            "colorbar": {
             "outlinewidth": 0,
             "ticks": ""
            },
            "colorscale": [
             [
              0,
              "#0d0887"
             ],
             [
              0.1111111111111111,
              "#46039f"
             ],
             [
              0.2222222222222222,
              "#7201a8"
             ],
             [
              0.3333333333333333,
              "#9c179e"
             ],
             [
              0.4444444444444444,
              "#bd3786"
             ],
             [
              0.5555555555555556,
              "#d8576b"
             ],
             [
              0.6666666666666666,
              "#ed7953"
             ],
             [
              0.7777777777777778,
              "#fb9f3a"
             ],
             [
              0.8888888888888888,
              "#fdca26"
             ],
             [
              1,
              "#f0f921"
             ]
            ],
            "type": "histogram2dcontour"
           }
          ],
          "mesh3d": [
           {
            "colorbar": {
             "outlinewidth": 0,
             "ticks": ""
            },
            "type": "mesh3d"
           }
          ],
          "parcoords": [
           {
            "line": {
             "colorbar": {
              "outlinewidth": 0,
              "ticks": ""
             }
            },
            "type": "parcoords"
           }
          ],
          "pie": [
           {
            "automargin": true,
            "type": "pie"
           }
          ],
          "scatter": [
           {
            "fillpattern": {
             "fillmode": "overlay",
             "size": 10,
             "solidity": 0.2
            },
            "type": "scatter"
           }
          ],
          "scatter3d": [
           {
            "line": {
             "colorbar": {
              "outlinewidth": 0,
              "ticks": ""
             }
            },
            "marker": {
             "colorbar": {
              "outlinewidth": 0,
              "ticks": ""
             }
            },
            "type": "scatter3d"
           }
          ],
          "scattercarpet": [
           {
            "marker": {
             "colorbar": {
              "outlinewidth": 0,
              "ticks": ""
             }
            },
            "type": "scattercarpet"
           }
          ],
          "scattergeo": [
           {
            "marker": {
             "colorbar": {
              "outlinewidth": 0,
              "ticks": ""
             }
            },
            "type": "scattergeo"
           }
          ],
          "scattergl": [
           {
            "marker": {
             "colorbar": {
              "outlinewidth": 0,
              "ticks": ""
             }
            },
            "type": "scattergl"
           }
          ],
          "scattermap": [
           {
            "marker": {
             "colorbar": {
              "outlinewidth": 0,
              "ticks": ""
             }
            },
            "type": "scattermap"
           }
          ],
          "scattermapbox": [
           {
            "marker": {
             "colorbar": {
              "outlinewidth": 0,
              "ticks": ""
             }
            },
            "type": "scattermapbox"
           }
          ],
          "scatterpolar": [
           {
            "marker": {
             "colorbar": {
              "outlinewidth": 0,
              "ticks": ""
             }
            },
            "type": "scatterpolar"
           }
          ],
          "scatterpolargl": [
           {
            "marker": {
             "colorbar": {
              "outlinewidth": 0,
              "ticks": ""
             }
            },
            "type": "scatterpolargl"
           }
          ],
          "scatterternary": [
           {
            "marker": {
             "colorbar": {
              "outlinewidth": 0,
              "ticks": ""
             }
            },
            "type": "scatterternary"
           }
          ],
          "surface": [
           {
            "colorbar": {
             "outlinewidth": 0,
             "ticks": ""
            },
            "colorscale": [
             [
              0,
              "#0d0887"
             ],
             [
              0.1111111111111111,
              "#46039f"
             ],
             [
              0.2222222222222222,
              "#7201a8"
             ],
             [
              0.3333333333333333,
              "#9c179e"
             ],
             [
              0.4444444444444444,
              "#bd3786"
             ],
             [
              0.5555555555555556,
              "#d8576b"
             ],
             [
              0.6666666666666666,
              "#ed7953"
             ],
             [
              0.7777777777777778,
              "#fb9f3a"
             ],
             [
              0.8888888888888888,
              "#fdca26"
             ],
             [
              1,
              "#f0f921"
             ]
            ],
            "type": "surface"
           }
          ],
          "table": [
           {
            "cells": {
             "fill": {
              "color": "#EBF0F8"
             },
             "line": {
              "color": "white"
             }
            },
            "header": {
             "fill": {
              "color": "#C8D4E3"
             },
             "line": {
              "color": "white"
             }
            },
            "type": "table"
           }
          ]
         },
         "layout": {
          "annotationdefaults": {
           "arrowcolor": "#2a3f5f",
           "arrowhead": 0,
           "arrowwidth": 1
          },
          "autotypenumbers": "strict",
          "coloraxis": {
           "colorbar": {
            "outlinewidth": 0,
            "ticks": ""
           }
          },
          "colorscale": {
           "diverging": [
            [
             0,
             "#8e0152"
            ],
            [
             0.1,
             "#c51b7d"
            ],
            [
             0.2,
             "#de77ae"
            ],
            [
             0.3,
             "#f1b6da"
            ],
            [
             0.4,
             "#fde0ef"
            ],
            [
             0.5,
             "#f7f7f7"
            ],
            [
             0.6,
             "#e6f5d0"
            ],
            [
             0.7,
             "#b8e186"
            ],
            [
             0.8,
             "#7fbc41"
            ],
            [
             0.9,
             "#4d9221"
            ],
            [
             1,
             "#276419"
            ]
           ],
           "sequential": [
            [
             0,
             "#0d0887"
            ],
            [
             0.1111111111111111,
             "#46039f"
            ],
            [
             0.2222222222222222,
             "#7201a8"
            ],
            [
             0.3333333333333333,
             "#9c179e"
            ],
            [
             0.4444444444444444,
             "#bd3786"
            ],
            [
             0.5555555555555556,
             "#d8576b"
            ],
            [
             0.6666666666666666,
             "#ed7953"
            ],
            [
             0.7777777777777778,
             "#fb9f3a"
            ],
            [
             0.8888888888888888,
             "#fdca26"
            ],
            [
             1,
             "#f0f921"
            ]
           ],
           "sequentialminus": [
            [
             0,
             "#0d0887"
            ],
            [
             0.1111111111111111,
             "#46039f"
            ],
            [
             0.2222222222222222,
             "#7201a8"
            ],
            [
             0.3333333333333333,
             "#9c179e"
            ],
            [
             0.4444444444444444,
             "#bd3786"
            ],
            [
             0.5555555555555556,
             "#d8576b"
            ],
            [
             0.6666666666666666,
             "#ed7953"
            ],
            [
             0.7777777777777778,
             "#fb9f3a"
            ],
            [
             0.8888888888888888,
             "#fdca26"
            ],
            [
             1,
             "#f0f921"
            ]
           ]
          },
          "colorway": [
           "#636efa",
           "#EF553B",
           "#00cc96",
           "#ab63fa",
           "#FFA15A",
           "#19d3f3",
           "#FF6692",
           "#B6E880",
           "#FF97FF",
           "#FECB52"
          ],
          "font": {
           "color": "#2a3f5f"
          },
          "geo": {
           "bgcolor": "white",
           "lakecolor": "white",
           "landcolor": "#E5ECF6",
           "showlakes": true,
           "showland": true,
           "subunitcolor": "white"
          },
          "hoverlabel": {
           "align": "left"
          },
          "hovermode": "closest",
          "mapbox": {
           "style": "light"
          },
          "paper_bgcolor": "white",
          "plot_bgcolor": "#E5ECF6",
          "polar": {
           "angularaxis": {
            "gridcolor": "white",
            "linecolor": "white",
            "ticks": ""
           },
           "bgcolor": "#E5ECF6",
           "radialaxis": {
            "gridcolor": "white",
            "linecolor": "white",
            "ticks": ""
           }
          },
          "scene": {
           "xaxis": {
            "backgroundcolor": "#E5ECF6",
            "gridcolor": "white",
            "gridwidth": 2,
            "linecolor": "white",
            "showbackground": true,
            "ticks": "",
            "zerolinecolor": "white"
           },
           "yaxis": {
            "backgroundcolor": "#E5ECF6",
            "gridcolor": "white",
            "gridwidth": 2,
            "linecolor": "white",
            "showbackground": true,
            "ticks": "",
            "zerolinecolor": "white"
           },
           "zaxis": {
            "backgroundcolor": "#E5ECF6",
            "gridcolor": "white",
            "gridwidth": 2,
            "linecolor": "white",
            "showbackground": true,
            "ticks": "",
            "zerolinecolor": "white"
           }
          },
          "shapedefaults": {
           "line": {
            "color": "#2a3f5f"
           }
          },
          "ternary": {
           "aaxis": {
            "gridcolor": "white",
            "linecolor": "white",
            "ticks": ""
           },
           "baxis": {
            "gridcolor": "white",
            "linecolor": "white",
            "ticks": ""
           },
           "bgcolor": "#E5ECF6",
           "caxis": {
            "gridcolor": "white",
            "linecolor": "white",
            "ticks": ""
           }
          },
          "title": {
           "x": 0.05
          },
          "xaxis": {
           "automargin": true,
           "gridcolor": "white",
           "linecolor": "white",
           "ticks": "",
           "title": {
            "standoff": 15
           },
           "zerolinecolor": "white",
           "zerolinewidth": 2
          },
          "yaxis": {
           "automargin": true,
           "gridcolor": "white",
           "linecolor": "white",
           "ticks": "",
           "title": {
            "standoff": 15
           },
           "zerolinecolor": "white",
           "zerolinewidth": 2
          }
         }
        },
        "title": {
         "text": "Comparación por país: GUATEMALA, tipo: 19"
        },
        "width": 2000,
        "xaxis": {
         "anchor": "y",
         "domain": [
          0,
          0.16799999999999998
         ],
         "title": {
          "text": "SEMID"
         }
        },
        "xaxis2": {
         "anchor": "y2",
         "domain": [
          0.208,
          0.376
         ],
         "title": {
          "text": "SEMID"
         }
        },
        "xaxis3": {
         "anchor": "y3",
         "domain": [
          0.416,
          0.584
         ],
         "title": {
          "text": "SEMID"
         }
        },
        "xaxis4": {
         "anchor": "y4",
         "domain": [
          0.624,
          0.792
         ],
         "title": {
          "text": "SEMID"
         }
        },
        "xaxis5": {
         "anchor": "y5",
         "domain": [
          0.832,
          1
         ],
         "title": {
          "text": "SEMID"
         }
        },
        "yaxis": {
         "anchor": "x",
         "domain": [
          0,
          1
         ],
         "title": {
          "text": "Valor"
         }
        },
        "yaxis2": {
         "anchor": "x2",
         "domain": [
          0,
          1
         ]
        },
        "yaxis3": {
         "anchor": "x3",
         "domain": [
          0,
          1
         ]
        },
        "yaxis4": {
         "anchor": "x4",
         "domain": [
          0,
          1
         ]
        },
        "yaxis5": {
         "anchor": "x5",
         "domain": [
          0,
          1
         ]
        }
       }
      }
     },
     "metadata": {},
     "output_type": "display_data"
    },
    {
     "data": {
      "application/vnd.plotly.v1+json": {
       "config": {
        "plotlyServerURL": "https://plot.ly"
       },
       "data": [
        {
         "marker": {
          "color": "blue"
         },
         "mode": "lines+markers",
         "name": "Histórico",
         "showlegend": true,
         "type": "scatter",
         "x": {
          "bdata": "LAUtBS4FLwUwBTEFMgUzBTQFNQU2BTcFOAU5BToFOwU=",
          "dtype": "i2"
         },
         "xaxis": "x",
         "y": {
          "bdata": "AAAAAMCV00AAAAAAgAHZQAAAAAAAgttAAAAAAMDp3kAAAAAAwI7QQAAAAADA6dVAAAAAAAD410AAAAAAgFfeQAAAAABAa9FAAAAAAAAH1EAAAAAAwCrhQAAAAADA29xAAAAAAEAI4EAAAAAA4KTYQAAAAADg99dAAAAAAEBL10A=",
          "dtype": "f8"
         },
         "yaxis": "y"
        },
        {
         "marker": {
          "color": "red",
          "size": 10
         },
         "mode": "markers",
         "name": "Nuevo con rechazos",
         "showlegend": true,
         "type": "scatter",
         "x": {
          "bdata": "OwU=",
          "dtype": "i2"
         },
         "xaxis": "x",
         "y": {
          "bdata": "AAAAAEBL10A=",
          "dtype": "f8"
         },
         "yaxis": "y"
        },
        {
         "marker": {
          "color": "green",
          "size": 10,
          "symbol": "diamond"
         },
         "mode": "markers",
         "name": "Nuevo sin rechazos",
         "showlegend": true,
         "type": "scatter",
         "x": {
          "bdata": "OwU=",
          "dtype": "i2"
         },
         "xaxis": "x",
         "y": {
          "bdata": "AAAAAEBL10A=",
          "dtype": "f8"
         },
         "yaxis": "y"
        },
        {
         "marker": {
          "color": "blue"
         },
         "mode": "lines+markers",
         "name": "Histórico",
         "showlegend": false,
         "type": "scatter",
         "x": {
          "bdata": "LAUtBS4FLwUwBTEFMgUzBTQFNQU2BTcFOAU5BToFOwU=",
          "dtype": "i2"
         },
         "xaxis": "x2",
         "y": {
          "bdata": "AAAAAJiTBUEAAAAAyJ0CQQAAAAAoAgNBAAAAACgmBUEAAAAAQPECQQAAAABgY/9AAAAAAIB2A0EAAAAA2IQDQQAAAAD4wwZBAAAAAKBCBkEAAAAAMO8BQQAAAABAdwVBAAAAALDdAEEAAAAAnEECQQAAAAAUZAJBAAAAAKSDAkE=",
          "dtype": "f8"
         },
         "yaxis": "y2"
        },
        {
         "marker": {
          "color": "red",
          "size": 10
         },
         "mode": "markers",
         "name": "Nuevo con rechazos",
         "showlegend": false,
         "type": "scatter",
         "x": {
          "bdata": "OwU=",
          "dtype": "i2"
         },
         "xaxis": "x2",
         "y": {
          "bdata": "AAAAAHSkAkE=",
          "dtype": "f8"
         },
         "yaxis": "y2"
        },
        {
         "marker": {
          "color": "green",
          "size": 10,
          "symbol": "diamond"
         },
         "mode": "markers",
         "name": "Nuevo sin rechazos",
         "showlegend": false,
         "type": "scatter",
         "x": {
          "bdata": "OwU=",
          "dtype": "i2"
         },
         "xaxis": "x2",
         "y": {
          "bdata": "AAAAAKSDAkE=",
          "dtype": "f8"
         },
         "yaxis": "y2"
        },
        {
         "marker": {
          "color": "blue"
         },
         "mode": "lines+markers",
         "name": "Histórico",
         "showlegend": false,
         "type": "scatter",
         "x": {
          "bdata": "LAUtBS4FLwUwBTEFMgUzBTQFNQU2BTcFOAU5BToFOwU=",
          "dtype": "i2"
         },
         "xaxis": "x3",
         "y": {
          "bdata": "QKTfvi6p5kDBqKROOErvQHo2qz7befBAVp+rrfQh7UBsCfmgMYPsQEw3iUEwd+VAWmQ730tN70CBlUOLflLyQMWPMXcx7udAcF8HziuF50BPHhZqHND3QArXo3CpbOxADk+vlPPq7UDHKTqSZ4LuQAfwFkjmVOlAf2q8dNGr7EA=",
          "dtype": "f8"
         },
         "yaxis": "y3"
        },
        {
         "marker": {
          "color": "red",
          "size": 10
         },
         "mode": "markers",
         "name": "Nuevo con rechazos",
         "showlegend": false,
         "type": "scatter",
         "x": {
          "bdata": "OwU=",
          "dtype": "i2"
         },
         "xaxis": "x3",
         "y": {
          "bdata": "WWOeddGr7EA=",
          "dtype": "f8"
         },
         "yaxis": "y3"
        },
        {
         "marker": {
          "color": "green",
          "size": 10,
          "symbol": "diamond"
         },
         "mode": "markers",
         "name": "Nuevo sin rechazos",
         "showlegend": false,
         "type": "scatter",
         "x": {
          "bdata": "OwU=",
          "dtype": "i2"
         },
         "xaxis": "x3",
         "y": {
          "bdata": "WWOeddGr7EA=",
          "dtype": "f8"
         },
         "yaxis": "y3"
        },
        {
         "marker": {
          "color": "blue"
         },
         "mode": "lines+markers",
         "name": "Histórico",
         "showlegend": false,
         "type": "scatter",
         "x": {
          "bdata": "LAUtBS4FLwUwBTEFMgUzBTQFNQU2BTcFOAU5BToFOwU=",
          "dtype": "i2"
         },
         "xaxis": "x4",
         "y": {
          "bdata": "G55eqRcAIEH1udqKosYZQUOtad59BxlBtMh2Pkm2H0Gk374O5GIcQVyPwjXUIBlBmbuWEBidIEGQMXdtn1YfQS2ynU9jKCNBnMQgUEelI0GPwvVI3IogQVtCPsjuMSFBrK3Y3+/mHUF6Nqs+MQgdQWb35KHtORxBXCBBseWWHkE=",
          "dtype": "f8"
         },
         "yaxis": "y4"
        },
        {
         "marker": {
          "color": "green",
          "size": 10,
          "symbol": "diamond"
         },
         "mode": "markers",
         "name": "Nuevo sin rechazos",
         "showlegend": false,
         "type": "scatter",
         "x": {
          "bdata": "OwU=",
          "dtype": "i2"
         },
         "xaxis": "x4",
         "y": {
          "bdata": "hs+VseWWHkE=",
          "dtype": "f8"
         },
         "yaxis": "y4"
        },
        {
         "marker": {
          "color": "blue"
         },
         "mode": "lines+markers",
         "name": "Histórico",
         "showlegend": false,
         "type": "scatter",
         "x": {
          "bdata": "LAUtBS4FLwUwBTEFMgUzBTQFNQU2BTcFOAU5BToFOwU=",
          "dtype": "i2"
         },
         "xaxis": "x5",
         "y": {
          "bdata": "G55eqRcAIEH1udqKosYZQUOtad59BxlBtMh2Pkm2H0Gk374O5GIcQVyPwjXUIBlBmbuWEBidIEGQMXdtn1YfQS2ynU9jKCNBnMQgUEelI0GPwvVI3IogQVtCPsjuMSFBrK3Y3+/mHUF6Nqs+MQgdQWb35KHtORxBXCBBseWWHkE=",
          "dtype": "f8"
         },
         "yaxis": "y5"
        },
        {
         "marker": {
          "color": "green",
          "size": 10,
          "symbol": "diamond"
         },
         "mode": "markers",
         "name": "Nuevo sin rechazos",
         "showlegend": false,
         "type": "scatter",
         "x": {
          "bdata": "OwU=",
          "dtype": "i2"
         },
         "xaxis": "x5",
         "y": {
          "bdata": "hs+VseWWHkE=",
          "dtype": "f8"
         },
         "yaxis": "y5"
        }
       ],
       "layout": {
        "annotations": [
         {
          "font": {
           "size": 16
          },
          "showarrow": false,
          "text": "SOUTCANTDESP",
          "x": 0.08399999999999999,
          "xanchor": "center",
          "xref": "paper",
          "y": 1,
          "yanchor": "bottom",
          "yref": "paper"
         },
         {
          "font": {
           "size": 16
          },
          "showarrow": false,
          "text": "SOUTCANTEXIST",
          "x": 0.292,
          "xanchor": "center",
          "xref": "paper",
          "y": 1,
          "yanchor": "bottom",
          "yref": "paper"
         },
         {
          "font": {
           "size": 16
          },
          "showarrow": false,
          "text": "SOUTMONTODESPBRT",
          "x": 0.5,
          "xanchor": "center",
          "xref": "paper",
          "y": 1,
          "yanchor": "bottom",
          "yref": "paper"
         },
         {
          "font": {
           "size": 16
          },
          "showarrow": false,
          "text": "SOUTMONTOEXISTBRT",
          "x": 0.708,
          "xanchor": "center",
          "xref": "paper",
          "y": 1,
          "yanchor": "bottom",
          "yref": "paper"
         },
         {
          "font": {
           "size": 16
          },
          "showarrow": false,
          "text": "SOUTMONTOINVBRT",
          "x": 0.9159999999999999,
          "xanchor": "center",
          "xref": "paper",
          "y": 1,
          "yanchor": "bottom",
          "yref": "paper"
         }
        ],
        "height": 400,
        "showlegend": true,
        "template": {
         "data": {
          "bar": [
           {
            "error_x": {
             "color": "#2a3f5f"
            },
            "error_y": {
             "color": "#2a3f5f"
            },
            "marker": {
             "line": {
              "color": "#E5ECF6",
              "width": 0.5
             },
             "pattern": {
              "fillmode": "overlay",
              "size": 10,
              "solidity": 0.2
             }
            },
            "type": "bar"
           }
          ],
          "barpolar": [
           {
            "marker": {
             "line": {
              "color": "#E5ECF6",
              "width": 0.5
             },
             "pattern": {
              "fillmode": "overlay",
              "size": 10,
              "solidity": 0.2
             }
            },
            "type": "barpolar"
           }
          ],
          "carpet": [
           {
            "aaxis": {
             "endlinecolor": "#2a3f5f",
             "gridcolor": "white",
             "linecolor": "white",
             "minorgridcolor": "white",
             "startlinecolor": "#2a3f5f"
            },
            "baxis": {
             "endlinecolor": "#2a3f5f",
             "gridcolor": "white",
             "linecolor": "white",
             "minorgridcolor": "white",
             "startlinecolor": "#2a3f5f"
            },
            "type": "carpet"
           }
          ],
          "choropleth": [
           {
            "colorbar": {
             "outlinewidth": 0,
             "ticks": ""
            },
            "type": "choropleth"
           }
          ],
          "contour": [
           {
            "colorbar": {
             "outlinewidth": 0,
             "ticks": ""
            },
            "colorscale": [
             [
              0,
              "#0d0887"
             ],
             [
              0.1111111111111111,
              "#46039f"
             ],
             [
              0.2222222222222222,
              "#7201a8"
             ],
             [
              0.3333333333333333,
              "#9c179e"
             ],
             [
              0.4444444444444444,
              "#bd3786"
             ],
             [
              0.5555555555555556,
              "#d8576b"
             ],
             [
              0.6666666666666666,
              "#ed7953"
             ],
             [
              0.7777777777777778,
              "#fb9f3a"
             ],
             [
              0.8888888888888888,
              "#fdca26"
             ],
             [
              1,
              "#f0f921"
             ]
            ],
            "type": "contour"
           }
          ],
          "contourcarpet": [
           {
            "colorbar": {
             "outlinewidth": 0,
             "ticks": ""
            },
            "type": "contourcarpet"
           }
          ],
          "heatmap": [
           {
            "colorbar": {
             "outlinewidth": 0,
             "ticks": ""
            },
            "colorscale": [
             [
              0,
              "#0d0887"
             ],
             [
              0.1111111111111111,
              "#46039f"
             ],
             [
              0.2222222222222222,
              "#7201a8"
             ],
             [
              0.3333333333333333,
              "#9c179e"
             ],
             [
              0.4444444444444444,
              "#bd3786"
             ],
             [
              0.5555555555555556,
              "#d8576b"
             ],
             [
              0.6666666666666666,
              "#ed7953"
             ],
             [
              0.7777777777777778,
              "#fb9f3a"
             ],
             [
              0.8888888888888888,
              "#fdca26"
             ],
             [
              1,
              "#f0f921"
             ]
            ],
            "type": "heatmap"
           }
          ],
          "histogram": [
           {
            "marker": {
             "pattern": {
              "fillmode": "overlay",
              "size": 10,
              "solidity": 0.2
             }
            },
            "type": "histogram"
           }
          ],
          "histogram2d": [
           {
            "colorbar": {
             "outlinewidth": 0,
             "ticks": ""
            },
            "colorscale": [
             [
              0,
              "#0d0887"
             ],
             [
              0.1111111111111111,
              "#46039f"
             ],
             [
              0.2222222222222222,
              "#7201a8"
             ],
             [
              0.3333333333333333,
              "#9c179e"
             ],
             [
              0.4444444444444444,
              "#bd3786"
             ],
             [
              0.5555555555555556,
              "#d8576b"
             ],
             [
              0.6666666666666666,
              "#ed7953"
             ],
             [
              0.7777777777777778,
              "#fb9f3a"
             ],
             [
              0.8888888888888888,
              "#fdca26"
             ],
             [
              1,
              "#f0f921"
             ]
            ],
            "type": "histogram2d"
           }
          ],
          "histogram2dcontour": [
           {
            "colorbar": {
             "outlinewidth": 0,
             "ticks": ""
            },
            "colorscale": [
             [
              0,
              "#0d0887"
             ],
             [
              0.1111111111111111,
              "#46039f"
             ],
             [
              0.2222222222222222,
              "#7201a8"
             ],
             [
              0.3333333333333333,
              "#9c179e"
             ],
             [
              0.4444444444444444,
              "#bd3786"
             ],
             [
              0.5555555555555556,
              "#d8576b"
             ],
             [
              0.6666666666666666,
              "#ed7953"
             ],
             [
              0.7777777777777778,
              "#fb9f3a"
             ],
             [
              0.8888888888888888,
              "#fdca26"
             ],
             [
              1,
              "#f0f921"
             ]
            ],
            "type": "histogram2dcontour"
           }
          ],
          "mesh3d": [
           {
            "colorbar": {
             "outlinewidth": 0,
             "ticks": ""
            },
            "type": "mesh3d"
           }
          ],
          "parcoords": [
           {
            "line": {
             "colorbar": {
              "outlinewidth": 0,
              "ticks": ""
             }
            },
            "type": "parcoords"
           }
          ],
          "pie": [
           {
            "automargin": true,
            "type": "pie"
           }
          ],
          "scatter": [
           {
            "fillpattern": {
             "fillmode": "overlay",
             "size": 10,
             "solidity": 0.2
            },
            "type": "scatter"
           }
          ],
          "scatter3d": [
           {
            "line": {
             "colorbar": {
              "outlinewidth": 0,
              "ticks": ""
             }
            },
            "marker": {
             "colorbar": {
              "outlinewidth": 0,
              "ticks": ""
             }
            },
            "type": "scatter3d"
           }
          ],
          "scattercarpet": [
           {
            "marker": {
             "colorbar": {
              "outlinewidth": 0,
              "ticks": ""
             }
            },
            "type": "scattercarpet"
           }
          ],
          "scattergeo": [
           {
            "marker": {
             "colorbar": {
              "outlinewidth": 0,
              "ticks": ""
             }
            },
            "type": "scattergeo"
           }
          ],
          "scattergl": [
           {
            "marker": {
             "colorbar": {
              "outlinewidth": 0,
              "ticks": ""
             }
            },
            "type": "scattergl"
           }
          ],
          "scattermap": [
           {
            "marker": {
             "colorbar": {
              "outlinewidth": 0,
              "ticks": ""
             }
            },
            "type": "scattermap"
           }
          ],
          "scattermapbox": [
           {
            "marker": {
             "colorbar": {
              "outlinewidth": 0,
              "ticks": ""
             }
            },
            "type": "scattermapbox"
           }
          ],
          "scatterpolar": [
           {
            "marker": {
             "colorbar": {
              "outlinewidth": 0,
              "ticks": ""
             }
            },
            "type": "scatterpolar"
           }
          ],
          "scatterpolargl": [
           {
            "marker": {
             "colorbar": {
              "outlinewidth": 0,
              "ticks": ""
             }
            },
            "type": "scatterpolargl"
           }
          ],
          "scatterternary": [
           {
            "marker": {
             "colorbar": {
              "outlinewidth": 0,
              "ticks": ""
             }
            },
            "type": "scatterternary"
           }
          ],
          "surface": [
           {
            "colorbar": {
             "outlinewidth": 0,
             "ticks": ""
            },
            "colorscale": [
             [
              0,
              "#0d0887"
             ],
             [
              0.1111111111111111,
              "#46039f"
             ],
             [
              0.2222222222222222,
              "#7201a8"
             ],
             [
              0.3333333333333333,
              "#9c179e"
             ],
             [
              0.4444444444444444,
              "#bd3786"
             ],
             [
              0.5555555555555556,
              "#d8576b"
             ],
             [
              0.6666666666666666,
              "#ed7953"
             ],
             [
              0.7777777777777778,
              "#fb9f3a"
             ],
             [
              0.8888888888888888,
              "#fdca26"
             ],
             [
              1,
              "#f0f921"
             ]
            ],
            "type": "surface"
           }
          ],
          "table": [
           {
            "cells": {
             "fill": {
              "color": "#EBF0F8"
             },
             "line": {
              "color": "white"
             }
            },
            "header": {
             "fill": {
              "color": "#C8D4E3"
             },
             "line": {
              "color": "white"
             }
            },
            "type": "table"
           }
          ]
         },
         "layout": {
          "annotationdefaults": {
           "arrowcolor": "#2a3f5f",
           "arrowhead": 0,
           "arrowwidth": 1
          },
          "autotypenumbers": "strict",
          "coloraxis": {
           "colorbar": {
            "outlinewidth": 0,
            "ticks": ""
           }
          },
          "colorscale": {
           "diverging": [
            [
             0,
             "#8e0152"
            ],
            [
             0.1,
             "#c51b7d"
            ],
            [
             0.2,
             "#de77ae"
            ],
            [
             0.3,
             "#f1b6da"
            ],
            [
             0.4,
             "#fde0ef"
            ],
            [
             0.5,
             "#f7f7f7"
            ],
            [
             0.6,
             "#e6f5d0"
            ],
            [
             0.7,
             "#b8e186"
            ],
            [
             0.8,
             "#7fbc41"
            ],
            [
             0.9,
             "#4d9221"
            ],
            [
             1,
             "#276419"
            ]
           ],
           "sequential": [
            [
             0,
             "#0d0887"
            ],
            [
             0.1111111111111111,
             "#46039f"
            ],
            [
             0.2222222222222222,
             "#7201a8"
            ],
            [
             0.3333333333333333,
             "#9c179e"
            ],
            [
             0.4444444444444444,
             "#bd3786"
            ],
            [
             0.5555555555555556,
             "#d8576b"
            ],
            [
             0.6666666666666666,
             "#ed7953"
            ],
            [
             0.7777777777777778,
             "#fb9f3a"
            ],
            [
             0.8888888888888888,
             "#fdca26"
            ],
            [
             1,
             "#f0f921"
            ]
           ],
           "sequentialminus": [
            [
             0,
             "#0d0887"
            ],
            [
             0.1111111111111111,
             "#46039f"
            ],
            [
             0.2222222222222222,
             "#7201a8"
            ],
            [
             0.3333333333333333,
             "#9c179e"
            ],
            [
             0.4444444444444444,
             "#bd3786"
            ],
            [
             0.5555555555555556,
             "#d8576b"
            ],
            [
             0.6666666666666666,
             "#ed7953"
            ],
            [
             0.7777777777777778,
             "#fb9f3a"
            ],
            [
             0.8888888888888888,
             "#fdca26"
            ],
            [
             1,
             "#f0f921"
            ]
           ]
          },
          "colorway": [
           "#636efa",
           "#EF553B",
           "#00cc96",
           "#ab63fa",
           "#FFA15A",
           "#19d3f3",
           "#FF6692",
           "#B6E880",
           "#FF97FF",
           "#FECB52"
          ],
          "font": {
           "color": "#2a3f5f"
          },
          "geo": {
           "bgcolor": "white",
           "lakecolor": "white",
           "landcolor": "#E5ECF6",
           "showlakes": true,
           "showland": true,
           "subunitcolor": "white"
          },
          "hoverlabel": {
           "align": "left"
          },
          "hovermode": "closest",
          "mapbox": {
           "style": "light"
          },
          "paper_bgcolor": "white",
          "plot_bgcolor": "#E5ECF6",
          "polar": {
           "angularaxis": {
            "gridcolor": "white",
            "linecolor": "white",
            "ticks": ""
           },
           "bgcolor": "#E5ECF6",
           "radialaxis": {
            "gridcolor": "white",
            "linecolor": "white",
            "ticks": ""
           }
          },
          "scene": {
           "xaxis": {
            "backgroundcolor": "#E5ECF6",
            "gridcolor": "white",
            "gridwidth": 2,
            "linecolor": "white",
            "showbackground": true,
            "ticks": "",
            "zerolinecolor": "white"
           },
           "yaxis": {
            "backgroundcolor": "#E5ECF6",
            "gridcolor": "white",
            "gridwidth": 2,
            "linecolor": "white",
            "showbackground": true,
            "ticks": "",
            "zerolinecolor": "white"
           },
           "zaxis": {
            "backgroundcolor": "#E5ECF6",
            "gridcolor": "white",
            "gridwidth": 2,
            "linecolor": "white",
            "showbackground": true,
            "ticks": "",
            "zerolinecolor": "white"
           }
          },
          "shapedefaults": {
           "line": {
            "color": "#2a3f5f"
           }
          },
          "ternary": {
           "aaxis": {
            "gridcolor": "white",
            "linecolor": "white",
            "ticks": ""
           },
           "baxis": {
            "gridcolor": "white",
            "linecolor": "white",
            "ticks": ""
           },
           "bgcolor": "#E5ECF6",
           "caxis": {
            "gridcolor": "white",
            "linecolor": "white",
            "ticks": ""
           }
          },
          "title": {
           "x": 0.05
          },
          "xaxis": {
           "automargin": true,
           "gridcolor": "white",
           "linecolor": "white",
           "ticks": "",
           "title": {
            "standoff": 15
           },
           "zerolinecolor": "white",
           "zerolinewidth": 2
          },
          "yaxis": {
           "automargin": true,
           "gridcolor": "white",
           "linecolor": "white",
           "ticks": "",
           "title": {
            "standoff": 15
           },
           "zerolinecolor": "white",
           "zerolinewidth": 2
          }
         }
        },
        "title": {
         "text": "Comparación por país: HONDURAS, tipo: 20"
        },
        "width": 2000,
        "xaxis": {
         "anchor": "y",
         "domain": [
          0,
          0.16799999999999998
         ],
         "title": {
          "text": "SEMID"
         }
        },
        "xaxis2": {
         "anchor": "y2",
         "domain": [
          0.208,
          0.376
         ],
         "title": {
          "text": "SEMID"
         }
        },
        "xaxis3": {
         "anchor": "y3",
         "domain": [
          0.416,
          0.584
         ],
         "title": {
          "text": "SEMID"
         }
        },
        "xaxis4": {
         "anchor": "y4",
         "domain": [
          0.624,
          0.792
         ],
         "title": {
          "text": "SEMID"
         }
        },
        "xaxis5": {
         "anchor": "y5",
         "domain": [
          0.832,
          1
         ],
         "title": {
          "text": "SEMID"
         }
        },
        "yaxis": {
         "anchor": "x",
         "domain": [
          0,
          1
         ],
         "title": {
          "text": "Valor"
         }
        },
        "yaxis2": {
         "anchor": "x2",
         "domain": [
          0,
          1
         ]
        },
        "yaxis3": {
         "anchor": "x3",
         "domain": [
          0,
          1
         ]
        },
        "yaxis4": {
         "anchor": "x4",
         "domain": [
          0,
          1
         ]
        },
        "yaxis5": {
         "anchor": "x5",
         "domain": [
          0,
          1
         ]
        }
       }
      }
     },
     "metadata": {},
     "output_type": "display_data"
    },
    {
     "name": "stdout",
     "output_type": "stream",
     "text": [
      "🔹 Rechazos de clientes\n"
     ]
    },
    {
     "data": {
      "text/plain": [
       "None"
      ]
     },
     "metadata": {},
     "output_type": "display_data"
    },
    {
     "name": "stdout",
     "output_type": "stream",
     "text": [
      "\n",
      "🔹 Rechazos de cadenas\n"
     ]
    },
    {
     "data": {
      "text/html": [
       "<div>\n",
       "<style scoped>\n",
       "    .dataframe tbody tr th:only-of-type {\n",
       "        vertical-align: middle;\n",
       "    }\n",
       "\n",
       "    .dataframe tbody tr th {\n",
       "        vertical-align: top;\n",
       "    }\n",
       "\n",
       "    .dataframe thead th {\n",
       "        text-align: right;\n",
       "    }\n",
       "</style>\n",
       "<table border=\"1\" class=\"dataframe\">\n",
       "  <thead>\n",
       "    <tr style=\"text-align: right;\">\n",
       "      <th></th>\n",
       "      <th>País</th>\n",
       "      <th>GrpID</th>\n",
       "      <th>GrpNombre</th>\n",
       "      <th>Cadena</th>\n",
       "      <th>SEMNUMERO</th>\n",
       "      <th>Unidades Desplazadas</th>\n",
       "      <th>Monto Desplazado Bruto ML</th>\n",
       "      <th>Fecha Rechazo</th>\n",
       "      <th>Métrica</th>\n",
       "    </tr>\n",
       "  </thead>\n",
       "  <tbody>\n",
       "    <tr>\n",
       "      <th>0</th>\n",
       "      <td>14</td>\n",
       "      <td>333</td>\n",
       "      <td>DIPO</td>\n",
       "      <td>AM PM</td>\n",
       "      <td>34</td>\n",
       "      <td>1,392.00</td>\n",
       "      <td>2,654.36</td>\n",
       "      <td>2025-09-01</td>\n",
       "      <td>SO</td>\n",
       "    </tr>\n",
       "    <tr>\n",
       "      <th>1</th>\n",
       "      <td>14</td>\n",
       "      <td>333</td>\n",
       "      <td>DIPO</td>\n",
       "      <td>TIENDAS DE CONVENIENCIA DIPO</td>\n",
       "      <td>34</td>\n",
       "      <td>192.00</td>\n",
       "      <td>366.12</td>\n",
       "      <td>2025-09-01</td>\n",
       "      <td>SO</td>\n",
       "    </tr>\n",
       "    <tr>\n",
       "      <th>2</th>\n",
       "      <td>15</td>\n",
       "      <td>443</td>\n",
       "      <td>DISZASA</td>\n",
       "      <td>365 EXPRESS</td>\n",
       "      <td>34</td>\n",
       "      <td>12.00</td>\n",
       "      <td>13.80</td>\n",
       "      <td>2025-09-01</td>\n",
       "      <td>SO</td>\n",
       "    </tr>\n",
       "    <tr>\n",
       "      <th>3</th>\n",
       "      <td>15</td>\n",
       "      <td>443</td>\n",
       "      <td>DISZASA</td>\n",
       "      <td>COOPERATIVAS</td>\n",
       "      <td>34</td>\n",
       "      <td>120.00</td>\n",
       "      <td>138.00</td>\n",
       "      <td>2025-09-01</td>\n",
       "      <td>SO</td>\n",
       "    </tr>\n",
       "    <tr>\n",
       "      <th>4</th>\n",
       "      <td>15</td>\n",
       "      <td>443</td>\n",
       "      <td>DISZASA</td>\n",
       "      <td>MALBI STORE</td>\n",
       "      <td>34</td>\n",
       "      <td>6.00</td>\n",
       "      <td>6.90</td>\n",
       "      <td>2025-09-01</td>\n",
       "      <td>SO</td>\n",
       "    </tr>\n",
       "    <tr>\n",
       "      <th>5</th>\n",
       "      <td>15</td>\n",
       "      <td>443</td>\n",
       "      <td>DISZASA</td>\n",
       "      <td>SHELL</td>\n",
       "      <td>34</td>\n",
       "      <td>24.00</td>\n",
       "      <td>27.60</td>\n",
       "      <td>2025-09-01</td>\n",
       "      <td>SO</td>\n",
       "    </tr>\n",
       "    <tr>\n",
       "      <th>6</th>\n",
       "      <td>15</td>\n",
       "      <td>443</td>\n",
       "      <td>DISZASA</td>\n",
       "      <td>SUPER JEHOVA JIREH</td>\n",
       "      <td>34</td>\n",
       "      <td>0.00</td>\n",
       "      <td>0.00</td>\n",
       "      <td>2025-09-01</td>\n",
       "      <td>SO</td>\n",
       "    </tr>\n",
       "    <tr>\n",
       "      <th>7</th>\n",
       "      <td>15</td>\n",
       "      <td>443</td>\n",
       "      <td>DISZASA</td>\n",
       "      <td>SUPER KENY</td>\n",
       "      <td>34</td>\n",
       "      <td>156.00</td>\n",
       "      <td>179.40</td>\n",
       "      <td>2025-09-01</td>\n",
       "      <td>SO</td>\n",
       "    </tr>\n",
       "    <tr>\n",
       "      <th>8</th>\n",
       "      <td>15</td>\n",
       "      <td>443</td>\n",
       "      <td>DISZASA</td>\n",
       "      <td>SUPER TIENDA ALAMEDA</td>\n",
       "      <td>34</td>\n",
       "      <td>80.00</td>\n",
       "      <td>363.60</td>\n",
       "      <td>2025-09-01</td>\n",
       "      <td>SO</td>\n",
       "    </tr>\n",
       "    <tr>\n",
       "      <th>9</th>\n",
       "      <td>15</td>\n",
       "      <td>443</td>\n",
       "      <td>DISZASA</td>\n",
       "      <td>SUPER TIENDA EL BARATILLO</td>\n",
       "      <td>34</td>\n",
       "      <td>1,102.00</td>\n",
       "      <td>1,370.04</td>\n",
       "      <td>2025-09-01</td>\n",
       "      <td>SO</td>\n",
       "    </tr>\n",
       "    <tr>\n",
       "      <th>10</th>\n",
       "      <td>15</td>\n",
       "      <td>443</td>\n",
       "      <td>DISZASA</td>\n",
       "      <td>SUPER TIENDA EL NUEVO MILAGRO</td>\n",
       "      <td>34</td>\n",
       "      <td>0.00</td>\n",
       "      <td>0.00</td>\n",
       "      <td>2025-09-01</td>\n",
       "      <td>SO</td>\n",
       "    </tr>\n",
       "    <tr>\n",
       "      <th>11</th>\n",
       "      <td>16</td>\n",
       "      <td>706</td>\n",
       "      <td>REPRICO</td>\n",
       "      <td>DUTY FREE REPRICO</td>\n",
       "      <td>34</td>\n",
       "      <td>1,440.00</td>\n",
       "      <td>2,865.73</td>\n",
       "      <td>2025-09-01</td>\n",
       "      <td>SO</td>\n",
       "    </tr>\n",
       "    <tr>\n",
       "      <th>12</th>\n",
       "      <td>16</td>\n",
       "      <td>1128</td>\n",
       "      <td>DICARINA</td>\n",
       "      <td>IN &amp; OUT PTY</td>\n",
       "      <td>34</td>\n",
       "      <td>6.00</td>\n",
       "      <td>9.84</td>\n",
       "      <td>2025-09-01</td>\n",
       "      <td>SO</td>\n",
       "    </tr>\n",
       "    <tr>\n",
       "      <th>13</th>\n",
       "      <td>16</td>\n",
       "      <td>1128</td>\n",
       "      <td>DICARINA</td>\n",
       "      <td>PEDIDOS YA MARKET</td>\n",
       "      <td>34</td>\n",
       "      <td>82.00</td>\n",
       "      <td>371.19</td>\n",
       "      <td>2025-09-01</td>\n",
       "      <td>SO</td>\n",
       "    </tr>\n",
       "    <tr>\n",
       "      <th>14</th>\n",
       "      <td>16</td>\n",
       "      <td>1128</td>\n",
       "      <td>DICARINA</td>\n",
       "      <td>VA &amp; VEN</td>\n",
       "      <td>34</td>\n",
       "      <td>373.00</td>\n",
       "      <td>616.46</td>\n",
       "      <td>2025-09-01</td>\n",
       "      <td>SO</td>\n",
       "    </tr>\n",
       "  </tbody>\n",
       "</table>\n",
       "</div>"
      ],
      "text/plain": [
       "    País  GrpID GrpNombre                         Cadena  SEMNUMERO  \\\n",
       "0     14    333      DIPO                          AM PM         34   \n",
       "1     14    333      DIPO   TIENDAS DE CONVENIENCIA DIPO         34   \n",
       "2     15    443   DISZASA                    365 EXPRESS         34   \n",
       "3     15    443   DISZASA                   COOPERATIVAS         34   \n",
       "4     15    443   DISZASA                    MALBI STORE         34   \n",
       "5     15    443   DISZASA                          SHELL         34   \n",
       "6     15    443   DISZASA             SUPER JEHOVA JIREH         34   \n",
       "7     15    443   DISZASA                     SUPER KENY         34   \n",
       "8     15    443   DISZASA           SUPER TIENDA ALAMEDA         34   \n",
       "9     15    443   DISZASA      SUPER TIENDA EL BARATILLO         34   \n",
       "10    15    443   DISZASA  SUPER TIENDA EL NUEVO MILAGRO         34   \n",
       "11    16    706   REPRICO              DUTY FREE REPRICO         34   \n",
       "12    16   1128  DICARINA                   IN & OUT PTY         34   \n",
       "13    16   1128  DICARINA              PEDIDOS YA MARKET         34   \n",
       "14    16   1128  DICARINA                       VA & VEN         34   \n",
       "\n",
       "    Unidades Desplazadas  Monto Desplazado Bruto ML Fecha Rechazo Métrica  \n",
       "0               1,392.00                   2,654.36    2025-09-01      SO  \n",
       "1                 192.00                     366.12    2025-09-01      SO  \n",
       "2                  12.00                      13.80    2025-09-01      SO  \n",
       "3                 120.00                     138.00    2025-09-01      SO  \n",
       "4                   6.00                       6.90    2025-09-01      SO  \n",
       "5                  24.00                      27.60    2025-09-01      SO  \n",
       "6                   0.00                       0.00    2025-09-01      SO  \n",
       "7                 156.00                     179.40    2025-09-01      SO  \n",
       "8                  80.00                     363.60    2025-09-01      SO  \n",
       "9               1,102.00                   1,370.04    2025-09-01      SO  \n",
       "10                  0.00                       0.00    2025-09-01      SO  \n",
       "11              1,440.00                   2,865.73    2025-09-01      SO  \n",
       "12                  6.00                       9.84    2025-09-01      SO  \n",
       "13                 82.00                     371.19    2025-09-01      SO  \n",
       "14                373.00                     616.46    2025-09-01      SO  "
      ]
     },
     "metadata": {},
     "output_type": "display_data"
    },
    {
     "name": "stdout",
     "output_type": "stream",
     "text": [
      "\n",
      "🔹 Rechazos de EAN\n"
     ]
    },
    {
     "data": {
      "text/html": [
       "<div>\n",
       "<style scoped>\n",
       "    .dataframe tbody tr th:only-of-type {\n",
       "        vertical-align: middle;\n",
       "    }\n",
       "\n",
       "    .dataframe tbody tr th {\n",
       "        vertical-align: top;\n",
       "    }\n",
       "\n",
       "    .dataframe thead th {\n",
       "        text-align: right;\n",
       "    }\n",
       "</style>\n",
       "<table border=\"1\" class=\"dataframe\">\n",
       "  <thead>\n",
       "    <tr style=\"text-align: right;\">\n",
       "      <th></th>\n",
       "      <th>País</th>\n",
       "      <th>EAN</th>\n",
       "      <th>Descripción</th>\n",
       "      <th>Código (SAP/ERP)</th>\n",
       "      <th>SEMNUMERO</th>\n",
       "      <th>Unidades Desplazadas</th>\n",
       "      <th>Monto Desplazado Bruto ML</th>\n",
       "      <th>Fecha Rechazo</th>\n",
       "      <th>Métrica</th>\n",
       "    </tr>\n",
       "  </thead>\n",
       "  <tbody>\n",
       "    <tr>\n",
       "      <th>0</th>\n",
       "      <td>15</td>\n",
       "      <td>310245</td>\n",
       "      <td>X RAY DOL TABLETAS PAGUE 9 LLEVE 12</td>\n",
       "      <td>310245</td>\n",
       "      <td>34</td>\n",
       "      <td>0.00</td>\n",
       "      <td>0.00</td>\n",
       "      <td>2025-09-01</td>\n",
       "      <td>SO</td>\n",
       "    </tr>\n",
       "    <tr>\n",
       "      <th>1</th>\n",
       "      <td>15</td>\n",
       "      <td>650240073991</td>\n",
       "      <td>QG5 PLUS 10 ML 10 UNID.</td>\n",
       "      <td>8100007470</td>\n",
       "      <td>34</td>\n",
       "      <td>0.00</td>\n",
       "      <td>0.00</td>\n",
       "      <td>2025-09-01</td>\n",
       "      <td>SO</td>\n",
       "    </tr>\n",
       "    <tr>\n",
       "      <th>2</th>\n",
       "      <td>15</td>\n",
       "      <td>650240074004</td>\n",
       "      <td>QG5 PLUS 10 ML 24 UNID.</td>\n",
       "      <td>8100007469</td>\n",
       "      <td>34</td>\n",
       "      <td>0.00</td>\n",
       "      <td>0.00</td>\n",
       "      <td>2025-09-01</td>\n",
       "      <td>SO</td>\n",
       "    </tr>\n",
       "    <tr>\n",
       "      <th>3</th>\n",
       "      <td>16</td>\n",
       "      <td>650240069352</td>\n",
       "      <td>TIO NACHO SHAMPOO CONTROL CASPA PROPOLEO 415ML</td>\n",
       "      <td>8100006433</td>\n",
       "      <td>34</td>\n",
       "      <td>208.00</td>\n",
       "      <td>1,418.44</td>\n",
       "      <td>2025-09-01</td>\n",
       "      <td>SO</td>\n",
       "    </tr>\n",
       "    <tr>\n",
       "      <th>4</th>\n",
       "      <td>19</td>\n",
       "      <td>310244</td>\n",
       "      <td>SUEROX ADU UVA 630ML PROMO UNIDAD (MUESTREO)</td>\n",
       "      <td>310244</td>\n",
       "      <td>34</td>\n",
       "      <td>405.00</td>\n",
       "      <td>0.00</td>\n",
       "      <td>2025-09-01</td>\n",
       "      <td>SO</td>\n",
       "    </tr>\n",
       "    <tr>\n",
       "      <th>5</th>\n",
       "      <td>19</td>\n",
       "      <td>650240074004</td>\n",
       "      <td>QG5 PLUS 10 ML 24 UNID.</td>\n",
       "      <td>8100007469</td>\n",
       "      <td>34</td>\n",
       "      <td>23.00</td>\n",
       "      <td>274.39</td>\n",
       "      <td>2025-09-01</td>\n",
       "      <td>SO</td>\n",
       "    </tr>\n",
       "    <tr>\n",
       "      <th>6</th>\n",
       "      <td>20</td>\n",
       "      <td>650240065712</td>\n",
       "      <td>MEDICASP SACHET 15 ML 10 UNID.</td>\n",
       "      <td>8100005920</td>\n",
       "      <td>34</td>\n",
       "      <td>0.00</td>\n",
       "      <td>0.00</td>\n",
       "      <td>2025-09-01</td>\n",
       "      <td>SO</td>\n",
       "    </tr>\n",
       "  </tbody>\n",
       "</table>\n",
       "</div>"
      ],
      "text/plain": [
       "   País           EAN                                     Descripción  \\\n",
       "0    15        310245             X RAY DOL TABLETAS PAGUE 9 LLEVE 12   \n",
       "1    15  650240073991                         QG5 PLUS 10 ML 10 UNID.   \n",
       "2    15  650240074004                         QG5 PLUS 10 ML 24 UNID.   \n",
       "3    16  650240069352  TIO NACHO SHAMPOO CONTROL CASPA PROPOLEO 415ML   \n",
       "4    19        310244    SUEROX ADU UVA 630ML PROMO UNIDAD (MUESTREO)   \n",
       "5    19  650240074004                         QG5 PLUS 10 ML 24 UNID.   \n",
       "6    20  650240065712                  MEDICASP SACHET 15 ML 10 UNID.   \n",
       "\n",
       "  Código (SAP/ERP)  SEMNUMERO  Unidades Desplazadas  \\\n",
       "0           310245         34                  0.00   \n",
       "1       8100007470         34                  0.00   \n",
       "2       8100007469         34                  0.00   \n",
       "3       8100006433         34                208.00   \n",
       "4           310244         34                405.00   \n",
       "5       8100007469         34                 23.00   \n",
       "6       8100005920         34                  0.00   \n",
       "\n",
       "   Monto Desplazado Bruto ML Fecha Rechazo Métrica  \n",
       "0                       0.00    2025-09-01      SO  \n",
       "1                       0.00    2025-09-01      SO  \n",
       "2                       0.00    2025-09-01      SO  \n",
       "3                   1,418.44    2025-09-01      SO  \n",
       "4                       0.00    2025-09-01      SO  \n",
       "5                     274.39    2025-09-01      SO  \n",
       "6                       0.00    2025-09-01      SO  "
      ]
     },
     "metadata": {},
     "output_type": "display_data"
    },
    {
     "name": "stdout",
     "output_type": "stream",
     "text": [
      "\n",
      "🔹 Resumen final\n"
     ]
    },
    {
     "data": {
      "text/html": [
       "<div>\n",
       "<style scoped>\n",
       "    .dataframe tbody tr th:only-of-type {\n",
       "        vertical-align: middle;\n",
       "    }\n",
       "\n",
       "    .dataframe tbody tr th {\n",
       "        vertical-align: top;\n",
       "    }\n",
       "\n",
       "    .dataframe thead th {\n",
       "        text-align: right;\n",
       "    }\n",
       "</style>\n",
       "<table border=\"1\" class=\"dataframe\">\n",
       "  <thead>\n",
       "    <tr style=\"text-align: right;\">\n",
       "      <th></th>\n",
       "      <th>Variable</th>\n",
       "      <th>Resumen_df_inicial</th>\n",
       "      <th>Resumen_df_merged</th>\n",
       "      <th>Resumen_df_sin_nulos</th>\n",
       "      <th>Resumen_df_calculado</th>\n",
       "      <th>Resumen_df_final</th>\n",
       "      <th>Resumen_df_final_fbn</th>\n",
       "    </tr>\n",
       "  </thead>\n",
       "  <tbody>\n",
       "    <tr>\n",
       "      <th>0</th>\n",
       "      <td>Precio Unitario VTA GLI</td>\n",
       "      <td>22,002.60</td>\n",
       "      <td>22,002.60</td>\n",
       "      <td>21,737.14</td>\n",
       "      <td></td>\n",
       "      <td></td>\n",
       "      <td></td>\n",
       "    </tr>\n",
       "    <tr>\n",
       "      <th>1</th>\n",
       "      <td>SOUTCANTDESP</td>\n",
       "      <td>262,659.45</td>\n",
       "      <td>262,659.45</td>\n",
       "      <td>262,659.45</td>\n",
       "      <td>262,659.45</td>\n",
       "      <td>257,038.45</td>\n",
       "      <td>257,038.45</td>\n",
       "    </tr>\n",
       "    <tr>\n",
       "      <th>2</th>\n",
       "      <td>SOUTCANTEXIST</td>\n",
       "      <td>1,632,801.47</td>\n",
       "      <td>1,632,801.47</td>\n",
       "      <td>1,632,801.47</td>\n",
       "      <td>1,632,801.47</td>\n",
       "      <td>1,626,903.47</td>\n",
       "      <td>1,626,903.47</td>\n",
       "    </tr>\n",
       "    <tr>\n",
       "      <th>3</th>\n",
       "      <td>SOUTCANTINV</td>\n",
       "      <td></td>\n",
       "      <td></td>\n",
       "      <td></td>\n",
       "      <td>1,626,903.47</td>\n",
       "      <td>1,626,903.47</td>\n",
       "      <td>1,626,903.47</td>\n",
       "    </tr>\n",
       "    <tr>\n",
       "      <th>4</th>\n",
       "      <td>SOUTMONTODESP</td>\n",
       "      <td></td>\n",
       "      <td></td>\n",
       "      <td></td>\n",
       "      <td></td>\n",
       "      <td></td>\n",
       "      <td>0.00</td>\n",
       "    </tr>\n",
       "    <tr>\n",
       "      <th>5</th>\n",
       "      <td>SOUTMONTODESPBRT</td>\n",
       "      <td>931,918.90</td>\n",
       "      <td>931,918.90</td>\n",
       "      <td>931,918.90</td>\n",
       "      <td>931,918.90</td>\n",
       "      <td>921,243.03</td>\n",
       "      <td>921,243.03</td>\n",
       "    </tr>\n",
       "    <tr>\n",
       "      <th>6</th>\n",
       "      <td>SOUTMONTOEXIST</td>\n",
       "      <td></td>\n",
       "      <td></td>\n",
       "      <td></td>\n",
       "      <td></td>\n",
       "      <td></td>\n",
       "      <td>0.00</td>\n",
       "    </tr>\n",
       "    <tr>\n",
       "      <th>7</th>\n",
       "      <td>SOUTMONTOEXISTBRT</td>\n",
       "      <td></td>\n",
       "      <td></td>\n",
       "      <td></td>\n",
       "      <td>5,812,601.56</td>\n",
       "      <td>5,812,601.56</td>\n",
       "      <td>5,812,601.56</td>\n",
       "    </tr>\n",
       "    <tr>\n",
       "      <th>8</th>\n",
       "      <td>SOUTMONTOINVBRT</td>\n",
       "      <td></td>\n",
       "      <td></td>\n",
       "      <td></td>\n",
       "      <td>5,812,601.56</td>\n",
       "      <td>5,812,601.56</td>\n",
       "      <td>5,812,601.56</td>\n",
       "    </tr>\n",
       "    <tr>\n",
       "      <th>9</th>\n",
       "      <td>Total Filas en df</td>\n",
       "      <td>3,477.00</td>\n",
       "      <td>3,477.00</td>\n",
       "      <td>3,408.00</td>\n",
       "      <td>3,199.00</td>\n",
       "      <td>3,199.00</td>\n",
       "      <td>3,199.00</td>\n",
       "    </tr>\n",
       "    <tr>\n",
       "      <th>10</th>\n",
       "      <td>Unidades Inv. CEDIS</td>\n",
       "      <td>0.00</td>\n",
       "      <td>0.00</td>\n",
       "      <td>0.00</td>\n",
       "      <td></td>\n",
       "      <td></td>\n",
       "      <td></td>\n",
       "    </tr>\n",
       "    <tr>\n",
       "      <th>11</th>\n",
       "      <td>Unidades Inv. Transito</td>\n",
       "      <td>0.00</td>\n",
       "      <td>0.00</td>\n",
       "      <td>0.00</td>\n",
       "      <td></td>\n",
       "      <td></td>\n",
       "      <td></td>\n",
       "    </tr>\n",
       "  </tbody>\n",
       "</table>\n",
       "</div>"
      ],
      "text/plain": [
       "                   Variable Resumen_df_inicial Resumen_df_merged  \\\n",
       "0   Precio Unitario VTA GLI          22,002.60         22,002.60   \n",
       "1              SOUTCANTDESP         262,659.45        262,659.45   \n",
       "2             SOUTCANTEXIST       1,632,801.47      1,632,801.47   \n",
       "3               SOUTCANTINV                                        \n",
       "4             SOUTMONTODESP                                        \n",
       "5          SOUTMONTODESPBRT         931,918.90        931,918.90   \n",
       "6            SOUTMONTOEXIST                                        \n",
       "7         SOUTMONTOEXISTBRT                                        \n",
       "8           SOUTMONTOINVBRT                                        \n",
       "9         Total Filas en df           3,477.00          3,477.00   \n",
       "10      Unidades Inv. CEDIS               0.00              0.00   \n",
       "11   Unidades Inv. Transito               0.00              0.00   \n",
       "\n",
       "   Resumen_df_sin_nulos Resumen_df_calculado Resumen_df_final  \\\n",
       "0             21,737.14                                         \n",
       "1            262,659.45           262,659.45       257,038.45   \n",
       "2          1,632,801.47         1,632,801.47     1,626,903.47   \n",
       "3                               1,626,903.47     1,626,903.47   \n",
       "4                                                               \n",
       "5            931,918.90           931,918.90       921,243.03   \n",
       "6                                                               \n",
       "7                               5,812,601.56     5,812,601.56   \n",
       "8                               5,812,601.56     5,812,601.56   \n",
       "9              3,408.00             3,199.00         3,199.00   \n",
       "10                 0.00                                         \n",
       "11                 0.00                                         \n",
       "\n",
       "   Resumen_df_final_fbn  \n",
       "0                        \n",
       "1            257,038.45  \n",
       "2          1,626,903.47  \n",
       "3          1,626,903.47  \n",
       "4                  0.00  \n",
       "5            921,243.03  \n",
       "6                  0.00  \n",
       "7          5,812,601.56  \n",
       "8          5,812,601.56  \n",
       "9              3,199.00  \n",
       "10                       \n",
       "11                       "
      ]
     },
     "metadata": {},
     "output_type": "display_data"
    }
   ],
   "source": [
    "# Vista de todos los resúmenes\n",
    "resumen_final = resumen.merge(resumen2, on=\"Variable\", how=\"outer\")\n",
    "resumen_final = resumen_final.merge(resumen3, on=\"Variable\", how=\"outer\")\n",
    "resumen_final.replace({\"Unidades Desplazadas\": \"SOUTCANTDESP\",\n",
    "                  \"Unidades Inv. Tienda\": \"SOUTCANTEXIST\",\n",
    "                  \"Monto Desplazado Bruto ML\": \"SOUTMONTODESPBRT\"}, inplace=True)\n",
    "resumen_final = resumen_final.merge(resumen4, on=\"Variable\", how=\"outer\")\n",
    "resumen_final = resumen_final.merge(resumen5, on=\"Variable\", how=\"outer\")\n",
    "resumen_final = resumen_final.merge(resumen6, on=\"Variable\", how=\"outer\")\n",
    "resumen_final.replace(np.nan, '', inplace=True)\n",
    "resumen_final\n",
    "\n",
    "df_sum_srzh = df_final.groupby(['PAISID', 'SEMID']).agg({\n",
    "    'SOUTCANTDESP': 'sum',\n",
    "    'SOUTCANTEXIST': 'sum',\n",
    "    'SOUTMONTODESPBRT': 'sum',\n",
    "    'SOUTMONTOEXISTBRT': 'sum',\n",
    "    'SOUTMONTOINVBRT': 'sum'\n",
    "}).reset_index()\n",
    "df_gp4 = df_merged4.rename(columns={\"Unidades Desplazadas\": \"SOUTCANTDESP\",\n",
    "                  \"Unidades Inv. Tienda\": \"SOUTCANTEXIST\",\n",
    "                  \"Monto Desplazado Bruto ML\": \"SOUTMONTODESPBRT\"})\n",
    "\n",
    "df_sum_crzh = df_gp4.groupby(['PAISID', 'SEMID']).agg({\n",
    "    'SOUTCANTDESP': 'sum',\n",
    "    'SOUTCANTEXIST': 'sum',\n",
    "    'SOUTMONTODESPBRT': 'sum'\n",
    "}).reset_index()\n",
    "\n",
    "# Observar gráficas\n",
    "columnas  = [\n",
    "    'SOUTCANTDESP',\n",
    "    'SOUTCANTEXIST',\n",
    "    'SOUTMONTODESPBRT',\n",
    "    'SOUTMONTOEXISTBRT',\n",
    "    'SOUTMONTOINVBRT'\n",
    "]\n",
    "\n",
    "# Uso con los tres DataFrames\n",
    "graficar_por_tipocomprod_interactivo(df_hist, df_sum_crzh, columnas,df_sum_srzh)\n",
    "# Mostrar rechazos\n",
    "print('🔹 Rechazos de clientes')\n",
    "display(rechazo1)\n",
    "print('\\n🔹 Rechazos de cadenas')\n",
    "display(rechazo2)\n",
    "print('\\n🔹 Rechazos de EAN')\n",
    "display(rechazo3)\n",
    "print('\\n🔹 Resumen final')\n",
    "display(resumen_final)"
   ]
  },
  {
   "cell_type": "code",
   "execution_count": 99,
   "id": "9d69fa4e",
   "metadata": {},
   "outputs": [
    {
     "ename": "SystemExit",
     "evalue": "Stop para revisión",
     "output_type": "error",
     "traceback": [
      "An exception has occurred, use %tb to see the full traceback.\n",
      "\u001b[31mSystemExit\u001b[39m\u001b[31m:\u001b[39m Stop para revisión\n"
     ]
    },
    {
     "name": "stderr",
     "output_type": "stream",
     "text": [
      "c:\\Users\\elsilva\\Documents\\MAY\\Carga_Internacional_V2\\.venv\\Lib\\site-packages\\IPython\\core\\interactiveshell.py:3707: UserWarning:\n",
      "\n",
      "To exit: use 'exit', 'quit', or Ctrl-D.\n",
      "\n"
     ]
    }
   ],
   "source": [
    "raise SystemExit(\"Stop para revisión\")"
   ]
  },
  {
   "cell_type": "markdown",
   "id": "70595630",
   "metadata": {},
   "source": [
    "### Insertar en Hechos"
   ]
  },
  {
   "cell_type": "code",
   "execution_count": null,
   "id": "c8a3ad84",
   "metadata": {},
   "outputs": [
    {
     "name": "stdout",
     "output_type": "stream",
     "text": [
      "DELETE ok. Filas afectadas en FACT_SO_SEM_CAD_SKU_INT, ambiente:DEV_: 0\n",
      "Insertadas 1221 filas.\n"
     ]
    }
   ],
   "source": [
    "\n",
    "if not df_final_fbn.empty:\n",
    "    semids = sorted({int(x) for x in df_final_fbn['SEMID'].dropna().astype(int)})\n",
    "    paises = sorted({str(x) for x in PaisSF if x is not None and str(x).strip()})\n",
    "\n",
    "    delete_sql = f\"\"\"\n",
    "    DELETE FROM {ambiente}CNS_MX.SO_HECHOS_INT.FACT_SO_SEM_CAD_SKU_INT t\n",
    "    WHERE t.SEMID IN (\n",
    "    SELECT TO_NUMBER(value::string)\n",
    "    FROM TABLE(FLATTEN(INPUT => PARSE_JSON(%s)))\n",
    "    )\n",
    "    AND t.PAISID IN (\n",
    "    SELECT value::string\n",
    "    FROM TABLE(FLATTEN(INPUT => PARSE_JSON(%s)))\n",
    "    );\n",
    "    \"\"\"\n",
    "\n",
    "    cursor = conexion.cursor()\n",
    "    database = f'{ambiente}CNS_MX'\n",
    "    try:\n",
    "        conexion.autocommit(False)\n",
    "        cursor.execute(delete_sql, (json.dumps(semids), json.dumps(paises)))\n",
    "        print(f\"DELETE ok. Filas afectadas en FACT_SO_SEM_CAD_SKU_INT, ambiente:{ambiente}:\", cursor.rowcount)\n",
    "\n",
    "        success, nchunks, nrows, output = write_pandas(\n",
    "            conn=conexion,\n",
    "            df=df_final_fbn,\n",
    "            database=database,\n",
    "            schema='SO_HECHOS_INT',\n",
    "            table_name='FACT_SO_SEM_CAD_SKU_INT'\n",
    "        )\n",
    "        if success:\n",
    "            conexion.commit()\n",
    "            print(f\"Insertadas {nrows} filas.\")\n",
    "        else:\n",
    "            conexion.rollback()\n",
    "            print(\"La carga falló. ROLLBACK.\")\n",
    "    except ProgrammingError as e:\n",
    "        conexion.rollback()\n",
    "        print(\"Error Snowflake:\", e)\n",
    "    finally:\n",
    "        conexion.autocommit(True)\n",
    "\n"
   ]
  },
  {
   "cell_type": "markdown",
   "id": "17c995b0",
   "metadata": {},
   "source": [
    "### Validación e inserción a DM"
   ]
  },
  {
   "cell_type": "code",
   "execution_count": null,
   "id": "afeaaa80",
   "metadata": {},
   "outputs": [
    {
     "data": {
      "application/vnd.plotly.v1+json": {
       "config": {
        "plotlyServerURL": "https://plot.ly"
       },
       "data": [
        {
         "fill": "toself",
         "fillcolor": "rgba(255, 0, 0, 0.25)",
         "line": {
          "color": "rgba(255,255,255,0)"
         },
         "name": "Desviación",
         "showlegend": true,
         "type": "scatter",
         "x": [
          "2024-S202401",
          "2024-S202402",
          "2024-S202403",
          "2024-S202404",
          "2024-S202405",
          "2024-S202406",
          "2024-S202407",
          "2024-S202408",
          "2024-S202409",
          "2024-S202410",
          "2024-S202411",
          "2024-S202412",
          "2024-S202413",
          "2024-S202414",
          "2024-S202415",
          "2024-S202416",
          "2024-S202417",
          "2024-S202418",
          "2024-S202419",
          "2024-S202420",
          "2024-S202421",
          "2024-S202422",
          "2024-S202423",
          "2024-S202424",
          "2024-S202425",
          "2024-S202426",
          "2024-S202427",
          "2024-S202428",
          "2024-S202429",
          "2024-S202430",
          "2024-S202431",
          "2024-S202432",
          "2024-S202433",
          "2024-S202434",
          "2024-S202435",
          "2024-S202436",
          "2024-S202437",
          "2024-S202438",
          "2024-S202439",
          "2024-S202440",
          "2024-S202441",
          "2024-S202442",
          "2024-S202443",
          "2024-S202444",
          "2024-S202445",
          "2024-S202446",
          "2024-S202447",
          "2024-S202448",
          "2024-S202449",
          "2024-S202450",
          "2024-S202451",
          "2024-S202452",
          "2025-S202501",
          "2025-S202502",
          "2025-S202503",
          "2025-S202504",
          "2025-S202505",
          "2025-S202506",
          "2025-S202507",
          "2025-S202508",
          "2025-S202509",
          "2025-S202510",
          "2025-S202511",
          "2025-S202512",
          "2025-S202513",
          "2025-S202514",
          "2025-S202515",
          "2025-S202516",
          "2025-S202517",
          "2025-S202518",
          "2025-S202519",
          "2025-S202520",
          "2025-S202521",
          "2025-S202522",
          "2025-S202523",
          "2025-S202524",
          "2025-S202525",
          "2025-S202526",
          "2025-S202527",
          "2025-S202528",
          "2025-S202529",
          "2025-S202530",
          "2025-S202531",
          "2025-S202532",
          "2025-S202533",
          "2025-S202534",
          "2025-S202534",
          "2025-S202533",
          "2025-S202532",
          "2025-S202531",
          "2025-S202530",
          "2025-S202529",
          "2025-S202528",
          "2025-S202527",
          "2025-S202526",
          "2025-S202525",
          "2025-S202524",
          "2025-S202523",
          "2025-S202522",
          "2025-S202521",
          "2025-S202520",
          "2025-S202519",
          "2025-S202518",
          "2025-S202517",
          "2025-S202516",
          "2025-S202515",
          "2025-S202514",
          "2025-S202513",
          "2025-S202512",
          "2025-S202511",
          "2025-S202510",
          "2025-S202509",
          "2025-S202508",
          "2025-S202507",
          "2025-S202506",
          "2025-S202505",
          "2025-S202504",
          "2025-S202503",
          "2025-S202502",
          "2025-S202501",
          "2024-S202452",
          "2024-S202451",
          "2024-S202450",
          "2024-S202449",
          "2024-S202448",
          "2024-S202447",
          "2024-S202446",
          "2024-S202445",
          "2024-S202444",
          "2024-S202443",
          "2024-S202442",
          "2024-S202441",
          "2024-S202440",
          "2024-S202439",
          "2024-S202438",
          "2024-S202437",
          "2024-S202436",
          "2024-S202435",
          "2024-S202434",
          "2024-S202433",
          "2024-S202432",
          "2024-S202431",
          "2024-S202430",
          "2024-S202429",
          "2024-S202428",
          "2024-S202427",
          "2024-S202426",
          "2024-S202425",
          "2024-S202424",
          "2024-S202423",
          "2024-S202422",
          "2024-S202421",
          "2024-S202420",
          "2024-S202419",
          "2024-S202418",
          "2024-S202417",
          "2024-S202416",
          "2024-S202415",
          "2024-S202414",
          "2024-S202413",
          "2024-S202412",
          "2024-S202411",
          "2024-S202410",
          "2024-S202409",
          "2024-S202408",
          "2024-S202407",
          "2024-S202406",
          "2024-S202405",
          "2024-S202404",
          "2024-S202403",
          "2024-S202402",
          "2024-S202401"
         ],
         "y": {
          "bdata": "5BQd6Z8xOUFGtvOVZgBDQa36XK1eDkBBGXPXOlrnSUGt+lzJ18hTQXRGlJ5tYEJBiUFgJf4OQUE7cM7gtKZDQRfZzitq1lBBPQrXC8SpQEHUK2WpYH8+QfVKWabKFEdBHOviJp2JTEFSJ6DZtqI8QYj02zdi5T5BV1uxl/XoQ0FX7C/zadtGQaFns1pBvUpBQj7oiTGbP0HZX3bXhyNBQfMf0gc+U0hBKqkTiChoSEH5oGfjSHY7QXL5DykEl0VBy6FFHjONQkGrz9WCrvBRQWfV5/LxEkBBFK5HEZO6REFj7lrS2NxBQfT91FiYQENB/Yf0E6XET0FOYhCY5nBDQS2ynbfr70RBvsEXlkjtQEEwKqk/kz1RQfkx5t4wQD5B0ZFczuPpRUHswDlTFZJBQQBvgbzTTUZBjSjtARbHWkHQ1VZUTm5CQRfZzgejFUhBEce62KCaQUFfmEx9ZH5SQXGsi0O0KEBBJuSDfgSMQkE0gLcgModEQXNokT0EYU1BZohjjUBIQkFOYhAYL0lCQTXvOIUOSUdBkX77Wm3OSUFvEoP4fHtOQVInoDmybkFBTRWMynNJQUFdbcW20DxCQeSDnq33jU1BvVKWgSbsPkH3Bl+oDddAQb6fGp/8tzxBcT0Kw1iRWUFcj8I1NuEtQcbctUyegUdBVcGoDBOlQEHwp8YT8pNRQUvqBJip5lFB3NeByzAXQkHZX3Z/lh5AQZ88LMzhIkJBjSjtDSqzS0Hb+X4aJCM+QcGopMYnvEBB6pWy3GOlQEEcfGECRmxWQYSezRoX/zhBbqMBjNuPQ0FU46WbcZc/QdobfKEK6FFBBaOS0jDHUUF/arzEAzpAQSGwcngdK0FBeVioRbCsPkH99nVE1atRQe5aQt5ZmDtBzH9IHzdfP0FKe4P/DKRDQQAAAAAAAAAAzH9IHzdfP0HuWkLeWZg7Qf32dUTVq1FBeVioRbCsPkEhsHJ4HStBQX9qvMQDOkBBBaOS0jDHUUHaG3yhCuhRQVTjpZtxlz9BbqMBjNuPQ0GEns0aF/84QRx8YQJGbFZB6pWy3GOlQEHBqKTGJ7xAQdv5fhokIz5BjSjtDSqzS0GfPCzM4SJCQdlfdn+WHkBB3NeByzAXQkFL6gSYqeZRQfCnxhPyk1FBVcGoDBOlQEHG3LVMnoFHQVyPwjU24S1BcT0Kw1iRWUG+nxqf/Lc8QfcGX6gN10BBvVKWgSbsPkHkg56t941NQV1txbbQPEJBTRWMynNJQUFSJ6A5sm5BQW8Sg/h8e05BkX77Wm3OSUE17ziFDklHQU5iEBgvSUJBZohjjUBIQkFzaJE9BGFNQTSAtyAyh0RBJuSDfgSMQkFxrItDtChAQV+YTH1kflJBEce62KCaQUEX2c4HoxVIQdDVVlRObkJBjSjtARbHWkEAb4G8001GQezAOVMVkkFB0ZFczuPpRUH5MebeMEA+QTAqqT+TPVFBvsEXlkjtQEEtsp236+9EQU5iEJjmcENB/Yf0E6XET0H0/dRYmEBDQWPuWtLY3EFBFK5HEZO6REFn1efy8RJAQavP1YKu8FFBy6FFHjONQkFy+Q8pBJdFQfmgZ+NIdjtBKqkTiChoSEHzH9IHPlNIQdlfdteHI0FBQj7oiTGbP0GhZ7NaQb1KQVfsL/Np20ZBV1uxl/XoQ0GI9Ns3YuU+QVInoNm2ojxBHOviJp2JTEH1SlmmyhRHQdQrZalgfz5BPQrXC8SpQEEX2c4ratZQQTtwzuC0pkNBiUFgJf4OQUF0RpSebWBCQa36XMnXyFNBGXPXOlrnSUGt+lytXg5AQUa285VmAENB5BQd6Z8xOUE=",
          "dtype": "f8"
         }
        },
        {
         "line": {
          "color": "blue"
         },
         "mode": "lines+markers",
         "name": "DM",
         "type": "scatter",
         "x": [
          "2024-S202401",
          "2024-S202402",
          "2024-S202403",
          "2024-S202404",
          "2024-S202405",
          "2024-S202406",
          "2024-S202407",
          "2024-S202408",
          "2024-S202409",
          "2024-S202410",
          "2024-S202411",
          "2024-S202412",
          "2024-S202413",
          "2024-S202414",
          "2024-S202415",
          "2024-S202416",
          "2024-S202417",
          "2024-S202418",
          "2024-S202419",
          "2024-S202420",
          "2024-S202421",
          "2024-S202422",
          "2024-S202423",
          "2024-S202424",
          "2024-S202425",
          "2024-S202426",
          "2024-S202427",
          "2024-S202428",
          "2024-S202429",
          "2024-S202430",
          "2024-S202431",
          "2024-S202432",
          "2024-S202433",
          "2024-S202434",
          "2024-S202435",
          "2024-S202436",
          "2024-S202437",
          "2024-S202438",
          "2024-S202439",
          "2024-S202440",
          "2024-S202441",
          "2024-S202442",
          "2024-S202443",
          "2024-S202444",
          "2024-S202445",
          "2024-S202446",
          "2024-S202447",
          "2024-S202448",
          "2024-S202449",
          "2024-S202450",
          "2024-S202451",
          "2024-S202452",
          "2025-S202501",
          "2025-S202502",
          "2025-S202503",
          "2025-S202504",
          "2025-S202505",
          "2025-S202506",
          "2025-S202507",
          "2025-S202508",
          "2025-S202509",
          "2025-S202510",
          "2025-S202511",
          "2025-S202512",
          "2025-S202513",
          "2025-S202514",
          "2025-S202515",
          "2025-S202516",
          "2025-S202517",
          "2025-S202518",
          "2025-S202519",
          "2025-S202520",
          "2025-S202521",
          "2025-S202522",
          "2025-S202523",
          "2025-S202524",
          "2025-S202525",
          "2025-S202526",
          "2025-S202527",
          "2025-S202528",
          "2025-S202529",
          "2025-S202530",
          "2025-S202531",
          "2025-S202532",
          "2025-S202533",
          "2025-S202534"
         ],
         "y": {
          "bdata": "5BQd6Z8xOUFGtvOVZgBDQa36XK1eDkBBGXPXOlrnSUGt+lzJ18hTQXRGlJ5tYEJBiUFgJf4OQUE7cM7gtKZDQRfZzitq1lBBPQrXC8SpQEHUK2WpYH8+QfVKWabKFEdBHOviJp2JTEFSJ6DZtqI8QYj02zdi5T5BV1uxl/XoQ0FX7C/zadtGQaFns1pBvUpBQj7oiTGbP0HZX3bXhyNBQfMf0gc+U0hBKqkTiChoSEH5oGfjSHY7QXL5DykEl0VBy6FFHjONQkGrz9WCrvBRQWfV5/LxEkBBFK5HEZO6REFj7lrS2NxBQfT91FiYQENB/Yf0E6XET0FOYhCY5nBDQS2ynbfr70RBvsEXlkjtQEEwKqk/kz1RQfkx5t4wQD5B0ZFczuPpRUHswDlTFZJBQQBvgbzTTUZBjSjtARbHWkHQ1VZUTm5CQRfZzgejFUhBEce62KCaQUFfmEx9ZH5SQXGsi0O0KEBBJuSDfgSMQkE0gLcgModEQXNokT0EYU1BZohjjUBIQkFOYhAYL0lCQTXvOIUOSUdBkX77Wm3OSUFvEoP4fHtOQVInoDmybkFBTRWMynNJQUFdbcW20DxCQeSDnq33jU1BvVKWgSbsPkH3Bl+oDddAQb6fGp/8tzxBcT0Kw1iRWUFcj8I1NuEtQcbctUyegUdBVcGoDBOlQEHwp8YT8pNRQUvqBJip5lFB3NeByzAXQkHZX3Z/lh5AQZ88LMzhIkJBjSjtDSqzS0Hb+X4aJCM+QcGopMYnvEBB6pWy3GOlQEEcfGECRmxWQYSezRoX/zhBbqMBjNuPQ0FU46WbcZc/QdobfKEK6FFBBaOS0jDHUUF/arzEAzpAQSGwcngdK0FBeVioRbCsPkH99nVE1atRQe5aQt5ZmDtBzH9IHzdfP0EAAAAAAAAAAA==",
          "dtype": "f8"
         }
        },
        {
         "line": {
          "color": "green"
         },
         "mode": "lines+markers",
         "name": "HEC",
         "type": "scatter",
         "x": [
          "2024-S202401",
          "2024-S202402",
          "2024-S202403",
          "2024-S202404",
          "2024-S202405",
          "2024-S202406",
          "2024-S202407",
          "2024-S202408",
          "2024-S202409",
          "2024-S202410",
          "2024-S202411",
          "2024-S202412",
          "2024-S202413",
          "2024-S202414",
          "2024-S202415",
          "2024-S202416",
          "2024-S202417",
          "2024-S202418",
          "2024-S202419",
          "2024-S202420",
          "2024-S202421",
          "2024-S202422",
          "2024-S202423",
          "2024-S202424",
          "2024-S202425",
          "2024-S202426",
          "2024-S202427",
          "2024-S202428",
          "2024-S202429",
          "2024-S202430",
          "2024-S202431",
          "2024-S202432",
          "2024-S202433",
          "2024-S202434",
          "2024-S202435",
          "2024-S202436",
          "2024-S202437",
          "2024-S202438",
          "2024-S202439",
          "2024-S202440",
          "2024-S202441",
          "2024-S202442",
          "2024-S202443",
          "2024-S202444",
          "2024-S202445",
          "2024-S202446",
          "2024-S202447",
          "2024-S202448",
          "2024-S202449",
          "2024-S202450",
          "2024-S202451",
          "2024-S202452",
          "2025-S202501",
          "2025-S202502",
          "2025-S202503",
          "2025-S202504",
          "2025-S202505",
          "2025-S202506",
          "2025-S202507",
          "2025-S202508",
          "2025-S202509",
          "2025-S202510",
          "2025-S202511",
          "2025-S202512",
          "2025-S202513",
          "2025-S202514",
          "2025-S202515",
          "2025-S202516",
          "2025-S202517",
          "2025-S202518",
          "2025-S202519",
          "2025-S202520",
          "2025-S202521",
          "2025-S202522",
          "2025-S202523",
          "2025-S202524",
          "2025-S202525",
          "2025-S202526",
          "2025-S202527",
          "2025-S202528",
          "2025-S202529",
          "2025-S202530",
          "2025-S202531",
          "2025-S202532",
          "2025-S202533",
          "2025-S202534"
         ],
         "y": {
          "bdata": "5BQd6Z8xOUFGtvOVZgBDQa36XK1eDkBBGXPXOlrnSUGt+lzJ18hTQXRGlJ5tYEJBiUFgJf4OQUE7cM7gtKZDQRfZzitq1lBBPQrXC8SpQEHUK2WpYH8+QfVKWabKFEdBHOviJp2JTEFSJ6DZtqI8QYj02zdi5T5BV1uxl/XoQ0FX7C/zadtGQaFns1pBvUpBQj7oiTGbP0HZX3bXhyNBQfMf0gc+U0hBKqkTiChoSEH5oGfjSHY7QXL5DykEl0VBy6FFHjONQkGrz9WCrvBRQWfV5/LxEkBBFK5HEZO6REFj7lrS2NxBQfT91FiYQENB/Yf0E6XET0FOYhCY5nBDQS2ynbfr70RBvsEXlkjtQEEwKqk/kz1RQfkx5t4wQD5B0ZFczuPpRUHswDlTFZJBQQBvgbzTTUZBjSjtARbHWkHQ1VZUTm5CQRfZzgejFUhBEce62KCaQUFfmEx9ZH5SQXGsi0O0KEBBJuSDfgSMQkE0gLcgModEQXNokT0EYU1BZohjjUBIQkFOYhAYL0lCQTXvOIUOSUdBkX77Wm3OSUFvEoP4fHtOQVInoDmybkFBTRWMynNJQUFdbcW20DxCQeSDnq33jU1BvVKWgSbsPkH3Bl+oDddAQb6fGp/8tzxBcT0Kw1iRWUFcj8I1NuEtQcbctUyegUdBVcGoDBOlQEHwp8YT8pNRQUvqBJip5lFB3NeByzAXQkHZX3Z/lh5AQZ88LMzhIkJBjSjtDSqzS0Hb+X4aJCM+QcGopMYnvEBB6pWy3GOlQEEcfGECRmxWQYSezRoX/zhBbqMBjNuPQ0FU46WbcZc/QdobfKEK6FFBBaOS0jDHUUF/arzEAzpAQSGwcngdK0FBeVioRbCsPkH99nVE1atRQe5aQt5ZmDtBzH9IHzdfP0FKe4P/DKRDQQ==",
          "dtype": "f8"
         }
        }
       ],
       "layout": {
        "annotations": [
         {
          "showarrow": false,
          "text": "Media",
          "x": 0,
          "xanchor": "left",
          "xref": "x domain",
          "y": 2890829.2623302327,
          "yanchor": "bottom",
          "yref": "y"
         },
         {
          "showarrow": false,
          "text": "Media + STD",
          "x": 0,
          "xanchor": "left",
          "xref": "x domain",
          "y": 4049226.0748952916,
          "yanchor": "bottom",
          "yref": "y"
         },
         {
          "showarrow": false,
          "text": "Media - STD",
          "x": 0,
          "xanchor": "left",
          "xref": "x domain",
          "y": 1732432.4497651737,
          "yanchor": "top",
          "yref": "y"
         }
        ],
        "hovermode": "x unified",
        "legend": {
         "title": {
          "text": "Fuente"
         }
        },
        "shapes": [
         {
          "line": {
           "color": "orange",
           "dash": "dash"
          },
          "type": "line",
          "x0": 0,
          "x1": 1,
          "xref": "x domain",
          "y0": 2890829.2623302327,
          "y1": 2890829.2623302327,
          "yref": "y"
         },
         {
          "line": {
           "color": "red",
           "dash": "dot"
          },
          "type": "line",
          "x0": 0,
          "x1": 1,
          "xref": "x domain",
          "y0": 4049226.0748952916,
          "y1": 4049226.0748952916,
          "yref": "y"
         },
         {
          "line": {
           "color": "red",
           "dash": "dot"
          },
          "type": "line",
          "x0": 0,
          "x1": 1,
          "xref": "x domain",
          "y0": 1732432.4497651737,
          "y1": 1732432.4497651737,
          "yref": "y"
         }
        ],
        "template": {
         "data": {
          "bar": [
           {
            "error_x": {
             "color": "#2a3f5f"
            },
            "error_y": {
             "color": "#2a3f5f"
            },
            "marker": {
             "line": {
              "color": "#E5ECF6",
              "width": 0.5
             },
             "pattern": {
              "fillmode": "overlay",
              "size": 10,
              "solidity": 0.2
             }
            },
            "type": "bar"
           }
          ],
          "barpolar": [
           {
            "marker": {
             "line": {
              "color": "#E5ECF6",
              "width": 0.5
             },
             "pattern": {
              "fillmode": "overlay",
              "size": 10,
              "solidity": 0.2
             }
            },
            "type": "barpolar"
           }
          ],
          "carpet": [
           {
            "aaxis": {
             "endlinecolor": "#2a3f5f",
             "gridcolor": "white",
             "linecolor": "white",
             "minorgridcolor": "white",
             "startlinecolor": "#2a3f5f"
            },
            "baxis": {
             "endlinecolor": "#2a3f5f",
             "gridcolor": "white",
             "linecolor": "white",
             "minorgridcolor": "white",
             "startlinecolor": "#2a3f5f"
            },
            "type": "carpet"
           }
          ],
          "choropleth": [
           {
            "colorbar": {
             "outlinewidth": 0,
             "ticks": ""
            },
            "type": "choropleth"
           }
          ],
          "contour": [
           {
            "colorbar": {
             "outlinewidth": 0,
             "ticks": ""
            },
            "colorscale": [
             [
              0,
              "#0d0887"
             ],
             [
              0.1111111111111111,
              "#46039f"
             ],
             [
              0.2222222222222222,
              "#7201a8"
             ],
             [
              0.3333333333333333,
              "#9c179e"
             ],
             [
              0.4444444444444444,
              "#bd3786"
             ],
             [
              0.5555555555555556,
              "#d8576b"
             ],
             [
              0.6666666666666666,
              "#ed7953"
             ],
             [
              0.7777777777777778,
              "#fb9f3a"
             ],
             [
              0.8888888888888888,
              "#fdca26"
             ],
             [
              1,
              "#f0f921"
             ]
            ],
            "type": "contour"
           }
          ],
          "contourcarpet": [
           {
            "colorbar": {
             "outlinewidth": 0,
             "ticks": ""
            },
            "type": "contourcarpet"
           }
          ],
          "heatmap": [
           {
            "colorbar": {
             "outlinewidth": 0,
             "ticks": ""
            },
            "colorscale": [
             [
              0,
              "#0d0887"
             ],
             [
              0.1111111111111111,
              "#46039f"
             ],
             [
              0.2222222222222222,
              "#7201a8"
             ],
             [
              0.3333333333333333,
              "#9c179e"
             ],
             [
              0.4444444444444444,
              "#bd3786"
             ],
             [
              0.5555555555555556,
              "#d8576b"
             ],
             [
              0.6666666666666666,
              "#ed7953"
             ],
             [
              0.7777777777777778,
              "#fb9f3a"
             ],
             [
              0.8888888888888888,
              "#fdca26"
             ],
             [
              1,
              "#f0f921"
             ]
            ],
            "type": "heatmap"
           }
          ],
          "histogram": [
           {
            "marker": {
             "pattern": {
              "fillmode": "overlay",
              "size": 10,
              "solidity": 0.2
             }
            },
            "type": "histogram"
           }
          ],
          "histogram2d": [
           {
            "colorbar": {
             "outlinewidth": 0,
             "ticks": ""
            },
            "colorscale": [
             [
              0,
              "#0d0887"
             ],
             [
              0.1111111111111111,
              "#46039f"
             ],
             [
              0.2222222222222222,
              "#7201a8"
             ],
             [
              0.3333333333333333,
              "#9c179e"
             ],
             [
              0.4444444444444444,
              "#bd3786"
             ],
             [
              0.5555555555555556,
              "#d8576b"
             ],
             [
              0.6666666666666666,
              "#ed7953"
             ],
             [
              0.7777777777777778,
              "#fb9f3a"
             ],
             [
              0.8888888888888888,
              "#fdca26"
             ],
             [
              1,
              "#f0f921"
             ]
            ],
            "type": "histogram2d"
           }
          ],
          "histogram2dcontour": [
           {
            "colorbar": {
             "outlinewidth": 0,
             "ticks": ""
            },
            "colorscale": [
             [
              0,
              "#0d0887"
             ],
             [
              0.1111111111111111,
              "#46039f"
             ],
             [
              0.2222222222222222,
              "#7201a8"
             ],
             [
              0.3333333333333333,
              "#9c179e"
             ],
             [
              0.4444444444444444,
              "#bd3786"
             ],
             [
              0.5555555555555556,
              "#d8576b"
             ],
             [
              0.6666666666666666,
              "#ed7953"
             ],
             [
              0.7777777777777778,
              "#fb9f3a"
             ],
             [
              0.8888888888888888,
              "#fdca26"
             ],
             [
              1,
              "#f0f921"
             ]
            ],
            "type": "histogram2dcontour"
           }
          ],
          "mesh3d": [
           {
            "colorbar": {
             "outlinewidth": 0,
             "ticks": ""
            },
            "type": "mesh3d"
           }
          ],
          "parcoords": [
           {
            "line": {
             "colorbar": {
              "outlinewidth": 0,
              "ticks": ""
             }
            },
            "type": "parcoords"
           }
          ],
          "pie": [
           {
            "automargin": true,
            "type": "pie"
           }
          ],
          "scatter": [
           {
            "fillpattern": {
             "fillmode": "overlay",
             "size": 10,
             "solidity": 0.2
            },
            "type": "scatter"
           }
          ],
          "scatter3d": [
           {
            "line": {
             "colorbar": {
              "outlinewidth": 0,
              "ticks": ""
             }
            },
            "marker": {
             "colorbar": {
              "outlinewidth": 0,
              "ticks": ""
             }
            },
            "type": "scatter3d"
           }
          ],
          "scattercarpet": [
           {
            "marker": {
             "colorbar": {
              "outlinewidth": 0,
              "ticks": ""
             }
            },
            "type": "scattercarpet"
           }
          ],
          "scattergeo": [
           {
            "marker": {
             "colorbar": {
              "outlinewidth": 0,
              "ticks": ""
             }
            },
            "type": "scattergeo"
           }
          ],
          "scattergl": [
           {
            "marker": {
             "colorbar": {
              "outlinewidth": 0,
              "ticks": ""
             }
            },
            "type": "scattergl"
           }
          ],
          "scattermap": [
           {
            "marker": {
             "colorbar": {
              "outlinewidth": 0,
              "ticks": ""
             }
            },
            "type": "scattermap"
           }
          ],
          "scattermapbox": [
           {
            "marker": {
             "colorbar": {
              "outlinewidth": 0,
              "ticks": ""
             }
            },
            "type": "scattermapbox"
           }
          ],
          "scatterpolar": [
           {
            "marker": {
             "colorbar": {
              "outlinewidth": 0,
              "ticks": ""
             }
            },
            "type": "scatterpolar"
           }
          ],
          "scatterpolargl": [
           {
            "marker": {
             "colorbar": {
              "outlinewidth": 0,
              "ticks": ""
             }
            },
            "type": "scatterpolargl"
           }
          ],
          "scatterternary": [
           {
            "marker": {
             "colorbar": {
              "outlinewidth": 0,
              "ticks": ""
             }
            },
            "type": "scatterternary"
           }
          ],
          "surface": [
           {
            "colorbar": {
             "outlinewidth": 0,
             "ticks": ""
            },
            "colorscale": [
             [
              0,
              "#0d0887"
             ],
             [
              0.1111111111111111,
              "#46039f"
             ],
             [
              0.2222222222222222,
              "#7201a8"
             ],
             [
              0.3333333333333333,
              "#9c179e"
             ],
             [
              0.4444444444444444,
              "#bd3786"
             ],
             [
              0.5555555555555556,
              "#d8576b"
             ],
             [
              0.6666666666666666,
              "#ed7953"
             ],
             [
              0.7777777777777778,
              "#fb9f3a"
             ],
             [
              0.8888888888888888,
              "#fdca26"
             ],
             [
              1,
              "#f0f921"
             ]
            ],
            "type": "surface"
           }
          ],
          "table": [
           {
            "cells": {
             "fill": {
              "color": "#EBF0F8"
             },
             "line": {
              "color": "white"
             }
            },
            "header": {
             "fill": {
              "color": "#C8D4E3"
             },
             "line": {
              "color": "white"
             }
            },
            "type": "table"
           }
          ]
         },
         "layout": {
          "annotationdefaults": {
           "arrowcolor": "#2a3f5f",
           "arrowhead": 0,
           "arrowwidth": 1
          },
          "autotypenumbers": "strict",
          "coloraxis": {
           "colorbar": {
            "outlinewidth": 0,
            "ticks": ""
           }
          },
          "colorscale": {
           "diverging": [
            [
             0,
             "#8e0152"
            ],
            [
             0.1,
             "#c51b7d"
            ],
            [
             0.2,
             "#de77ae"
            ],
            [
             0.3,
             "#f1b6da"
            ],
            [
             0.4,
             "#fde0ef"
            ],
            [
             0.5,
             "#f7f7f7"
            ],
            [
             0.6,
             "#e6f5d0"
            ],
            [
             0.7,
             "#b8e186"
            ],
            [
             0.8,
             "#7fbc41"
            ],
            [
             0.9,
             "#4d9221"
            ],
            [
             1,
             "#276419"
            ]
           ],
           "sequential": [
            [
             0,
             "#0d0887"
            ],
            [
             0.1111111111111111,
             "#46039f"
            ],
            [
             0.2222222222222222,
             "#7201a8"
            ],
            [
             0.3333333333333333,
             "#9c179e"
            ],
            [
             0.4444444444444444,
             "#bd3786"
            ],
            [
             0.5555555555555556,
             "#d8576b"
            ],
            [
             0.6666666666666666,
             "#ed7953"
            ],
            [
             0.7777777777777778,
             "#fb9f3a"
            ],
            [
             0.8888888888888888,
             "#fdca26"
            ],
            [
             1,
             "#f0f921"
            ]
           ],
           "sequentialminus": [
            [
             0,
             "#0d0887"
            ],
            [
             0.1111111111111111,
             "#46039f"
            ],
            [
             0.2222222222222222,
             "#7201a8"
            ],
            [
             0.3333333333333333,
             "#9c179e"
            ],
            [
             0.4444444444444444,
             "#bd3786"
            ],
            [
             0.5555555555555556,
             "#d8576b"
            ],
            [
             0.6666666666666666,
             "#ed7953"
            ],
            [
             0.7777777777777778,
             "#fb9f3a"
            ],
            [
             0.8888888888888888,
             "#fdca26"
            ],
            [
             1,
             "#f0f921"
            ]
           ]
          },
          "colorway": [
           "#636efa",
           "#EF553B",
           "#00cc96",
           "#ab63fa",
           "#FFA15A",
           "#19d3f3",
           "#FF6692",
           "#B6E880",
           "#FF97FF",
           "#FECB52"
          ],
          "font": {
           "color": "#2a3f5f"
          },
          "geo": {
           "bgcolor": "white",
           "lakecolor": "white",
           "landcolor": "#E5ECF6",
           "showlakes": true,
           "showland": true,
           "subunitcolor": "white"
          },
          "hoverlabel": {
           "align": "left"
          },
          "hovermode": "closest",
          "mapbox": {
           "style": "light"
          },
          "paper_bgcolor": "white",
          "plot_bgcolor": "#E5ECF6",
          "polar": {
           "angularaxis": {
            "gridcolor": "white",
            "linecolor": "white",
            "ticks": ""
           },
           "bgcolor": "#E5ECF6",
           "radialaxis": {
            "gridcolor": "white",
            "linecolor": "white",
            "ticks": ""
           }
          },
          "scene": {
           "xaxis": {
            "backgroundcolor": "#E5ECF6",
            "gridcolor": "white",
            "gridwidth": 2,
            "linecolor": "white",
            "showbackground": true,
            "ticks": "",
            "zerolinecolor": "white"
           },
           "yaxis": {
            "backgroundcolor": "#E5ECF6",
            "gridcolor": "white",
            "gridwidth": 2,
            "linecolor": "white",
            "showbackground": true,
            "ticks": "",
            "zerolinecolor": "white"
           },
           "zaxis": {
            "backgroundcolor": "#E5ECF6",
            "gridcolor": "white",
            "gridwidth": 2,
            "linecolor": "white",
            "showbackground": true,
            "ticks": "",
            "zerolinecolor": "white"
           }
          },
          "shapedefaults": {
           "line": {
            "color": "#2a3f5f"
           }
          },
          "ternary": {
           "aaxis": {
            "gridcolor": "white",
            "linecolor": "white",
            "ticks": ""
           },
           "baxis": {
            "gridcolor": "white",
            "linecolor": "white",
            "ticks": ""
           },
           "bgcolor": "#E5ECF6",
           "caxis": {
            "gridcolor": "white",
            "linecolor": "white",
            "ticks": ""
           }
          },
          "title": {
           "x": 0.05
          },
          "xaxis": {
           "automargin": true,
           "gridcolor": "white",
           "linecolor": "white",
           "ticks": "",
           "title": {
            "standoff": 15
           },
           "zerolinecolor": "white",
           "zerolinewidth": 2
          },
          "yaxis": {
           "automargin": true,
           "gridcolor": "white",
           "linecolor": "white",
           "ticks": "",
           "title": {
            "standoff": 15
           },
           "zerolinecolor": "white",
           "zerolinewidth": 2
          }
         }
        },
        "title": {
         "text": "Comparativo HEC vs DM con Banda de Desviación"
        },
        "xaxis": {
         "tickfont": {
          "size": 9
         },
         "title": {
          "text": "Semana"
         }
        },
        "yaxis": {
         "title": {
          "text": "SOUTMONTODESPBRT"
         }
        }
       }
      }
     },
     "metadata": {},
     "output_type": "display_data"
    }
   ],
   "source": [
    "# Gráfica que compara lo que hay en hechos y en DM\n",
    "df_dm = read_sql_upper(query_dm, conn_sf, PaisSF)\n",
    "df_hec = read_sql_upper(query_hec, conn_sf, PaisSF)\n",
    "generar_grafico_comparativo(\n",
    "    df_hec, \n",
    "    df_dm, \n",
    "    campo_metrica=\"SOUTMONTODESPBRT\",\n",
    "    titulo=\"Comparativo HEC vs DM con Banda de Desviación\",\n",
    "    archivo_salida=\"pagina_figura.pdf\",\n",
    "    mostrar_bandas=True,\n",
    "    \n",
    "    referencia_estadisticas=\"prd\"\n",
    ")"
   ]
  },
  {
   "cell_type": "code",
   "execution_count": null,
   "id": "5c84b360",
   "metadata": {},
   "outputs": [],
   "source": [
    "raise SystemExit(\"Stop para revisión\")"
   ]
  },
  {
   "cell_type": "code",
   "execution_count": null,
   "id": "80bbc943",
   "metadata": {},
   "outputs": [
    {
     "name": "stdout",
     "output_type": "stream",
     "text": [
      "Resultado devuelto por el SP en DEV_:\n",
      "('Registros eliminados= 1221, copiados= 1221 con parámetros: PAISES=[10], GRPS=[NO APLICADO] SEMID=[1339-1339] (ANIOMES_INI=202534, ANIOMES_FIN=202534) ',)\n"
     ]
    }
   ],
   "source": [
    "# Si todo está bien, hay que llamar al sp para insertar a DM\n",
    "try:\n",
    "    paisid = \",\".join(sorted({str(x).strip() for x in PaisSF if x}))\n",
    "\n",
    "    sql_call = f\"\"\"\n",
    "        CALL {ambiente}STG.GNM_MEX.SP_COPIAR_FACT_SO_SEM_CAD_SKU_DM('{paisid}', '', {semana_inicio}, {semana_fin});\n",
    "    \"\"\"\n",
    "\n",
    "    cursor.execute(sql_call)\n",
    "\n",
    "    # Si el SP devuelve un resultset (tabla)\n",
    "    result = cursor.fetchall()\n",
    "    if result:\n",
    "        print(f\"Resultado devuelto por el SP en {ambiente}:\")\n",
    "        for row in result:\n",
    "            print(row)\n",
    "\n",
    "    # Si el SP devuelve un único valor (RETURN simple)\n",
    "    one = cursor.fetchone()\n",
    "    if one:\n",
    "        print(\"Valor devuelto por el SP:\", one[0])\n",
    "\n",
    "except Exception as e:\n",
    "    print(\"Error al ejecutar el SP:\", e)\n"
   ]
  },
  {
   "cell_type": "markdown",
   "id": "ea06c507",
   "metadata": {},
   "source": [
    "##### Validación de datos insertados vs df_final"
   ]
  },
  {
   "cell_type": "code",
   "execution_count": null,
   "id": "d15c13a9",
   "metadata": {},
   "outputs": [
    {
     "name": "stdout",
     "output_type": "stream",
     "text": [
      "🔹 No se encontraron diferencias entre los datos insertados en DM en DEV_ y el df de carga obtenido del archivo.\n"
     ]
    }
   ],
   "source": [
    "# validar datos_insertados\n",
    "df_dm2 = read_sql_upper(query_dm2, conn_sf, PaisSF)\n",
    "valida = df_sum_srzh.merge(df_dm2, on=['PAISID', 'SEMID'], how='left', suffixes=('', '_insertado'))\n",
    "# Crear DataFrame de diferencias\n",
    "diferencias = pd.DataFrame({\n",
    "    col: ~np.isclose(valida[col], valida[f\"{col}_insertado\"], atol=1e-2)\n",
    "    for col in columnas\n",
    "})\n",
    "# Filas donde hay al menos una diferencia\n",
    "filas_con_dif = diferencias.loc[:, diferencias.any()].any(axis=1)\n",
    "# Si hay diferencias\n",
    "if filas_con_dif.any():\n",
    "    # Columnas a mostrar\n",
    "    columnas_dif = list(diferencias.columns)\n",
    "    columnas_mostrar = ['PAISID', 'SEMID'] + sum([[col, f\"{col}_insertado\"] for col in columnas_dif], [])\n",
    "    # DataFrame con diferencias\n",
    "    filas_diferentes = valida.loc[filas_con_dif, columnas_mostrar]\n",
    "    # Estilo: resaltar las diferencias en rojo\n",
    "    print(\"Diferencias encontradas:\")\n",
    "    display( filas_diferentes.style.apply(\n",
    "        lambda row: resaltar_diferencias(row, columnas, diferencias),\n",
    "        axis=1\n",
    "    ))\n",
    "else:\n",
    "    print(f\"🔹 No se encontraron diferencias entre los datos insertados en DM en {ambiente} y el df de carga obtenido del archivo.\")\n"
   ]
  }
 ],
 "metadata": {
  "kernelspec": {
   "display_name": ".venv (3.12.1)",
   "language": "python",
   "name": "python3"
  },
  "language_info": {
   "codemirror_mode": {
    "name": "ipython",
    "version": 3
   },
   "file_extension": ".py",
   "mimetype": "text/x-python",
   "name": "python",
   "nbconvert_exporter": "python",
   "pygments_lexer": "ipython3",
   "version": "3.12.1"
  }
 },
 "nbformat": 4,
 "nbformat_minor": 5
}
